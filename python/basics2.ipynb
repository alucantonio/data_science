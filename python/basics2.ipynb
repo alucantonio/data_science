{
 "cells": [
  {
   "cell_type": "markdown",
   "id": "33fb5dd4-d471-43c4-bb18-598cb5521749",
   "metadata": {},
   "source": [
    "# Python Basics - Part 2"
   ]
  },
  {
   "cell_type": "markdown",
   "id": "2171418f-2a30-4708-aa52-6850f3b0f875",
   "metadata": {},
   "source": [
    "## If-else statement"
   ]
  },
  {
   "cell_type": "markdown",
   "id": "a979916c-9c20-4f5b-bac1-ccced2939c20",
   "metadata": {},
   "source": [
    "`if-else` statements allow to run different sets of statements based on a set of alternatives.\n"
   ]
  },
  {
   "cell_type": "code",
   "execution_count": 13,
   "id": "ab0cb401-027a-4c93-b1bc-710881c9759d",
   "metadata": {},
   "outputs": [
    {
     "name": "stdout",
     "output_type": "stream",
     "text": [
      "47 is an odd number\n"
     ]
    }
   ],
   "source": [
    "# print the parity of a given number\n",
    "n = 47\n",
    "if n%2 == 0:\n",
    "    print(f\"{n} is an even number\")\n",
    "else:\n",
    "    print(f\"{p} is an odd number\")"
   ]
  },
  {
   "cell_type": "code",
   "execution_count": 16,
   "id": "3703a404-b0f2-4425-ad8c-61891fddb290",
   "metadata": {},
   "outputs": [
    {
     "name": "stdout",
     "output_type": "stream",
     "text": [
      "6\n"
     ]
    }
   ],
   "source": [
    "# print a number only if it's multiple of 2 or 3\n",
    "n = 6\n",
    "if n%2 == 0 or n%3 == 0:\n",
    "    print(n)\n",
    "else:\n",
    "    # do nothing\n",
    "    pass"
   ]
  },
  {
   "cell_type": "markdown",
   "id": "11c52e35-f9ae-4f73-85c7-3043226fb0d3",
   "metadata": {},
   "source": [
    "We use `elif` to handle more than two statements:"
   ]
  },
  {
   "cell_type": "code",
   "execution_count": 19,
   "id": "2b0fdf95-c487-41b0-b661-e72f4316b5dd",
   "metadata": {},
   "outputs": [
    {
     "name": "stdout",
     "output_type": "stream",
     "text": [
      "36\n"
     ]
    }
   ],
   "source": [
    "# compute the square of a number if its even, its cube if its divisible by 3,\n",
    "# otherwise the starting number \n",
    "n = 6\n",
    "\n",
    "if n%2 == 0:\n",
    "    print(n**2)\n",
    "elif n%3 == 0:\n",
    "    print(n**3)\n",
    "else:\n",
    "    print(n)"
   ]
  },
  {
   "cell_type": "markdown",
   "id": "1835fa6d-7229-4ea0-951c-076ff7316465",
   "metadata": {},
   "source": [
    "## For loop"
   ]
  },
  {
   "cell_type": "markdown",
   "id": "0def7c01-e85d-4a8e-a098-73b220974035",
   "metadata": {},
   "source": [
    "The `for` loop goes through items of an iterable object.\n",
    "It behaves differently according to the data/container type on which we iterate."
   ]
  },
  {
   "cell_type": "markdown",
   "id": "d1820a6d-3a14-4c6b-b8b8-4de0919bf753",
   "metadata": {},
   "source": [
    "### Iterating over a list\n",
    " "
   ]
  },
  {
   "cell_type": "code",
   "execution_count": 24,
   "id": "70effba2-33b1-41e3-8682-39ce1cd81c05",
   "metadata": {
    "tags": []
   },
   "outputs": [
    {
     "name": "stdout",
     "output_type": "stream",
     "text": [
      "1\n",
      "4\n",
      "Aarhus\n",
      "29\n"
     ]
    }
   ],
   "source": [
    "l = [1, 4, \"Aarhus\", 29]\n",
    "# print all the elements of the list\n",
    "for elem in l:\n",
    "    print(elem)"
   ]
  },
  {
   "cell_type": "markdown",
   "id": "10fe2582-dd4c-4f93-a3ea-27310dfb3279",
   "metadata": {},
   "source": [
    "#### enumerate"
   ]
  },
  {
   "cell_type": "markdown",
   "id": "e73730d8-6184-4625-866b-a2ebbd16ddd3",
   "metadata": {},
   "source": [
    "What if, in the previous example, we also want to print the indexes of the items of the list? We can use the method `enumerate()`:"
   ]
  },
  {
   "cell_type": "code",
   "execution_count": 25,
   "id": "1087cb08-6b72-4db4-9059-9ee7ef440ded",
   "metadata": {
    "tags": []
   },
   "outputs": [
    {
     "name": "stdout",
     "output_type": "stream",
     "text": [
      "[(0, 1), (1, 4), (2, 'Aarhus'), (3, 29)]\n"
     ]
    }
   ],
   "source": [
    "# basic example (note that enumerate returns an iterator)\n",
    "print(list(enumerate(l)))"
   ]
  },
  {
   "cell_type": "code",
   "execution_count": 26,
   "id": "2e127d29-dd72-4522-89f5-db6edbac1e07",
   "metadata": {
    "tags": []
   },
   "outputs": [
    {
     "name": "stdout",
     "output_type": "stream",
     "text": [
      "The 0-element of the list is 1\n",
      "The 1-element of the list is 4\n",
      "The 2-element of the list is Aarhus\n",
      "The 3-element of the list is 29\n"
     ]
    }
   ],
   "source": [
    "for index, elem in enumerate(l):\n",
    "    print(f\"The {index}-element of the list is {elem}\")"
   ]
  },
  {
   "cell_type": "markdown",
   "id": "d6264eac-48e4-4257-9a19-720fcddbd24a",
   "metadata": {},
   "source": [
    "### Iterating over a tuple "
   ]
  },
  {
   "cell_type": "code",
   "execution_count": 27,
   "id": "e04f14e6-d5ca-43af-8f21-ef4930602f7a",
   "metadata": {
    "tags": []
   },
   "outputs": [
    {
     "name": "stdout",
     "output_type": "stream",
     "text": [
      "1\n",
      "2\n",
      "3\n"
     ]
    }
   ],
   "source": [
    "# same as for lists\n",
    "t = (1,2,3)\n",
    "for elem in t:\n",
    "    print(elem)"
   ]
  },
  {
   "cell_type": "markdown",
   "id": "d00911ec-9e28-4fbb-a2b6-996ca640cd86",
   "metadata": {},
   "source": [
    "### Iterating over a dictionary "
   ]
  },
  {
   "cell_type": "code",
   "execution_count": 28,
   "id": "0ba7968f-8c04-40ba-a0e0-36df4739205d",
   "metadata": {
    "tags": []
   },
   "outputs": [
    {
     "name": "stdout",
     "output_type": "stream",
     "text": [
      "key1\n",
      "key2\n",
      "key3\n"
     ]
    }
   ],
   "source": [
    "d = {\"key1\": 1, \"key2\":2, \"key3\": 3}\n",
    "# loops over the keys of the dictionary\n",
    "for key in d:\n",
    "    print(key)"
   ]
  },
  {
   "cell_type": "code",
   "execution_count": 29,
   "id": "a5e1f29e-8192-480b-994c-e72324e7cce6",
   "metadata": {
    "tags": []
   },
   "outputs": [
    {
     "name": "stdout",
     "output_type": "stream",
     "text": [
      "The key key1 contains the value 1\n",
      "The key key2 contains the value 2\n",
      "The key key3 contains the value 3\n"
     ]
    }
   ],
   "source": [
    "# loop over the key:value pairs\n",
    "for key, value in d.items():\n",
    "    print(f\"The key {key} contains the value {value}\")"
   ]
  },
  {
   "cell_type": "code",
   "execution_count": 30,
   "id": "8d1d3094-a4cf-4ea7-a3ad-92b642767dbb",
   "metadata": {
    "tags": []
   },
   "outputs": [
    {
     "name": "stdout",
     "output_type": "stream",
     "text": [
      "1\n",
      "2\n",
      "3\n"
     ]
    }
   ],
   "source": [
    "# loop over the values\n",
    "for value in d.values():\n",
    "    print(value)"
   ]
  },
  {
   "cell_type": "markdown",
   "id": "1d75fc8f-d21d-456f-903c-5854d99e6bac",
   "metadata": {},
   "source": [
    "### Iterating over a string"
   ]
  },
  {
   "cell_type": "code",
   "execution_count": 31,
   "id": "2139bf5f-3620-4fa4-b373-99b9d31e708f",
   "metadata": {
    "tags": []
   },
   "outputs": [
    {
     "name": "stdout",
     "output_type": "stream",
     "text": [
      "A\n",
      "a\n",
      "r\n",
      "h\n",
      "u\n",
      "s\n"
     ]
    }
   ],
   "source": [
    "s = \"Aarhus\"\n",
    "for letter in s:\n",
    "    print(letter)"
   ]
  },
  {
   "cell_type": "markdown",
   "id": "85de392b-4099-4005-ba0f-7e1bbfda2e66",
   "metadata": {},
   "source": [
    "### List comprehension"
   ]
  },
  {
   "cell_type": "markdown",
   "id": "e1ddff0a-824f-4ed3-a314-9e78f8fa55c9",
   "metadata": {},
   "source": [
    "List comprehension offers a shorter syntax when you want to create a new list based on the values of an existing list."
   ]
  },
  {
   "cell_type": "code",
   "execution_count": 32,
   "id": "3a62a0f0-7dd7-46f7-93b1-1f37f959cf69",
   "metadata": {
    "tags": []
   },
   "outputs": [
    {
     "data": {
      "text/plain": [
       "[1, 4, 9, 16, 25]"
      ]
     },
     "execution_count": 32,
     "metadata": {},
     "output_type": "execute_result"
    }
   ],
   "source": [
    "# one line code to build the \"square list\" of a given list\n",
    "l = [1,2,3,4,5]\n",
    "l_square = [i**2 for i in l]\n",
    "l_square"
   ]
  },
  {
   "cell_type": "code",
   "execution_count": 33,
   "id": "71cbaf1a-9961-4b47-a033-2ed5057b6a10",
   "metadata": {
    "tags": []
   },
   "outputs": [
    {
     "data": {
      "text/plain": [
       "[1, 8, 9, 64, 25]"
      ]
     },
     "execution_count": 33,
     "metadata": {},
     "output_type": "execute_result"
    }
   ],
   "source": [
    "# list of squares of even-indexed terms and cubes of odd-indexed terms\n",
    "l = [1,2,3,4,5]\n",
    "l_mix = [i**2 if index%2 == 0 else i**3 for index, i in enumerate(l)]\n",
    "l_mix"
   ]
  },
  {
   "cell_type": "markdown",
   "id": "0ba7c4c7-356e-4545-add8-9fd970647161",
   "metadata": {},
   "source": [
    "## While loop"
   ]
  },
  {
   "cell_type": "markdown",
   "id": "6fce9fa2-d346-4468-bb45-27db29e78e1d",
   "metadata": {},
   "source": [
    "A while statement repeatedly executes a single statement or a group of statements, as long as the condition is true."
   ]
  },
  {
   "cell_type": "code",
   "execution_count": 34,
   "id": "6b622897-eadb-4aba-9615-74c8c7332b3d",
   "metadata": {
    "tags": []
   },
   "outputs": [
    {
     "name": "stdout",
     "output_type": "stream",
     "text": [
      "x=0\n",
      "Since 0<10, update x\n",
      "x=1\n",
      "Since 1<10, update x\n",
      "x=2\n",
      "Since 2<10, update x\n",
      "x=3\n",
      "Since 3<10, update x\n",
      "x=4\n",
      "Since 4<10, update x\n",
      "x=5\n",
      "Since 5<10, update x\n",
      "x=6\n",
      "Since 6<10, update x\n",
      "x=7\n",
      "Since 7<10, update x\n",
      "x=8\n",
      "Since 8<10, update x\n",
      "x=9\n",
      "Since 9<10, update x\n"
     ]
    }
   ],
   "source": [
    "x = 0\n",
    "\n",
    "while x < 10:\n",
    "    print(f\"x={x}\")\n",
    "    print(f\"Since {x}<10, update x\")\n",
    "    x+=1"
   ]
  },
  {
   "cell_type": "markdown",
   "id": "a9c1efcc-27c2-47a2-9fd3-c28a00907bdf",
   "metadata": {},
   "source": [
    "### Break and continue"
   ]
  },
  {
   "cell_type": "markdown",
   "id": "3a3eb1b5-4d51-4f32-a9dd-7637807c33ba",
   "metadata": {},
   "source": [
    "The `break` statement exits the current loop. The `continue` statement executes the next iteration of the loop, while skipping the rest of the code for the current iteration."
   ]
  },
  {
   "cell_type": "code",
   "execution_count": 35,
   "id": "c0a69eeb-457e-4c68-9285-cb33ffe0d4d7",
   "metadata": {
    "tags": []
   },
   "outputs": [
    {
     "name": "stdout",
     "output_type": "stream",
     "text": [
      "x=0\n",
      "Since 0<10, update x\n",
      "Go on\n",
      "x=1\n",
      "Since 1<10, update x\n",
      "Go on\n",
      "x=2\n",
      "Since 2<10, update x\n",
      "Break! x=3\n"
     ]
    }
   ],
   "source": [
    "x = 0\n",
    "\n",
    "while x < 10:\n",
    "    print(f\"x={x}\")\n",
    "    print(f\"Since {x}<10, update x\")\n",
    "    x+=1\n",
    "    if x==3:\n",
    "        print(\"Break! x=3\")\n",
    "        break\n",
    "    else:\n",
    "        print('Go on')\n",
    "        continue\n"
   ]
  },
  {
   "cell_type": "markdown",
   "id": "a0fb6987-5287-4902-bbe3-db8bb7919a41",
   "metadata": {},
   "source": [
    "## Functions"
   ]
  },
  {
   "cell_type": "markdown",
   "id": "27989409-ef0e-41c1-a8c3-d4fdaaa63a08",
   "metadata": {},
   "source": [
    "A function groups together a set of statements (helps to reuse code and reduce redundancy). It takes arguments as inputs and may return values/objects and/or modify the inputs.\n"
   ]
  },
  {
   "cell_type": "code",
   "execution_count": 36,
   "id": "fda2034f-4308-4cdb-a432-326a21b53cfc",
   "metadata": {
    "tags": []
   },
   "outputs": [],
   "source": [
    "# a function that computes the square of a number\n",
    "def square(num):\n",
    "    # indentation is CRUCIAL to define the body of the function\n",
    "    square_num = num**2\n",
    "    return square_num"
   ]
  },
  {
   "cell_type": "code",
   "execution_count": 37,
   "id": "75b57c46-b425-4eb0-b387-706f7a9b30e3",
   "metadata": {
    "tags": []
   },
   "outputs": [
    {
     "name": "stdout",
     "output_type": "stream",
     "text": [
      "25\n",
      "25\n"
     ]
    }
   ],
   "source": [
    "n = 5\n",
    "# Passing arguments by name (keyword arguments)\n",
    "print(square(num=n))\n",
    "# Passing arguments following their order in the function definition (non-keyword arguments)\n",
    "print(square(n))"
   ]
  },
  {
   "cell_type": "markdown",
   "id": "0ecc7eb8-ef49-44bf-bba8-075b59459056",
   "metadata": {},
   "source": [
    "Pay attention: all the keyword arguments must be after all the non-keyword arguments. Moreover the arguments' order matters only for non-keyword arguments. "
   ]
  },
  {
   "cell_type": "code",
   "execution_count": 38,
   "id": "6a84f7a7-c7b2-4480-a635-c97318e3af0b",
   "metadata": {
    "tags": []
   },
   "outputs": [],
   "source": [
    "def div(a, b):\n",
    "    return a/b"
   ]
  },
  {
   "cell_type": "code",
   "execution_count": 39,
   "id": "ddfdc01f-212f-4046-813f-49dd26c00647",
   "metadata": {
    "tags": []
   },
   "outputs": [
    {
     "ename": "SyntaxError",
     "evalue": "positional argument follows keyword argument (1113319494.py, line 4)",
     "output_type": "error",
     "traceback": [
      "\u001b[0;36m  Cell \u001b[0;32mIn[39], line 4\u001b[0;36m\u001b[0m\n\u001b[0;31m    div(a = a, b)\u001b[0m\n\u001b[0m                ^\u001b[0m\n\u001b[0;31mSyntaxError\u001b[0m\u001b[0;31m:\u001b[0m positional argument follows keyword argument\n"
     ]
    }
   ],
   "source": [
    "a = 5\n",
    "b = 6\n",
    "# WRONG\n",
    "div(a = a, b)"
   ]
  },
  {
   "cell_type": "code",
   "execution_count": 40,
   "id": "acea0bca-941b-4230-be00-eaa7ea85ffd8",
   "metadata": {
    "tags": []
   },
   "outputs": [
    {
     "data": {
      "text/plain": [
       "0.8333333333333334"
      ]
     },
     "execution_count": 40,
     "metadata": {},
     "output_type": "execute_result"
    }
   ],
   "source": [
    "# correct\n",
    "a = 5\n",
    "b = 6\n",
    "div(a=a, b=b)"
   ]
  },
  {
   "cell_type": "code",
   "execution_count": 41,
   "id": "83d73af0-5d75-493f-8424-ced68ad62983",
   "metadata": {
    "tags": []
   },
   "outputs": [
    {
     "data": {
      "text/plain": [
       "0.8333333333333334"
      ]
     },
     "execution_count": 41,
     "metadata": {},
     "output_type": "execute_result"
    }
   ],
   "source": [
    "# also correct (order does not matter for keyword arguments)\n",
    "a = 5\n",
    "b = 6\n",
    "div(b=b, a=a)"
   ]
  },
  {
   "cell_type": "code",
   "execution_count": 42,
   "id": "c1684e45-eb3a-48aa-8db0-d07b877763c3",
   "metadata": {
    "tags": []
   },
   "outputs": [
    {
     "data": {
      "text/plain": [
       "0.8333333333333334"
      ]
     },
     "execution_count": 42,
     "metadata": {},
     "output_type": "execute_result"
    }
   ],
   "source": [
    "# also correct (non-keyword arguments, passed in the right order)\n",
    "a = 5\n",
    "b = 6\n",
    "div(a, b)"
   ]
  },
  {
   "cell_type": "markdown",
   "id": "95dda521-13c6-4e03-a788-df07cdee9729",
   "metadata": {},
   "source": [
    "We can define *default* values for the arguments of a function:"
   ]
  },
  {
   "cell_type": "code",
   "execution_count": 43,
   "id": "1ddc429d-0b0f-4847-8ed9-e7a8ef7206b7",
   "metadata": {
    "tags": []
   },
   "outputs": [],
   "source": [
    "def multiply(a,b=2):\n",
    "    return a*b"
   ]
  },
  {
   "cell_type": "code",
   "execution_count": 44,
   "id": "31b645bd-f445-4329-8343-5eba75ea7044",
   "metadata": {
    "tags": []
   },
   "outputs": [
    {
     "name": "stdout",
     "output_type": "stream",
     "text": [
      "using default value for b: 10\n",
      "overriding default value for b: 35\n"
     ]
    }
   ],
   "source": [
    "print(f\"using default value for b: {multiply(5)}\")\n",
    "print(f\"overriding default value for b: {multiply(5,7)}\")"
   ]
  },
  {
   "cell_type": "markdown",
   "id": "3b981346-9166-42c1-99f9-4f733b46d0e8",
   "metadata": {},
   "source": [
    "### map function"
   ]
  },
  {
   "cell_type": "markdown",
   "id": "aa8427f9-ce6a-4aae-9689-7c98ee16f79c",
   "metadata": {},
   "source": [
    "`map` applies a given function to an iterable object and returns an iterator."
   ]
  },
  {
   "cell_type": "code",
   "execution_count": 45,
   "id": "a40eea06-557b-4807-90e9-ef1a6c11ef14",
   "metadata": {
    "tags": []
   },
   "outputs": [
    {
     "data": {
      "text/plain": [
       "<map at 0x7fbd182b9a20>"
      ]
     },
     "execution_count": 45,
     "metadata": {},
     "output_type": "execute_result"
    }
   ],
   "source": [
    "# apply square() to a list\n",
    "l = [1,2,3,4]\n",
    "map(square, l)"
   ]
  },
  {
   "cell_type": "code",
   "execution_count": 46,
   "id": "5eaf1e45-8558-4cad-9058-8999864d56a4",
   "metadata": {
    "tags": []
   },
   "outputs": [
    {
     "data": {
      "text/plain": [
       "[1, 4, 9, 16]"
      ]
     },
     "execution_count": 46,
     "metadata": {},
     "output_type": "execute_result"
    }
   ],
   "source": [
    "# to get the result we need to cast the previous object into a list\n",
    "list(map(square, l))"
   ]
  },
  {
   "cell_type": "markdown",
   "id": "3db7c51f-2602-49a3-b334-4efef26127aa",
   "metadata": {},
   "source": [
    "### lambda expression"
   ]
  },
  {
   "cell_type": "markdown",
   "id": "f5f89fba-6a62-41af-ad37-f522316591b3",
   "metadata": {},
   "source": [
    "This tool allow us to create anonymous functions, i.e. functions without the typical def statement."
   ]
  },
  {
   "cell_type": "code",
   "execution_count": 47,
   "id": "0cc3381d-912f-4ee7-8c97-e1f6abce61fa",
   "metadata": {
    "tags": []
   },
   "outputs": [
    {
     "data": {
      "text/plain": [
       "25"
      ]
     },
     "execution_count": 47,
     "metadata": {},
     "output_type": "execute_result"
    }
   ],
   "source": [
    "# create the function square() as a lambda expression (callable)\n",
    "square_lambda = lambda num: num**2\n",
    "square_lambda(5)"
   ]
  },
  {
   "cell_type": "code",
   "execution_count": 6,
   "id": "06d4b15c-9914-49c7-8e15-ab75341785bd",
   "metadata": {},
   "outputs": [
    {
     "data": {
      "text/plain": [
       "[1, 4, 9, 16]"
      ]
     },
     "execution_count": 6,
     "metadata": {},
     "output_type": "execute_result"
    }
   ],
   "source": [
    "# one-line code for the square of a given list\n",
    "l = [1,2,3,4]\n",
    "list(map(lambda num: num**2, l))"
   ]
  },
  {
   "cell_type": "markdown",
   "id": "ac46a733-d363-491b-a599-edf525e8a8dc",
   "metadata": {},
   "source": [
    "### `*args` and `**kwargs`"
   ]
  },
  {
   "cell_type": "markdown",
   "id": "8db7476f-5d62-4ec9-9402-c50bf7e6079a",
   "metadata": {},
   "source": [
    "These keywords allow to define functions with a variable number of arguments."
   ]
  },
  {
   "cell_type": "code",
   "execution_count": 49,
   "id": "45daf7d9-4320-4319-8087-9775c302f8dc",
   "metadata": {
    "tags": []
   },
   "outputs": [],
   "source": [
    "# compute the squared sum of the items of a tuple with variable length\n",
    "def sum_squared(*args):\n",
    "    # args is a tuple!\n",
    "    return sum(args)**2"
   ]
  },
  {
   "cell_type": "code",
   "execution_count": 50,
   "id": "2aa3da09-46a3-4ead-8c78-995068d7ae66",
   "metadata": {
    "tags": []
   },
   "outputs": [
    {
     "name": "stdout",
     "output_type": "stream",
     "text": [
      "4 arguments: 100\n",
      "6 arguments: 441\n",
      "8 arguments: 1296\n"
     ]
    }
   ],
   "source": [
    "print(f\"4 arguments: {sum_squared(1,2,3,4)}\")\n",
    "print(f\"6 arguments: {sum_squared(1,2,3,4,5,6)}\")\n",
    "print(f\"8 arguments: {sum_squared(1,2,3,4,5,6,7,8)}\")"
   ]
  },
  {
   "cell_type": "markdown",
   "id": "cce73191-dea0-435e-98b1-c757071a8bf0",
   "metadata": {},
   "source": [
    "Hence, `*args` allows to handle multiple non-keyword arguments. \n",
    "Instead, to handle multiple keyword arguments, we use `**kwargs`."
   ]
  },
  {
   "cell_type": "code",
   "execution_count": 23,
   "id": "6dff1c12-9826-4372-8919-32d691965689",
   "metadata": {},
   "outputs": [],
   "source": [
    "def presentation(**kwargs):\n",
    "    # kwargs is a dictionary!\n",
    "    for key,value in kwargs.items():\n",
    "        print(f\"My {key} is {value}.\")"
   ]
  },
  {
   "cell_type": "code",
   "execution_count": 25,
   "id": "d3ab10d1-26c2-4efe-a4bf-1897d166a2da",
   "metadata": {},
   "outputs": [
    {
     "name": "stdout",
     "output_type": "stream",
     "text": [
      "My name is Mickey.\n",
      "My surname is Mouse.\n",
      "My age is 94.\n",
      "My email is unknown.\n"
     ]
    }
   ],
   "source": [
    "presentation(name = \"Mickey\", surname=\"Mouse\", age=94, email =\"unknown\")"
   ]
  },
  {
   "cell_type": "markdown",
   "id": "3ebf9f01-741f-446e-86d7-56413e391def",
   "metadata": {},
   "source": [
    "## Imports"
   ]
  },
  {
   "cell_type": "markdown",
   "id": "16db2b7f-9bf4-4eff-ad94-1715b62a7b99",
   "metadata": {},
   "source": [
    "Python is a very widespread programming language, hence there are many libraries available.\n",
    "To use an installed library we have to `import` it."
   ]
  },
  {
   "cell_type": "code",
   "execution_count": 52,
   "id": "1b047ea4-998b-4d64-9976-83b6e85756bf",
   "metadata": {
    "tags": []
   },
   "outputs": [],
   "source": [
    "# import the full library\n",
    "import math"
   ]
  },
  {
   "cell_type": "code",
   "execution_count": 54,
   "id": "f97da04e-b7cf-4a93-8e36-7e0ba55607d5",
   "metadata": {
    "tags": []
   },
   "outputs": [
    {
     "data": {
      "text/plain": [
       "1.2246467991473532e-16"
      ]
     },
     "execution_count": 54,
     "metadata": {},
     "output_type": "execute_result"
    }
   ],
   "source": [
    "# compute the sine of a number\n",
    "math.sin(math.pi)"
   ]
  },
  {
   "cell_type": "code",
   "execution_count": 57,
   "id": "e89d2352-93f8-43e9-b2cc-dc5ac4d0629e",
   "metadata": {
    "tags": []
   },
   "outputs": [],
   "source": [
    "# import only some functions of the library\n",
    "from math import sin, pi"
   ]
  },
  {
   "cell_type": "code",
   "execution_count": 56,
   "id": "c7e7aaa9-7751-4765-b1d9-77ed0038be9a",
   "metadata": {
    "tags": []
   },
   "outputs": [
    {
     "data": {
      "text/plain": [
       "1.2246467991473532e-16"
      ]
     },
     "execution_count": 56,
     "metadata": {},
     "output_type": "execute_result"
    }
   ],
   "source": [
    "sin(pi)"
   ]
  }
 ],
 "metadata": {
  "kernelspec": {
   "display_name": "Python 3 (ipykernel)",
   "language": "python",
   "name": "python3"
  },
  "language_info": {
   "codemirror_mode": {
    "name": "ipython",
    "version": 3
   },
   "file_extension": ".py",
   "mimetype": "text/x-python",
   "name": "python",
   "nbconvert_exporter": "python",
   "pygments_lexer": "ipython3",
   "version": "3.11.3"
  }
 },
 "nbformat": 4,
 "nbformat_minor": 5
}
