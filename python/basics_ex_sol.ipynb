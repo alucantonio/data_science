{
 "cells": [
  {
   "cell_type": "markdown",
   "id": "b4a02621-08e2-4adf-ac5c-147054d313f1",
   "metadata": {},
   "source": [
    "### Exercise 1"
   ]
  },
  {
   "cell_type": "code",
   "execution_count": 7,
   "id": "18b506f2-4dd0-4083-888d-3041f01959ef",
   "metadata": {},
   "outputs": [],
   "source": [
    "def is_in_range(num, low, up):\n",
    "    return (num >= low and num <= up)"
   ]
  },
  {
   "cell_type": "code",
   "execution_count": 8,
   "id": "91aba896-1ca9-4574-9e4a-7cf5ace87521",
   "metadata": {},
   "outputs": [
    {
     "name": "stdout",
     "output_type": "stream",
     "text": [
      "True\n",
      "False\n"
     ]
    }
   ],
   "source": [
    "print(is_in_range(5, 3, 7))\n",
    "print(is_in_range(5, 3, 4))"
   ]
  },
  {
   "cell_type": "markdown",
   "id": "cc63ab57-97cc-49da-a61a-5172a6704b11",
   "metadata": {},
   "source": [
    "### Exercise 2"
   ]
  },
  {
   "cell_type": "code",
   "execution_count": 3,
   "id": "b2afb5c0-92fd-48bf-981e-b7cc28b4f73f",
   "metadata": {},
   "outputs": [],
   "source": [
    "# non recursive\n",
    "def factorial(n):\n",
    "    if n<0:\n",
    "      return 0\n",
    "    elif n==0:\n",
    "      return 1\n",
    "    factorial = 1\n",
    "    while n>0:\n",
    "      factorial*=n\n",
    "      n -= 1\n",
    "    return factorial"
   ]
  },
  {
   "cell_type": "code",
   "execution_count": 4,
   "id": "e0031f39-bcf4-4242-a41a-8c5435d02411",
   "metadata": {},
   "outputs": [
    {
     "data": {
      "text/plain": [
       "120"
      ]
     },
     "execution_count": 4,
     "metadata": {},
     "output_type": "execute_result"
    }
   ],
   "source": [
    "factorial(5)"
   ]
  },
  {
   "cell_type": "code",
   "execution_count": 5,
   "id": "529506b1-dfdd-47e2-83ba-b02365e65fca",
   "metadata": {},
   "outputs": [],
   "source": [
    "# recursive\n",
    "def factorial(n):\n",
    "  if n<0:\n",
    "      return 0\n",
    "  elif n==0:\n",
    "    return 1\n",
    "  return n*factorial(n-1)"
   ]
  },
  {
   "cell_type": "code",
   "execution_count": 6,
   "id": "2919982c-ecbc-494c-ad5e-74c06b00c5b3",
   "metadata": {},
   "outputs": [
    {
     "data": {
      "text/plain": [
       "120"
      ]
     },
     "execution_count": 6,
     "metadata": {},
     "output_type": "execute_result"
    }
   ],
   "source": [
    "factorial(5)"
   ]
  },
  {
   "cell_type": "markdown",
   "id": "675d6a60-9764-4487-bbd8-2bf962693805",
   "metadata": {},
   "source": [
    "### Exercise 3"
   ]
  },
  {
   "cell_type": "code",
   "execution_count": 3,
   "id": "55fede12-f7f4-4d53-aa21-1fef445ad287",
   "metadata": {},
   "outputs": [],
   "source": [
    "def count_frequencies(words_list):\n",
    "    frequency_dict = {}\n",
    "    for word in words_list:\n",
    "        if word in frequency_dict:\n",
    "            frequency_dict[word] += 1\n",
    "        else:\n",
    "            frequency_dict[word] = 1\n",
    "    return frequency_dict"
   ]
  },
  {
   "cell_type": "code",
   "execution_count": 4,
   "id": "af04fb2e-aa97-42a3-b009-0a5ecd4e073c",
   "metadata": {},
   "outputs": [
    {
     "data": {
      "text/plain": [
       "{'apple': 3, 'banana': 2, 'orange': 1}"
      ]
     },
     "execution_count": 4,
     "metadata": {},
     "output_type": "execute_result"
    }
   ],
   "source": [
    "count_frequencies([\"apple\", \"banana\", \"apple\", \"orange\", \"banana\", \"apple\"])"
   ]
  },
  {
   "cell_type": "markdown",
   "id": "3f89dcb8-c9b0-454b-b43a-0b98b8c913d5",
   "metadata": {},
   "source": [
    "### Exercise 4"
   ]
  },
  {
   "cell_type": "code",
   "execution_count": 1,
   "id": "945f6a68-b75e-45b3-86ae-4c031ba7aa81",
   "metadata": {},
   "outputs": [],
   "source": [
    "def letters_counter(s):\n",
    "    lower=0\n",
    "    upper=0\n",
    "    for i in s:\n",
    "        if i.islower():\n",
    "              lower+=1\n",
    "        elif i.isupper():\n",
    "              upper+=1\n",
    "    return lower,upper"
   ]
  },
  {
   "cell_type": "code",
   "execution_count": 2,
   "id": "e7195225-7f79-41f1-899d-b8f717120eea",
   "metadata": {},
   "outputs": [
    {
     "data": {
      "text/plain": [
       "(13, 3)"
      ]
     },
     "execution_count": 2,
     "metadata": {},
     "output_type": "execute_result"
    }
   ],
   "source": [
    "letters_counter(\"I like Data Science\")"
   ]
  },
  {
   "cell_type": "markdown",
   "id": "89078c22-8dca-4e9c-9874-65885f348214",
   "metadata": {},
   "source": [
    "### Exercise 5"
   ]
  },
  {
   "cell_type": "code",
   "execution_count": 13,
   "id": "e3cfc2db-680a-473e-a1cb-7e49d741aaeb",
   "metadata": {},
   "outputs": [],
   "source": [
    "def unique_list(l):\n",
    "    return list(set(l))"
   ]
  },
  {
   "cell_type": "code",
   "execution_count": 14,
   "id": "ba30a2a0-6d5d-4067-9422-fe92af18bb8d",
   "metadata": {},
   "outputs": [
    {
     "data": {
      "text/plain": [
       "[1, 2, 3, 4, 5]"
      ]
     },
     "execution_count": 14,
     "metadata": {},
     "output_type": "execute_result"
    }
   ],
   "source": [
    "unique_list([1,4,2,5,3,4,3,5])"
   ]
  },
  {
   "cell_type": "markdown",
   "id": "28ef2794-2d9a-4e61-8e6e-f0e2efa8ecf0",
   "metadata": {},
   "source": [
    "### Exercise 6"
   ]
  },
  {
   "cell_type": "code",
   "execution_count": 3,
   "id": "12450fe5-518b-4037-8f03-0388070e10eb",
   "metadata": {},
   "outputs": [],
   "source": [
    "def is_palindrome(s):\n",
    "    # s without spaces\n",
    "    s_no_space = s.replace(\" \", \"\")\n",
    "    return s_no_space == s_no_space[::-1]"
   ]
  },
  {
   "cell_type": "code",
   "execution_count": 4,
   "id": "beba4311-b42c-4bbc-bb77-f019f77fb1f4",
   "metadata": {},
   "outputs": [
    {
     "data": {
      "text/plain": [
       "True"
      ]
     },
     "execution_count": 4,
     "metadata": {},
     "output_type": "execute_result"
    }
   ],
   "source": [
    "is_palindrome(\"amo roma\")"
   ]
  },
  {
   "cell_type": "code",
   "execution_count": 5,
   "id": "184010ff-7857-44d7-af1d-229e3dc4cbe9",
   "metadata": {},
   "outputs": [],
   "source": [
    "# bonus implementation\n",
    "def is_palindrome(*args):\n",
    "    result = []\n",
    "    for s in args:\n",
    "        # s without spaces\n",
    "        s_no_space = s.replace(\" \", \"\")\n",
    "        result.append(s_no_space == s_no_space[::-1])\n",
    "    return result"
   ]
  },
  {
   "cell_type": "code",
   "execution_count": 9,
   "id": "5c67d1be-2fdf-43f9-afbd-10e3832910e9",
   "metadata": {},
   "outputs": [
    {
     "data": {
      "text/plain": [
       "[True, True]"
      ]
     },
     "execution_count": 9,
     "metadata": {},
     "output_type": "execute_result"
    }
   ],
   "source": [
    "is_palindrome(\"amo roma\", \"racecar\")"
   ]
  }
 ],
 "metadata": {
  "kernelspec": {
   "display_name": "Python 3 (ipykernel)",
   "language": "python",
   "name": "python3"
  },
  "language_info": {
   "codemirror_mode": {
    "name": "ipython",
    "version": 3
   },
   "file_extension": ".py",
   "mimetype": "text/x-python",
   "name": "python",
   "nbconvert_exporter": "python",
   "pygments_lexer": "ipython3",
   "version": "3.11.8"
  }
 },
 "nbformat": 4,
 "nbformat_minor": 5
}
