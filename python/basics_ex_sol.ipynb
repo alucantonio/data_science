{
 "cells": [
  {
   "cell_type": "markdown",
   "id": "b4a02621-08e2-4adf-ac5c-147054d313f1",
   "metadata": {},
   "source": [
    "### Exercise 1"
   ]
  },
  {
   "cell_type": "code",
   "execution_count": 7,
   "id": "18b506f2-4dd0-4083-888d-3041f01959ef",
   "metadata": {},
   "outputs": [],
   "source": [
    "def is_in_range(num, low, up):\n",
    "    return (num >= low and num <= up)"
   ]
  },
  {
   "cell_type": "code",
   "execution_count": 8,
   "id": "91aba896-1ca9-4574-9e4a-7cf5ace87521",
   "metadata": {},
   "outputs": [
    {
     "name": "stdout",
     "output_type": "stream",
     "text": [
      "True\n",
      "False\n"
     ]
    }
   ],
   "source": [
    "print(is_in_range(5, 3, 7))\n",
    "print(is_in_range(5, 3, 4))"
   ]
  },
  {
   "cell_type": "markdown",
   "id": "cc63ab57-97cc-49da-a61a-5172a6704b11",
   "metadata": {},
   "source": [
    "### Exercise 2"
   ]
  },
  {
   "cell_type": "code",
   "execution_count": 1,
   "id": "b2afb5c0-92fd-48bf-981e-b7cc28b4f73f",
   "metadata": {},
   "outputs": [],
   "source": [
    "# non-recursive\n",
    "def factorial(n):\n",
    "    if n<0:\n",
    "      return 0\n",
    "    elif n==0:\n",
    "      return 1\n",
    "    factorial = 1\n",
    "    while n>0:\n",
    "      factorial*=n\n",
    "      n -= 1\n",
    "    return factorial"
   ]
  },
  {
   "cell_type": "code",
   "execution_count": 4,
   "id": "e0031f39-bcf4-4242-a41a-8c5435d02411",
   "metadata": {},
   "outputs": [
    {
     "data": {
      "text/plain": [
       "120"
      ]
     },
     "execution_count": 4,
     "metadata": {},
     "output_type": "execute_result"
    }
   ],
   "source": [
    "factorial(5)"
   ]
  },
  {
   "cell_type": "code",
   "execution_count": 5,
   "id": "529506b1-dfdd-47e2-83ba-b02365e65fca",
   "metadata": {},
   "outputs": [],
   "source": [
    "# recursive\n",
    "def factorial(n):\n",
    "  if n<0:\n",
    "      return 0\n",
    "  elif n==0:\n",
    "    return 1\n",
    "  return n*factorial(n-1)"
   ]
  },
  {
   "cell_type": "code",
   "execution_count": 6,
   "id": "2919982c-ecbc-494c-ad5e-74c06b00c5b3",
   "metadata": {},
   "outputs": [
    {
     "data": {
      "text/plain": [
       "120"
      ]
     },
     "execution_count": 6,
     "metadata": {},
     "output_type": "execute_result"
    }
   ],
   "source": [
    "factorial(5)"
   ]
  },
  {
   "cell_type": "markdown",
   "id": "675d6a60-9764-4487-bbd8-2bf962693805",
   "metadata": {},
   "source": [
    "### Exercise 3"
   ]
  },
  {
   "cell_type": "code",
   "execution_count": 3,
   "id": "55fede12-f7f4-4d53-aa21-1fef445ad287",
   "metadata": {},
   "outputs": [],
   "source": [
    "def count_frequencies(words_list):\n",
    "    frequency_dict = {}\n",
    "    for word in words_list:\n",
    "        if word in frequency_dict:\n",
    "            frequency_dict[word] += 1\n",
    "        else:\n",
    "            frequency_dict[word] = 1\n",
    "    return frequency_dict"
   ]
  },
  {
   "cell_type": "code",
   "execution_count": 4,
   "id": "af04fb2e-aa97-42a3-b009-0a5ecd4e073c",
   "metadata": {},
   "outputs": [
    {
     "data": {
      "text/plain": [
       "{'apple': 3, 'banana': 2, 'orange': 1}"
      ]
     },
     "execution_count": 4,
     "metadata": {},
     "output_type": "execute_result"
    }
   ],
   "source": [
    "count_frequencies([\"apple\", \"banana\", \"apple\", \"orange\", \"banana\", \"apple\"])"
   ]
  },
  {
   "cell_type": "markdown",
   "id": "3f89dcb8-c9b0-454b-b43a-0b98b8c913d5",
   "metadata": {},
   "source": [
    "### Exercise 4"
   ]
  },
  {
   "cell_type": "code",
   "execution_count": 1,
   "id": "945f6a68-b75e-45b3-86ae-4c031ba7aa81",
   "metadata": {},
   "outputs": [],
   "source": [
    "def letters_counter(s):\n",
    "    lower=0\n",
    "    upper=0\n",
    "    for i in s:\n",
    "        if i.islower():\n",
    "              lower+=1\n",
    "        elif i.isupper():\n",
    "              upper+=1\n",
    "    return lower,upper"
   ]
  },
  {
   "cell_type": "code",
   "execution_count": 2,
   "id": "e7195225-7f79-41f1-899d-b8f717120eea",
   "metadata": {},
   "outputs": [
    {
     "data": {
      "text/plain": [
       "(13, 3)"
      ]
     },
     "execution_count": 2,
     "metadata": {},
     "output_type": "execute_result"
    }
   ],
   "source": [
    "letters_counter(\"I like Data Science\")"
   ]
  },
  {
   "cell_type": "markdown",
   "id": "89078c22-8dca-4e9c-9874-65885f348214",
   "metadata": {},
   "source": [
    "### Exercise 5"
   ]
  },
  {
   "cell_type": "code",
   "execution_count": 13,
   "id": "e3cfc2db-680a-473e-a1cb-7e49d741aaeb",
   "metadata": {},
   "outputs": [],
   "source": [
    "def unique_list(l):\n",
    "    return list(set(l))"
   ]
  },
  {
   "cell_type": "code",
   "execution_count": 14,
   "id": "ba30a2a0-6d5d-4067-9422-fe92af18bb8d",
   "metadata": {},
   "outputs": [
    {
     "data": {
      "text/plain": [
       "[1, 2, 3, 4, 5]"
      ]
     },
     "execution_count": 14,
     "metadata": {},
     "output_type": "execute_result"
    }
   ],
   "source": [
    "unique_list([1,4,2,5,3,4,3,5])"
   ]
  },
  {
   "cell_type": "markdown",
   "id": "28ef2794-2d9a-4e61-8e6e-f0e2efa8ecf0",
   "metadata": {},
   "source": [
    "### Exercise 6"
   ]
  },
  {
   "cell_type": "code",
   "execution_count": 3,
   "id": "12450fe5-518b-4037-8f03-0388070e10eb",
   "metadata": {},
   "outputs": [],
   "source": [
    "def is_palindrome(s):\n",
    "    # s without spaces\n",
    "    s_no_space = s.replace(\" \", \"\")\n",
    "    return s_no_space == s_no_space[::-1]"
   ]
  },
  {
   "cell_type": "code",
   "execution_count": 4,
   "id": "beba4311-b42c-4bbc-bb77-f019f77fb1f4",
   "metadata": {},
   "outputs": [
    {
     "data": {
      "text/plain": [
       "True"
      ]
     },
     "execution_count": 4,
     "metadata": {},
     "output_type": "execute_result"
    }
   ],
   "source": [
    "is_palindrome(\"amo roma\")"
   ]
  },
  {
   "cell_type": "code",
   "execution_count": 5,
   "id": "184010ff-7857-44d7-af1d-229e3dc4cbe9",
   "metadata": {},
   "outputs": [],
   "source": [
    "# bonus implementation\n",
    "def is_palindrome(*args):\n",
    "    result = []\n",
    "    for s in args:\n",
    "        # s without spaces\n",
    "        s_no_space = s.replace(\" \", \"\")\n",
    "        result.append(s_no_space == s_no_space[::-1])\n",
    "    return result"
   ]
  },
  {
   "cell_type": "code",
   "execution_count": 9,
   "id": "5c67d1be-2fdf-43f9-afbd-10e3832910e9",
   "metadata": {},
   "outputs": [
    {
     "data": {
      "text/plain": [
       "[True, True]"
      ]
     },
     "execution_count": 9,
     "metadata": {},
     "output_type": "execute_result"
    }
   ],
   "source": [
    "is_palindrome(\"amo roma\", \"racecar\")"
   ]
  },
  {
   "cell_type": "markdown",
   "id": "a9992148-c68c-49f9-8433-237b0d5061dd",
   "metadata": {},
   "source": [
    "### Exercise 7"
   ]
  },
  {
   "cell_type": "code",
   "execution_count": 21,
   "id": "43711fba-7f89-40b5-8586-552b66d79201",
   "metadata": {},
   "outputs": [],
   "source": [
    "def square_list(nums):\n",
    "    return [x**2 for x in nums]"
   ]
  },
  {
   "cell_type": "code",
   "execution_count": 22,
   "id": "3195f641-4d9d-4376-81ed-4f556deb8d90",
   "metadata": {},
   "outputs": [
    {
     "data": {
      "text/plain": [
       "[1, 4, 9, 16, 25, 36, 49, 64, 81, 100]"
      ]
     },
     "execution_count": 22,
     "metadata": {},
     "output_type": "execute_result"
    }
   ],
   "source": [
    "square_list([1, 2, 3, 4, 5, 6, 7, 8, 9, 10])"
   ]
  },
  {
   "cell_type": "code",
   "execution_count": 23,
   "id": "d5568b22-64f5-4766-8193-3dcd4ff9b1c9",
   "metadata": {},
   "outputs": [
    {
     "name": "stdout",
     "output_type": "stream",
     "text": [
      "342 ns ± 1.07 ns per loop (mean ± std. dev. of 7 runs, 1,000,000 loops each)\n"
     ]
    }
   ],
   "source": [
    "%timeit square_list([1, 2, 3, 4, 5, 6, 7, 8, 9, 10])"
   ]
  },
  {
   "cell_type": "markdown",
   "id": "efce9481-2abd-413a-a121-796f9aaa44ff",
   "metadata": {},
   "source": [
    "List comprehension is faster than the for loop."
   ]
  },
  {
   "cell_type": "code",
   "execution_count": 24,
   "id": "beedb72d-cfb7-4305-94bf-2c86316f1441",
   "metadata": {},
   "outputs": [],
   "source": [
    "def square_list_without_comprehension(nums):\n",
    "    new_list = nums\n",
    "    for i in range(len(new_list)):\n",
    "        new_list[i] = new_list[i]**2\n",
    "    return new_list"
   ]
  },
  {
   "cell_type": "code",
   "execution_count": 25,
   "id": "67aa42a1-ef1a-4e0b-bc42-820df09e8d58",
   "metadata": {},
   "outputs": [
    {
     "data": {
      "text/plain": [
       "[1, 4, 9, 16, 25, 36, 49, 64, 81, 100]"
      ]
     },
     "execution_count": 25,
     "metadata": {},
     "output_type": "execute_result"
    }
   ],
   "source": [
    "square_list_without_comprehension([1, 2, 3, 4, 5, 6, 7, 8, 9, 10])"
   ]
  },
  {
   "cell_type": "code",
   "execution_count": 26,
   "id": "999297a8-9c29-454d-8995-a1c0bcaad54c",
   "metadata": {},
   "outputs": [
    {
     "name": "stdout",
     "output_type": "stream",
     "text": [
      "366 ns ± 2.46 ns per loop (mean ± std. dev. of 7 runs, 1,000,000 loops each)\n"
     ]
    }
   ],
   "source": [
    "%timeit square_list_without_comprehension([1, 2, 3, 4, 5, 6, 7, 8, 9, 10])"
   ]
  },
  {
   "cell_type": "code",
   "execution_count": 29,
   "id": "ae120571-c722-4e74-9ae5-35a769eae2b7",
   "metadata": {},
   "outputs": [
    {
     "name": "stdout",
     "output_type": "stream",
     "text": [
      "448 ns ± 1.56 ns per loop (mean ± std. dev. of 7 runs, 1,000,000 loops each)\n"
     ]
    }
   ],
   "source": [
    "def square(x):\n",
    "    return x**2\n",
    "%timeit list(map(square, [1, 2, 3, 4, 5, 6, 7, 8, 9, 10]))"
   ]
  }
 ],
 "metadata": {
  "kernelspec": {
   "display_name": "Python 3 (ipykernel)",
   "language": "python",
   "name": "python3"
  },
  "language_info": {
   "codemirror_mode": {
    "name": "ipython",
    "version": 3
   },
   "file_extension": ".py",
   "mimetype": "text/x-python",
   "name": "python",
   "nbconvert_exporter": "python",
   "pygments_lexer": "ipython3",
   "version": "3.12.5"
  }
 },
 "nbformat": 4,
 "nbformat_minor": 5
}
