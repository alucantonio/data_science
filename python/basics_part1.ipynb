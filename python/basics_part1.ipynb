{
 "cells": [
  {
   "cell_type": "markdown",
   "id": "5ff87cbf-a8f5-4a81-acfe-fef429481f70",
   "metadata": {},
   "source": [
    "# Python Basics - Part 1"
   ]
  },
  {
   "cell_type": "markdown",
   "id": "427eefe8-4aa3-4e5c-81c9-eff7b5aba130",
   "metadata": {},
   "source": [
    "Additional reference: the Python tutorial (https://docs.python.org/3/tutorial/index.html)."
   ]
  },
  {
   "cell_type": "markdown",
   "id": "6c8a53e6-9c97-41be-86b1-0a4d2488a816",
   "metadata": {},
   "source": [
    "## Hello world!"
   ]
  },
  {
   "cell_type": "markdown",
   "id": "2ab384cb-b1d8-4932-856e-e06be7bcf234",
   "metadata": {},
   "source": [
    "To print strings in `python`, we just need to call the function `print()` with the string as an argument:"
   ]
  },
  {
   "cell_type": "code",
   "execution_count": 1,
   "id": "032d69a3-a3fe-408e-ada6-640758980075",
   "metadata": {},
   "outputs": [
    {
     "name": "stdout",
     "output_type": "stream",
     "text": [
      "Hello world!\n"
     ]
    }
   ],
   "source": [
    "# Use Shift+Enter to execute this cell\n",
    "print(\"Hello world!\")"
   ]
  },
  {
   "cell_type": "markdown",
   "id": "6ec68544-0256-49bf-8c8a-8dc670618435",
   "metadata": {},
   "source": [
    "## Basic math and variables"
   ]
  },
  {
   "cell_type": "markdown",
   "id": "6ee208b3-a9f1-4c8e-a9e3-9ba8562b9389",
   "metadata": {},
   "source": [
    "### Basic operations"
   ]
  },
  {
   "cell_type": "markdown",
   "id": "04051cfc-902e-4f9f-a69e-3720a39c4809",
   "metadata": {},
   "source": [
    "Basic mathematical operations can be performed between values of the **same** type (e.g. `int`, `float`, `boolean`, `str`)."
   ]
  },
  {
   "cell_type": "code",
   "execution_count": 69,
   "id": "e5e07f3a-7353-4287-beae-b569cf47bcb5",
   "metadata": {},
   "outputs": [
    {
     "data": {
      "text/plain": [
       "4"
      ]
     },
     "execution_count": 69,
     "metadata": {},
     "output_type": "execute_result"
    }
   ],
   "source": [
    "# Sum between integers (notice the hashtag: this is how you write comments in Python)\n",
    "2 + 2"
   ]
  },
  {
   "cell_type": "code",
   "execution_count": 3,
   "id": "13ad6960-aaf1-4fb8-abbf-2d20b739acfb",
   "metadata": {},
   "outputs": [
    {
     "data": {
      "text/plain": [
       "5"
      ]
     },
     "execution_count": 3,
     "metadata": {},
     "output_type": "execute_result"
    }
   ],
   "source": [
    "# Subtraction between integers\n",
    "8 - 3"
   ]
  },
  {
   "cell_type": "code",
   "execution_count": 4,
   "id": "b37b27cc-6f4a-4f65-a922-ec91f617ada8",
   "metadata": {},
   "outputs": [
    {
     "data": {
      "text/plain": [
       "14.0"
      ]
     },
     "execution_count": 4,
     "metadata": {},
     "output_type": "execute_result"
    }
   ],
   "source": [
    "# Multiplication between floats\n",
    "3.5 * 4.0"
   ]
  },
  {
   "cell_type": "code",
   "execution_count": 5,
   "id": "c127f7e6-436d-4884-a77c-d6e5007557e0",
   "metadata": {},
   "outputs": [
    {
     "data": {
      "text/plain": [
       "3.0"
      ]
     },
     "execution_count": 5,
     "metadata": {},
     "output_type": "execute_result"
    }
   ],
   "source": [
    "# Division between floats\n",
    "4.5 / 1.5"
   ]
  },
  {
   "cell_type": "code",
   "execution_count": 6,
   "id": "e7e9665c-1d74-43da-b4ce-b33c2081f8ee",
   "metadata": {
    "tags": []
   },
   "outputs": [
    {
     "data": {
      "text/plain": [
       "2.0"
      ]
     },
     "execution_count": 6,
     "metadata": {},
     "output_type": "execute_result"
    }
   ],
   "source": [
    "# Division between integers (result is a float, by default)\n",
    "4 / 2"
   ]
  },
  {
   "cell_type": "code",
   "execution_count": 7,
   "id": "f59d60f8-d70e-4d80-8fe5-6542bea5f080",
   "metadata": {
    "tags": []
   },
   "outputs": [
    {
     "data": {
      "text/plain": [
       "2.0"
      ]
     },
     "execution_count": 7,
     "metadata": {},
     "output_type": "execute_result"
    }
   ],
   "source": [
    "# Division between a float and an int (result is a float, by default, \n",
    "# i.e. the int value is automatically converted into a float)\n",
    "4.0 / 2"
   ]
  },
  {
   "cell_type": "code",
   "execution_count": 8,
   "id": "1fba91ac-f3b4-4112-a47c-7e42df0397e6",
   "metadata": {},
   "outputs": [
    {
     "data": {
      "text/plain": [
       "2"
      ]
     },
     "execution_count": 8,
     "metadata": {},
     "output_type": "execute_result"
    }
   ],
   "source": [
    "# Floored division: the result is an int, by default, if the operands are integers.\n",
    "4 // 2"
   ]
  },
  {
   "cell_type": "code",
   "execution_count": 9,
   "id": "9f8eb86b-e531-4d4a-b53d-3607bcc4eb4f",
   "metadata": {},
   "outputs": [
    {
     "data": {
      "text/plain": [
       "1.0"
      ]
     },
     "execution_count": 9,
     "metadata": {},
     "output_type": "execute_result"
    }
   ],
   "source": [
    "# If the operands are floats, the result is a float, rounded.\n",
    "4. // 3."
   ]
  },
  {
   "cell_type": "code",
   "execution_count": 10,
   "id": "dfb2aee4-91f6-4f2c-9eb1-80466b8e59d3",
   "metadata": {
    "tags": []
   },
   "outputs": [
    {
     "data": {
      "text/plain": [
       "2"
      ]
     },
     "execution_count": 10,
     "metadata": {},
     "output_type": "execute_result"
    }
   ],
   "source": [
    "# Modulo operation (remainder of the division)\n",
    "5 % 3"
   ]
  },
  {
   "cell_type": "code",
   "execution_count": 11,
   "id": "7470d787-cfec-42dc-b5a8-86b52ca99117",
   "metadata": {},
   "outputs": [
    {
     "data": {
      "text/plain": [
       "125.0"
      ]
     },
     "execution_count": 11,
     "metadata": {},
     "output_type": "execute_result"
    }
   ],
   "source": [
    "# Power\n",
    "5 ** 3.0"
   ]
  },
  {
   "cell_type": "code",
   "execution_count": 12,
   "id": "da4112f3-6945-4208-8834-dda8c5c5554e",
   "metadata": {},
   "outputs": [
    {
     "data": {
      "text/plain": [
       "'HelloWorld'"
      ]
     },
     "execution_count": 12,
     "metadata": {},
     "output_type": "execute_result"
    }
   ],
   "source": [
    "# Concatenation of strings\n",
    "\"Hello\" + \"World\""
   ]
  },
  {
   "cell_type": "code",
   "execution_count": 13,
   "id": "4fcac231-3128-4072-8a62-3998dc5f444e",
   "metadata": {},
   "outputs": [
    {
     "ename": "TypeError",
     "evalue": "can only concatenate str (not \"int\") to str",
     "output_type": "error",
     "traceback": [
      "\u001b[0;31m---------------------------------------------------------------------------\u001b[0m",
      "\u001b[0;31mTypeError\u001b[0m                                 Traceback (most recent call last)",
      "Cell \u001b[0;32mIn[13], line 2\u001b[0m\n\u001b[1;32m      1\u001b[0m \u001b[38;5;66;03m# Different types -> casting (if possible) or error\u001b[39;00m\n\u001b[0;32m----> 2\u001b[0m \u001b[38;5;124;43m\"\u001b[39;49m\u001b[38;5;124;43mHello\u001b[39;49m\u001b[38;5;124;43m\"\u001b[39;49m\u001b[43m \u001b[49m\u001b[38;5;241;43m+\u001b[39;49m\u001b[43m \u001b[49m\u001b[38;5;241;43m2\u001b[39;49m\n",
      "\u001b[0;31mTypeError\u001b[0m: can only concatenate str (not \"int\") to str"
     ]
    }
   ],
   "source": [
    "# Different types -> casting (if possible) or error\n",
    "\"Hello\" + 2"
   ]
  },
  {
   "cell_type": "code",
   "execution_count": 14,
   "id": "d4ca0e40-0bb2-440e-95d8-f096ca596636",
   "metadata": {},
   "outputs": [
    {
     "data": {
      "text/plain": [
       "3"
      ]
     },
     "execution_count": 14,
     "metadata": {},
     "output_type": "execute_result"
    }
   ],
   "source": [
    "# In this case True is a boolean and it is converted (casted) into the 1 (integer).\n",
    "2 + True"
   ]
  },
  {
   "cell_type": "markdown",
   "id": "323a319e-416a-4cb3-9bdd-0f87f4c0a48e",
   "metadata": {},
   "source": [
    "### Variables and types"
   ]
  },
  {
   "cell_type": "markdown",
   "id": "65058ec3-ca5f-44f9-9318-67b0f7f2dd30",
   "metadata": {},
   "source": [
    "A variable is a container for storing data. A variable is created the moment we assign a value to it. For example:"
   ]
  },
  {
   "cell_type": "code",
   "execution_count": 15,
   "id": "5295adca-c829-4b21-abc8-c089448776dc",
   "metadata": {},
   "outputs": [
    {
     "data": {
      "text/plain": [
       "2"
      ]
     },
     "execution_count": 15,
     "metadata": {},
     "output_type": "execute_result"
    }
   ],
   "source": [
    "x = 2\n",
    "x"
   ]
  },
  {
   "cell_type": "markdown",
   "id": "8bffc710-873c-48fb-8815-3f696356ca4a",
   "metadata": {},
   "source": [
    "Shorthand for increment and assignment (to update a numerical variable):"
   ]
  },
  {
   "cell_type": "code",
   "execution_count": 16,
   "id": "d93da64a-d831-430a-9534-461249c36b06",
   "metadata": {},
   "outputs": [
    {
     "data": {
      "text/plain": [
       "4"
      ]
     },
     "execution_count": 16,
     "metadata": {},
     "output_type": "execute_result"
    }
   ],
   "source": [
    "# Execute this cell multiple times to see how the value of x changes\n",
    "x += 2\n",
    "x"
   ]
  },
  {
   "cell_type": "markdown",
   "id": "c2ffd805-96e2-40ff-b3e8-8255608de7dd",
   "metadata": {},
   "source": [
    "To define $2$ as a `float`, we add a dot next to the integer part:"
   ]
  },
  {
   "cell_type": "code",
   "execution_count": 17,
   "id": "6e22f781-a7f0-4abd-818d-39f014629da9",
   "metadata": {},
   "outputs": [],
   "source": [
    "x = 2."
   ]
  },
  {
   "cell_type": "markdown",
   "id": "7a1d6420-a2c9-491e-8080-abe4e0e9040b",
   "metadata": {},
   "source": [
    "The function `type()` returns the type of a variable:"
   ]
  },
  {
   "cell_type": "code",
   "execution_count": 18,
   "id": "204350f0-dda3-4ce4-bdfb-c8cffd5fd44c",
   "metadata": {},
   "outputs": [
    {
     "data": {
      "text/plain": [
       "float"
      ]
     },
     "execution_count": 18,
     "metadata": {},
     "output_type": "execute_result"
    }
   ],
   "source": [
    "type(x)"
   ]
  },
  {
   "cell_type": "markdown",
   "id": "d57d41bf-c850-4f8c-b398-7e03cdc5c87d",
   "metadata": {},
   "source": [
    "We can transform a `float` into an `int` using the function `int()`:"
   ]
  },
  {
   "cell_type": "code",
   "execution_count": 19,
   "id": "5615252e-662b-43fd-84bd-8d00ec850547",
   "metadata": {},
   "outputs": [
    {
     "data": {
      "text/plain": [
       "int"
      ]
     },
     "execution_count": 19,
     "metadata": {},
     "output_type": "execute_result"
    }
   ],
   "source": [
    "type(int(x))"
   ]
  },
  {
   "cell_type": "markdown",
   "id": "c76f4e63-2e9d-4ef4-8189-4c0191363790",
   "metadata": {},
   "source": [
    "## Comparison operators"
   ]
  },
  {
   "cell_type": "markdown",
   "id": "a226d2de-9815-4f56-bc51-3917e7c287c5",
   "metadata": {},
   "source": [
    "Value comparison operators compare the values of two objects and return a boolean: `True` or `False`. The objects do not need to have the same type."
   ]
  },
  {
   "cell_type": "markdown",
   "id": "a15b9547-c59a-4181-8de4-617e4120282c",
   "metadata": {},
   "source": [
    "### Equal"
   ]
  },
  {
   "cell_type": "code",
   "execution_count": 72,
   "id": "b1617d2f-b329-4a5e-b1f2-67f898d181c9",
   "metadata": {},
   "outputs": [
    {
     "data": {
      "text/plain": [
       "False"
      ]
     },
     "execution_count": 72,
     "metadata": {},
     "output_type": "execute_result"
    }
   ],
   "source": [
    "5 == 4"
   ]
  },
  {
   "cell_type": "code",
   "execution_count": 74,
   "id": "0533a055-df64-4717-b3e5-ca171c403688",
   "metadata": {},
   "outputs": [
    {
     "data": {
      "text/plain": [
       "True"
      ]
     },
     "execution_count": 74,
     "metadata": {},
     "output_type": "execute_result"
    }
   ],
   "source": [
    "4 == 4"
   ]
  },
  {
   "cell_type": "code",
   "execution_count": 75,
   "id": "7dda5e0b-1cb0-401a-9399-8fcf4fc68f1b",
   "metadata": {
    "tags": []
   },
   "outputs": [
    {
     "data": {
      "text/plain": [
       "True"
      ]
     },
     "execution_count": 75,
     "metadata": {},
     "output_type": "execute_result"
    }
   ],
   "source": [
    "4 == 4."
   ]
  },
  {
   "cell_type": "markdown",
   "id": "27444261-ca82-4e2b-ad93-b5ed468229f6",
   "metadata": {},
   "source": [
    "### Not equal"
   ]
  },
  {
   "cell_type": "code",
   "execution_count": 23,
   "id": "cbc57dfa-bf05-412d-a768-0710cf99cabc",
   "metadata": {},
   "outputs": [
    {
     "data": {
      "text/plain": [
       "True"
      ]
     },
     "execution_count": 23,
     "metadata": {},
     "output_type": "execute_result"
    }
   ],
   "source": [
    "5 != 4"
   ]
  },
  {
   "cell_type": "markdown",
   "id": "b6808a1c-6408-451e-942a-958072e5d963",
   "metadata": {},
   "source": [
    "### Greater than/greater than or equal to"
   ]
  },
  {
   "cell_type": "code",
   "execution_count": 24,
   "id": "6d1f74e5-8ae8-4cdf-b352-91e645287704",
   "metadata": {},
   "outputs": [
    {
     "data": {
      "text/plain": [
       "True"
      ]
     },
     "execution_count": 24,
     "metadata": {},
     "output_type": "execute_result"
    }
   ],
   "source": [
    "5 > 4"
   ]
  },
  {
   "cell_type": "code",
   "execution_count": 25,
   "id": "96648f7e-bc5f-47cd-9182-b0f928dd0486",
   "metadata": {},
   "outputs": [
    {
     "data": {
      "text/plain": [
       "True"
      ]
     },
     "execution_count": 25,
     "metadata": {},
     "output_type": "execute_result"
    }
   ],
   "source": [
    "5 >= 4"
   ]
  },
  {
   "cell_type": "markdown",
   "id": "c34fdd19-c89d-4aa8-840a-dcd6541cdb88",
   "metadata": {},
   "source": [
    "### Less than/greater than or equal to"
   ]
  },
  {
   "cell_type": "code",
   "execution_count": 26,
   "id": "56f49eed-d849-4453-bc6a-c0b02ca87c50",
   "metadata": {},
   "outputs": [
    {
     "data": {
      "text/plain": [
       "False"
      ]
     },
     "execution_count": 26,
     "metadata": {},
     "output_type": "execute_result"
    }
   ],
   "source": [
    "5 < 4"
   ]
  },
  {
   "cell_type": "code",
   "execution_count": 27,
   "id": "cacb0f44-2ff9-4dcb-88c3-7d5b299305ef",
   "metadata": {},
   "outputs": [
    {
     "data": {
      "text/plain": [
       "True"
      ]
     },
     "execution_count": 27,
     "metadata": {},
     "output_type": "execute_result"
    }
   ],
   "source": [
    "5 <= 5"
   ]
  },
  {
   "cell_type": "markdown",
   "id": "768cb1ad-11a2-4860-bf12-da4cfeedb0f2",
   "metadata": {},
   "source": [
    "## Containers"
   ]
  },
  {
   "cell_type": "markdown",
   "id": "0439a82c-647c-48c3-905a-8f7ae5fcabc0",
   "metadata": {},
   "source": [
    "As the name suggests, a container is an object that stores multiple items (possibly having different *types*) in a single variable. There are 4 built-in containers in `Python`: _lists_, _tuples_, _dictionaries_ and _sets_."
   ]
  },
  {
   "cell_type": "markdown",
   "id": "87739744-041b-47df-813a-ca6635716eb0",
   "metadata": {},
   "source": [
    "### Lists"
   ]
  },
  {
   "cell_type": "markdown",
   "id": "4b96b7b9-13ff-4a51-92ed-ce80e0064d4e",
   "metadata": {},
   "source": [
    "List items are *ordered*, *mutable*, and allow duplicate values."
   ]
  },
  {
   "cell_type": "code",
   "execution_count": 79,
   "id": "a3af2f8e-a0da-43d8-b378-ffd7c71a10a0",
   "metadata": {},
   "outputs": [
    {
     "data": {
      "text/plain": [
       "[1, False, 'Aarhus', 15, 24]"
      ]
     },
     "execution_count": 79,
     "metadata": {},
     "output_type": "execute_result"
    }
   ],
   "source": [
    "# Definition of a list storing variables of different types (notice square brackets)\n",
    "l = [1, False, \"Aarhus\", 15, 24]\n",
    "l"
   ]
  },
  {
   "cell_type": "code",
   "execution_count": 80,
   "id": "07241b04-44a9-49bf-997a-be3014572ace",
   "metadata": {},
   "outputs": [
    {
     "data": {
      "text/plain": [
       "1"
      ]
     },
     "execution_count": 80,
     "metadata": {},
     "output_type": "execute_result"
    }
   ],
   "source": [
    "# Get the first element of a list \n",
    "l[0]"
   ]
  },
  {
   "cell_type": "code",
   "execution_count": 81,
   "id": "fb37b466-d24c-4bc4-9909-55bdec3a2ba0",
   "metadata": {},
   "outputs": [
    {
     "data": {
      "text/plain": [
       "5"
      ]
     },
     "execution_count": 81,
     "metadata": {},
     "output_type": "execute_result"
    }
   ],
   "source": [
    "# Length of a list = number of its elements\n",
    "len(l)"
   ]
  },
  {
   "cell_type": "code",
   "execution_count": 82,
   "id": "5e66f7e9-13bc-4d3a-ba43-a37fa7aacd57",
   "metadata": {},
   "outputs": [
    {
     "data": {
      "text/plain": [
       "24"
      ]
     },
     "execution_count": 82,
     "metadata": {},
     "output_type": "execute_result"
    }
   ],
   "source": [
    "# Last element\n",
    "l[-1]"
   ]
  },
  {
   "cell_type": "markdown",
   "id": "c55346fe-5a94-4ed5-88cf-91d7a4087167",
   "metadata": {},
   "source": [
    "**Slicing**: accessing a portion of the elements in a list. It follows the general format: lst[initial_index:final_index:step]. If _step_ is omitted, it is assumed to be 1 (no elements of the list are skipped). If `initial_index` or `final_index` are omitted, they are assumed to be equal to the first and the last element of the list, respectively. _The element corresponding to the final index is excluded from the slice, while the initial index is included_."
   ]
  },
  {
   "cell_type": "code",
   "execution_count": 85,
   "id": "f81447d3-9f56-4c46-8a0b-05aa10a10c85",
   "metadata": {},
   "outputs": [
    {
     "data": {
      "text/plain": [
       "[False, 'Aarhus', 15, 24]"
      ]
     },
     "execution_count": 85,
     "metadata": {},
     "output_type": "execute_result"
    }
   ],
   "source": [
    "# The list without the first element (omitting final index and step)\n",
    "l[1:]"
   ]
  },
  {
   "cell_type": "code",
   "execution_count": 91,
   "id": "07ac2f1d-1210-4620-9ff7-4e7cb2c0902d",
   "metadata": {},
   "outputs": [
    {
     "data": {
      "text/plain": [
       "[False, 'Aarhus', 15, 24]"
      ]
     },
     "execution_count": 91,
     "metadata": {},
     "output_type": "execute_result"
    }
   ],
   "source": [
    "# This slice is equivalent to the previous one, without omitted indices\n",
    "l[1:5:1]"
   ]
  },
  {
   "cell_type": "code",
   "execution_count": 33,
   "id": "29e17f0b-29c9-46d5-ab76-5071d5cee62d",
   "metadata": {},
   "outputs": [
    {
     "data": {
      "text/plain": [
       "[1, False, 'Aarhus', 15]"
      ]
     },
     "execution_count": 33,
     "metadata": {},
     "output_type": "execute_result"
    }
   ],
   "source": [
    "# The list without the last element (notice that the final index is excluded from the slice)\n",
    "l[:-1]"
   ]
  },
  {
   "cell_type": "code",
   "execution_count": 34,
   "id": "81478810-0d80-4d44-886c-d51098ec920a",
   "metadata": {},
   "outputs": [
    {
     "data": {
      "text/plain": [
       "[1, 'Aarhus', 24]"
      ]
     },
     "execution_count": 34,
     "metadata": {},
     "output_type": "execute_result"
    }
   ],
   "source": [
    "# Get even-indexed elements (omitting initial and final indices)\n",
    "l[::2]"
   ]
  },
  {
   "cell_type": "code",
   "execution_count": 35,
   "id": "74bc14c1-2c08-4ea4-a1bc-9e108d35d066",
   "metadata": {},
   "outputs": [
    {
     "data": {
      "text/plain": [
       "[24, 15, 'Aarhus', False, 1]"
      ]
     },
     "execution_count": 35,
     "metadata": {},
     "output_type": "execute_result"
    }
   ],
   "source": [
    "# Reverse a list\n",
    "l[::-1]"
   ]
  },
  {
   "cell_type": "markdown",
   "id": "3e8c5a27-9ef2-4156-ac86-e3370f96cc76",
   "metadata": {},
   "source": [
    "We can also define lists of lists"
   ]
  },
  {
   "cell_type": "code",
   "execution_count": 36,
   "id": "6093a0c3-d9e0-4d6b-9e30-46647f0a866d",
   "metadata": {},
   "outputs": [
    {
     "data": {
      "text/plain": [
       "[[1, False, 'Aarhus', 15, 24], [False, 'Aarhus', 15, 24]]"
      ]
     },
     "execution_count": 36,
     "metadata": {},
     "output_type": "execute_result"
    }
   ],
   "source": [
    "ll = [l, l[1:]]\n",
    "ll"
   ]
  },
  {
   "cell_type": "markdown",
   "id": "466e6b22-b7b2-46ec-82ff-7734dcbcc3ae",
   "metadata": {},
   "source": [
    "Be careful with indices: what is `ll[0][::2]`?"
   ]
  },
  {
   "cell_type": "markdown",
   "id": "8ef34c58-42f9-4bfc-a7c9-f8cc95bb9209",
   "metadata": {},
   "source": [
    "#### Basic list methods"
   ]
  },
  {
   "cell_type": "code",
   "execution_count": 37,
   "id": "67f35108-07d7-413f-9acf-e696c9db3f2f",
   "metadata": {},
   "outputs": [
    {
     "data": {
      "text/plain": [
       "[1, False, 'Aarhus', 15, 24, 'pluto']"
      ]
     },
     "execution_count": 37,
     "metadata": {},
     "output_type": "execute_result"
    }
   ],
   "source": [
    "# Append method (the list is modified in-place, no need to assign the result to l)\n",
    "l.append(\"pluto\")\n",
    "# Print the updated list\n",
    "l"
   ]
  },
  {
   "cell_type": "code",
   "execution_count": 38,
   "id": "4c1a77b7-7164-4d5b-b8d6-bc8fa9e4c198",
   "metadata": {},
   "outputs": [
    {
     "data": {
      "text/plain": [
       "[1, False, 'Aarhus', 15, 24, 'pluto', 'pluto']"
      ]
     },
     "execution_count": 38,
     "metadata": {},
     "output_type": "execute_result"
    }
   ],
   "source": [
    "# Alternative to append: concatenation using the add operator (as we did for strings)\n",
    "l + [\"pluto\"]"
   ]
  },
  {
   "cell_type": "code",
   "execution_count": 39,
   "id": "8a53dc74-b840-4fb5-aeb6-3c8ff3580654",
   "metadata": {},
   "outputs": [
    {
     "data": {
      "text/plain": [
       "1"
      ]
     },
     "execution_count": 39,
     "metadata": {},
     "output_type": "execute_result"
    }
   ],
   "source": [
    "# Removes and element from the list and returns it\n",
    "l.pop(0)"
   ]
  },
  {
   "cell_type": "code",
   "execution_count": 40,
   "id": "0944bfa6-35b6-4c17-be2c-f62e43edd22a",
   "metadata": {},
   "outputs": [
    {
     "data": {
      "text/plain": [
       "[False, 'Aarhus', 15, 24, 'pluto', False, 'Aarhus', 15, 24, 'pluto']"
      ]
     },
     "execution_count": 40,
     "metadata": {},
     "output_type": "execute_result"
    }
   ],
   "source": [
    "# Repeats the list twice (equivalent to l + l)\n",
    "l*2"
   ]
  },
  {
   "cell_type": "markdown",
   "id": "3c8b2895-246e-446f-94ee-0b578402efda",
   "metadata": {},
   "source": [
    "### Tuples"
   ]
  },
  {
   "cell_type": "markdown",
   "id": "19b6acfc-bd80-44de-8ccf-f387f07cb65d",
   "metadata": {},
   "source": [
    "Tuples are similar to lists, but they are *immutable*. "
   ]
  },
  {
   "cell_type": "code",
   "execution_count": 41,
   "id": "205e6fee-aa00-4f02-a970-16b8280b906c",
   "metadata": {
    "tags": []
   },
   "outputs": [
    {
     "data": {
      "text/plain": [
       "(1, 2, 'data science')"
      ]
     },
     "execution_count": 41,
     "metadata": {},
     "output_type": "execute_result"
    }
   ],
   "source": [
    "# Definition of a tuple (notice the parentheses)\n",
    "t = (1, 2, \"data science\")\n",
    "t"
   ]
  },
  {
   "cell_type": "code",
   "execution_count": 42,
   "id": "b2b7ad99-caf6-4700-9ffd-f5cf8e9154fe",
   "metadata": {
    "tags": []
   },
   "outputs": [
    {
     "ename": "TypeError",
     "evalue": "'tuple' object does not support item assignment",
     "output_type": "error",
     "traceback": [
      "\u001b[0;31m---------------------------------------------------------------------------\u001b[0m",
      "\u001b[0;31mTypeError\u001b[0m                                 Traceback (most recent call last)",
      "Cell \u001b[0;32mIn[42], line 2\u001b[0m\n\u001b[1;32m      1\u001b[0m \u001b[38;5;66;03m# Immutability: trying to change an element causes an error\u001b[39;00m\n\u001b[0;32m----> 2\u001b[0m \u001b[43mt\u001b[49m\u001b[43m[\u001b[49m\u001b[38;5;241;43m0\u001b[39;49m\u001b[43m]\u001b[49m \u001b[38;5;241m=\u001b[39m \u001b[38;5;241m5\u001b[39m\n",
      "\u001b[0;31mTypeError\u001b[0m: 'tuple' object does not support item assignment"
     ]
    }
   ],
   "source": [
    "# Immutability: trying to change an element causes an error\n",
    "t[0] = 5"
   ]
  },
  {
   "cell_type": "code",
   "execution_count": 43,
   "id": "247285d8-879f-4683-ba9a-6fe455c25f61",
   "metadata": {},
   "outputs": [
    {
     "name": "stdout",
     "output_type": "stream",
     "text": [
      "(1,) <class 'tuple'>\n",
      "1 <class 'int'>\n"
     ]
    }
   ],
   "source": [
    "# Definition of a tuple containing a single element (beware the comma at the end!):\n",
    "t_1 = (1,)\n",
    "t_2 = (1) # this is just an int, not a list\n",
    "print(t_1, type(t_1))\n",
    "print(t_2, type(t_2))"
   ]
  },
  {
   "cell_type": "code",
   "execution_count": 44,
   "id": "7b158fa8-f836-4526-8f4c-539f0d0eecf8",
   "metadata": {},
   "outputs": [
    {
     "data": {
      "text/plain": [
       "3"
      ]
     },
     "execution_count": 44,
     "metadata": {},
     "output_type": "execute_result"
    }
   ],
   "source": [
    "# Length of a tuple\n",
    "len(t)"
   ]
  },
  {
   "cell_type": "code",
   "execution_count": 45,
   "id": "c41b6627-a996-4441-bac9-6b4ff614a1e7",
   "metadata": {
    "tags": []
   },
   "outputs": [
    {
     "data": {
      "text/plain": [
       "'data science'"
      ]
     },
     "execution_count": 45,
     "metadata": {},
     "output_type": "execute_result"
    }
   ],
   "source": [
    "# Slicing works as for lists\n",
    "t[-1]"
   ]
  },
  {
   "cell_type": "markdown",
   "id": "b229b8ee-1e5c-47d3-a624-67b7a3ae0934",
   "metadata": {},
   "source": [
    "#### Basic tuple methods"
   ]
  },
  {
   "cell_type": "code",
   "execution_count": 46,
   "id": "6bdd439e-a754-41cb-bbac-fb27b0a7cfac",
   "metadata": {},
   "outputs": [
    {
     "data": {
      "text/plain": [
       "0"
      ]
     },
     "execution_count": 46,
     "metadata": {},
     "output_type": "execute_result"
    }
   ],
   "source": [
    "# Get the index of a given item\n",
    "t.index(1)"
   ]
  },
  {
   "cell_type": "code",
   "execution_count": 47,
   "id": "14378cbb-bd47-4923-a897-12a9c31f5967",
   "metadata": {
    "tags": []
   },
   "outputs": [
    {
     "data": {
      "text/plain": [
       "2"
      ]
     },
     "execution_count": 47,
     "metadata": {},
     "output_type": "execute_result"
    }
   ],
   "source": [
    "t.index('data science')"
   ]
  },
  {
   "cell_type": "code",
   "execution_count": 48,
   "id": "253979a7-c782-4f13-a981-beef3d846eb1",
   "metadata": {},
   "outputs": [
    {
     "data": {
      "text/plain": [
       "1"
      ]
     },
     "execution_count": 48,
     "metadata": {},
     "output_type": "execute_result"
    }
   ],
   "source": [
    "# Count number of occurrencies of a given item\n",
    "t.count(1)"
   ]
  },
  {
   "cell_type": "markdown",
   "id": "64b305fa-05c6-45ba-b05f-21eff3d027f3",
   "metadata": {},
   "source": [
    "### Dictionaries"
   ]
  },
  {
   "cell_type": "markdown",
   "id": "d9360df5-7242-4c1d-b7dd-335c3ec927f3",
   "metadata": {},
   "source": [
    "Dictionaries are containers that store data values in key:value pairs.\n",
    "They are *mutable* and *do not* allow for duplicates."
   ]
  },
  {
   "cell_type": "code",
   "execution_count": 49,
   "id": "e933edd6-d9c1-4eec-8164-e7784a25ba28",
   "metadata": {
    "tags": []
   },
   "outputs": [
    {
     "data": {
      "text/plain": [
       "{'key_1': 1, 'key_2': 2, 'key_3': 'Aarhus'}"
      ]
     },
     "execution_count": 49,
     "metadata": {},
     "output_type": "execute_result"
    }
   ],
   "source": [
    "# Definition of a dictionary\n",
    "d = {\"key_1\": 1, \"key_2\": 2, \"key_3\": \"Aarhus\"}\n",
    "d"
   ]
  },
  {
   "cell_type": "code",
   "execution_count": 50,
   "id": "ce626cb2-a222-4ac2-a6a6-79f2c4dfce68",
   "metadata": {
    "tags": []
   },
   "outputs": [
    {
     "data": {
      "text/plain": [
       "2"
      ]
     },
     "execution_count": 50,
     "metadata": {},
     "output_type": "execute_result"
    }
   ],
   "source": [
    "# Returns the value associated to a key\n",
    "d[\"key_2\"]"
   ]
  },
  {
   "cell_type": "code",
   "execution_count": 51,
   "id": "58426989-7af2-4829-af46-a13b0b20fd2f",
   "metadata": {
    "tags": []
   },
   "outputs": [
    {
     "data": {
      "text/plain": [
       "{'key_1': 1, 'key_2': 2, 'key_3': [1, 2, 3]}"
      ]
     },
     "execution_count": 51,
     "metadata": {},
     "output_type": "execute_result"
    }
   ],
   "source": [
    "# Change the value of a key\n",
    "d[\"key_3\"] = [1,2,3]\n",
    "d"
   ]
  },
  {
   "cell_type": "code",
   "execution_count": 52,
   "id": "152204a4-36ac-4873-a6d0-692d02913bae",
   "metadata": {
    "tags": []
   },
   "outputs": [
    {
     "data": {
      "text/plain": [
       "{'key_1': 1, 'key_2': 2, 'key_3': [1, 2, 3], 'key_4': (1, 2, 3)}"
      ]
     },
     "execution_count": 52,
     "metadata": {},
     "output_type": "execute_result"
    }
   ],
   "source": [
    "# Create a new key by assignment\n",
    "d[\"key_4\"] = (1,2,3)\n",
    "d"
   ]
  },
  {
   "cell_type": "markdown",
   "id": "385ea267-dcd9-4744-9cf1-aa59feae419b",
   "metadata": {},
   "source": [
    "#### Basic dictionary methods"
   ]
  },
  {
   "cell_type": "code",
   "execution_count": 53,
   "id": "ca72bc12-40e5-4b01-bd78-daff1c9ad04d",
   "metadata": {},
   "outputs": [
    {
     "data": {
      "text/plain": [
       "dict_keys(['key_1', 'key_2', 'key_3', 'key_4'])"
      ]
     },
     "execution_count": 53,
     "metadata": {},
     "output_type": "execute_result"
    }
   ],
   "source": [
    "# Get the keys of a dictionary\n",
    "d.keys()"
   ]
  },
  {
   "cell_type": "code",
   "execution_count": 54,
   "id": "ceb39c73-4b53-4482-81eb-61c651d6935f",
   "metadata": {
    "tags": []
   },
   "outputs": [
    {
     "data": {
      "text/plain": [
       "dict_values([1, 2, [1, 2, 3], (1, 2, 3)])"
      ]
     },
     "execution_count": 54,
     "metadata": {},
     "output_type": "execute_result"
    }
   ],
   "source": [
    "# Get the values of a dictionary\n",
    "d.values()"
   ]
  },
  {
   "cell_type": "markdown",
   "id": "ee1c43ca-9d9c-4c28-9aa5-5d65098309af",
   "metadata": {},
   "source": [
    "### Sets"
   ]
  },
  {
   "cell_type": "markdown",
   "id": "45676d89-9ae6-486e-aea7-eff940e657ed",
   "metadata": {},
   "source": [
    "Sets are *unordered* collections of *unique* and *immutable* elements."
   ]
  },
  {
   "cell_type": "code",
   "execution_count": 56,
   "id": "50bb486d-fe82-4025-b7bb-3b428929f110",
   "metadata": {
    "tags": []
   },
   "outputs": [],
   "source": [
    "# Creating a set of integers (notice curly braces)\n",
    "s = {1,2,3}"
   ]
  },
  {
   "cell_type": "code",
   "execution_count": 57,
   "id": "72a6bb06-5325-487f-8a5b-f5ecb5471d9b",
   "metadata": {},
   "outputs": [
    {
     "data": {
      "text/plain": [
       "{1, 2, 3, 5}"
      ]
     },
     "execution_count": 57,
     "metadata": {},
     "output_type": "execute_result"
    }
   ],
   "source": [
    "# Add an element to a set\n",
    "s.add(5)\n",
    "s"
   ]
  },
  {
   "cell_type": "code",
   "execution_count": 58,
   "id": "43caec3e-343d-417f-9aff-cd1f859c1d8d",
   "metadata": {},
   "outputs": [
    {
     "data": {
      "text/plain": [
       "{1, 2, 3, 5}"
      ]
     },
     "execution_count": 58,
     "metadata": {},
     "output_type": "execute_result"
    }
   ],
   "source": [
    "s.add(2) # already exists, doesn't do anything\n",
    "s"
   ]
  },
  {
   "cell_type": "code",
   "execution_count": 59,
   "id": "2be1dd64-f598-426c-abfe-e608fea82810",
   "metadata": {},
   "outputs": [
    {
     "ename": "TypeError",
     "evalue": "'set' object is not subscriptable",
     "output_type": "error",
     "traceback": [
      "\u001b[0;31m---------------------------------------------------------------------------\u001b[0m",
      "\u001b[0;31mTypeError\u001b[0m                                 Traceback (most recent call last)",
      "Cell \u001b[0;32mIn[59], line 2\u001b[0m\n\u001b[1;32m      1\u001b[0m \u001b[38;5;66;03m# Immutability\u001b[39;00m\n\u001b[0;32m----> 2\u001b[0m \u001b[43ms\u001b[49m\u001b[43m[\u001b[49m\u001b[38;5;241;43m0\u001b[39;49m\u001b[43m]\u001b[49m\n",
      "\u001b[0;31mTypeError\u001b[0m: 'set' object is not subscriptable"
     ]
    }
   ],
   "source": [
    "# Immutability\n",
    "s[0]"
   ]
  },
  {
   "cell_type": "code",
   "execution_count": 60,
   "id": "8de253a0-33e1-4035-ac7a-672be1d1530a",
   "metadata": {},
   "outputs": [
    {
     "data": {
      "text/plain": [
       "{1, 2, 3}"
      ]
     },
     "execution_count": 60,
     "metadata": {},
     "output_type": "execute_result"
    }
   ],
   "source": [
    "# From list to set\n",
    "l = [1,2,3]\n",
    "set(l)"
   ]
  },
  {
   "cell_type": "markdown",
   "id": "1d079a45-f0d3-484e-80f6-4e2c97c3f090",
   "metadata": {},
   "source": [
    "## Formatted output"
   ]
  },
  {
   "cell_type": "markdown",
   "id": "627dc44d-c883-4ffa-8909-a7fc1b8ef7f6",
   "metadata": {},
   "source": [
    "You can use the placeholder `%s` to inject strings into print statements."
   ]
  },
  {
   "cell_type": "code",
   "execution_count": 61,
   "id": "02346ea5-0d39-4024-93ed-beb1e2b15685",
   "metadata": {},
   "outputs": [
    {
     "name": "stdout",
     "output_type": "stream",
     "text": [
      "I'm going to add something here.\n"
     ]
    }
   ],
   "source": [
    "print(\"I'm going to add %s here.\" %'something')"
   ]
  },
  {
   "cell_type": "code",
   "execution_count": 62,
   "id": "f55fead5-6a0b-42dd-ad37-c18256af5cfb",
   "metadata": {},
   "outputs": [
    {
     "name": "stdout",
     "output_type": "stream",
     "text": [
      "I wrote 1 notebook today.\n"
     ]
    }
   ],
   "source": [
    "print(\"I wrote %s notebook today.\" %1)"
   ]
  },
  {
   "cell_type": "markdown",
   "id": "17a3e504-b817-47ad-b4bd-066a9ffadc01",
   "metadata": {},
   "source": [
    "A better way of formatting output is to use the `.format()` method:"
   ]
  },
  {
   "cell_type": "code",
   "execution_count": 63,
   "id": "80afb965-5ea6-45dd-ad0c-0d49fd86f515",
   "metadata": {},
   "outputs": [
    {
     "name": "stdout",
     "output_type": "stream",
     "text": [
      "I'm going to add something here.\n"
     ]
    }
   ],
   "source": [
    "print(\"I'm going to add {} here.\".format('something')) # notice curly braces as placeholder"
   ]
  },
  {
   "cell_type": "markdown",
   "id": "f504481e-5c2c-4638-9332-09be2feddb02",
   "metadata": {},
   "source": [
    "Through the so-called `f-strings`, you can use variables immediately into to the string, rather than passing them as arguments to the `print` function."
   ]
  },
  {
   "cell_type": "code",
   "execution_count": 65,
   "id": "a7560531-c71b-4397-aaaa-83372fe78a27",
   "metadata": {},
   "outputs": [
    {
     "name": "stdout",
     "output_type": "stream",
     "text": [
      "I'm going to add something here.\n"
     ]
    }
   ],
   "source": [
    "name = \"something\"\n",
    "print(f\"I'm going to add {name} here.\")"
   ]
  },
  {
   "cell_type": "markdown",
   "id": "9c0549c3-df93-412d-8c41-c9ffd6dc19e5",
   "metadata": {},
   "source": [
    "## Useful functions"
   ]
  },
  {
   "cell_type": "markdown",
   "id": "6b4ca3b4-ff92-4879-87b4-6a4a9170d145",
   "metadata": {},
   "source": [
    "### `range()`"
   ]
  },
  {
   "cell_type": "markdown",
   "id": "6d65fd5f-5fc4-4049-a2f8-9bf4308a00ab",
   "metadata": {},
   "source": [
    "The `range` function returns a sequence of numbers, starting from 0 by default, and increments by 1 (by default), and stops before a specified number. It is particularly useful in `for` loops."
   ]
  },
  {
   "cell_type": "code",
   "execution_count": 66,
   "id": "cd769529-5ac8-4f61-bd6b-aad0c974c1fb",
   "metadata": {
    "tags": []
   },
   "outputs": [
    {
     "name": "stdout",
     "output_type": "stream",
     "text": [
      "range(0, 10)\n",
      "[0, 1, 2, 3, 4, 5, 6, 7, 8, 9]\n"
     ]
    }
   ],
   "source": [
    "# Integers from 0 to 9\n",
    "a = range(10)\n",
    "print(a)\n",
    "# a is only a generator -> we have to convert it to a list to actually see its items\n",
    "print(list(a))"
   ]
  },
  {
   "cell_type": "code",
   "execution_count": 67,
   "id": "c7573172-3571-4bf7-8ba3-a6ab5a6ea763",
   "metadata": {
    "tags": []
   },
   "outputs": [
    {
     "name": "stdout",
     "output_type": "stream",
     "text": [
      "[1, 2, 3, 4, 5, 6, 7, 8, 9, 10]\n"
     ]
    }
   ],
   "source": [
    "# Integers from 1 to 10\n",
    "a = range(1, 11)\n",
    "print(list(a))"
   ]
  },
  {
   "cell_type": "code",
   "execution_count": 68,
   "id": "0fcaa4b9-4a83-40d3-a176-837e89e5f8ad",
   "metadata": {
    "tags": []
   },
   "outputs": [
    {
     "name": "stdout",
     "output_type": "stream",
     "text": [
      "[2, 4, 6, 8, 10]\n"
     ]
    }
   ],
   "source": [
    "# Even integers from 1 to 10\n",
    "a = range(2, 12, 2)\n",
    "print(list(a))"
   ]
  },
  {
   "cell_type": "code",
   "execution_count": null,
   "id": "16c41eb6-fb69-43f9-bc68-635cb3938632",
   "metadata": {},
   "outputs": [],
   "source": []
  }
 ],
 "metadata": {
  "kernelspec": {
   "display_name": "Python 3 (ipykernel)",
   "language": "python",
   "name": "python3"
  },
  "language_info": {
   "codemirror_mode": {
    "name": "ipython",
    "version": 3
   },
   "file_extension": ".py",
   "mimetype": "text/x-python",
   "name": "python",
   "nbconvert_exporter": "python",
   "pygments_lexer": "ipython3",
   "version": "3.11.8"
  }
 },
 "nbformat": 4,
 "nbformat_minor": 5
}
