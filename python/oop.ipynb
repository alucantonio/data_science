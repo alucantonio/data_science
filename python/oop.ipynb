{
 "cells": [
  {
   "cell_type": "markdown",
   "id": "2c1ab5cf-dcdc-458e-b10d-08ef137a3506",
   "metadata": {},
   "source": [
    "# Object Oriented Programming (OOP)"
   ]
  },
  {
   "cell_type": "markdown",
   "id": "db7e997c-8c57-473b-90b4-c364316aa5a9",
   "metadata": {},
   "source": [
    "From *Wikipedia*: \"Object-oriented programming (OOP) is a programming paradigm based on the concept of \"objects\", which can contain data and code.\""
   ]
  },
  {
   "cell_type": "markdown",
   "id": "d530edae-6d4b-4240-9ea1-f112de6f9a17",
   "metadata": {},
   "source": [
    "## Classes"
   ]
  },
  {
   "cell_type": "markdown",
   "id": "3826fac5-920d-495d-8218-74e6ba70614a",
   "metadata": {},
   "source": [
    "_Classes_ are abstract definitions of groups of entities (or objects). This allows to\n",
    "write re-usable and modular code. Classes specify the\n",
    "features (attributes) common to those entities and their behavior through a set of\n",
    "functions. An _object_ is an instance of a class. \n",
    "\n",
    "Custom classes are created via the `class` keyword. \n",
    "- Functions defined inside the body of a class are called **methods**. They define the\n",
    "  _behavior_ of objects belonging to the class.\n",
    "- The first argument of each method must be `self`, which is a reference to the current object.\n",
    "- The special (optional) method  `__init__` called **constructor** can be used to\n",
    "  initialize the attributes (or properties) of an object.\n",
    "\n",
    "Let's see an example."
   ]
  },
  {
   "cell_type": "code",
   "execution_count": 2,
   "id": "6605b86d-87a6-485a-be86-9a1472796cda",
   "metadata": {
    "tags": []
   },
   "outputs": [],
   "source": [
    "import math\n",
    "\n",
    "# Definition of a class\n",
    "class Polygon:\n",
    "    def __init__(self, ne, es):\n",
    "        # Assign the values of the arguments passed to the constructor when creating an\n",
    "        # object to the object properties num_edges and edge_size\n",
    "        self.num_edges = ne\n",
    "        self.edge_size = es\n",
    "\n",
    "    def get_perimeter(self):\n",
    "        self.perimeter = self.num_edges*self.edge_size\n",
    "\n",
    "    def get_area(self):\n",
    "        # compute the apothem of the polygon\n",
    "        a = self.edge_size/(2*math.tan(math.pi/self.num_edges))\n",
    "        # Define the property (or attribute) area and compute its value\n",
    "        self.area = self.num_edges*self.edge_size*a/2\n"
   ]
  },
  {
   "cell_type": "code",
   "execution_count": 16,
   "id": "6acc5bf2-f099-44ab-875f-ae28b881f0c9",
   "metadata": {
    "tags": []
   },
   "outputs": [],
   "source": [
    "# Let's create an object of type Polygon, i.e. an instance of the class Polygon\n",
    "p = Polygon(6, 3.) # the arguments are passed to the constructor (__init__) "
   ]
  },
  {
   "cell_type": "code",
   "execution_count": 17,
   "id": "40516c5b",
   "metadata": {},
   "outputs": [
    {
     "name": "stdout",
     "output_type": "stream",
     "text": [
      "The perimeter of the polygon is 18.0\n",
      "The area of the polygon is 23.382685902179848\n"
     ]
    }
   ],
   "source": [
    "# Methods and attributes can be accessed using the dot operator\n",
    "p.get_perimeter()\n",
    "p.get_area()\n",
    "print(f\"The perimeter of the polygon is {p.perimeter}\")\n",
    "print(f\"The area of the polygon is {p.area}\")"
   ]
  },
  {
   "cell_type": "code",
   "execution_count": 5,
   "id": "9a5c94d6",
   "metadata": {},
   "outputs": [
    {
     "ename": "AttributeError",
     "evalue": "'Polygon' object has no attribute 'a'",
     "output_type": "error",
     "traceback": [
      "\u001b[0;31m---------------------------------------------------------------------------\u001b[0m",
      "\u001b[0;31mAttributeError\u001b[0m                            Traceback (most recent call last)",
      "Cell \u001b[0;32mIn[5], line 4\u001b[0m\n\u001b[1;32m      1\u001b[0m \u001b[38;5;66;03m# a is a local variable in the get_area function, not an attribute of the object,\u001b[39;00m\n\u001b[1;32m      2\u001b[0m \u001b[38;5;66;03m# so we cannot access it from outside the function (we should define self.a in the\u001b[39;00m\n\u001b[1;32m      3\u001b[0m \u001b[38;5;66;03m# function to do so)\u001b[39;00m\n\u001b[0;32m----> 4\u001b[0m \u001b[43mp\u001b[49m\u001b[38;5;241;43m.\u001b[39;49m\u001b[43ma\u001b[49m\n",
      "\u001b[0;31mAttributeError\u001b[0m: 'Polygon' object has no attribute 'a'"
     ]
    }
   ],
   "source": [
    "# a is a local variable in the get_area function, not an attribute of the object,\n",
    "# so we cannot access it from outside the function (we should define self.a in the\n",
    "# function to do so)\n",
    "p.a"
   ]
  },
  {
   "cell_type": "markdown",
   "id": "9d87ff0a-0564-4702-8676-7976ee7fe419",
   "metadata": {},
   "source": [
    "### Inheritance"
   ]
  },
  {
   "cell_type": "markdown",
   "id": "dbb76673-e09b-4572-95d7-c0f9c0e91c98",
   "metadata": {},
   "source": [
    "Inheritance allows a new class to acquire (*inherit*) the features of another class.\n",
    "Suppose that we want to define a class `Square` to manipulate squares. Of course, we can\n",
    "make a new class from scratch, as for polygons. However, a square is actually a polygon,\n",
    "hence a `Square` can be thought as a *derived class*, of the class `Polygon`.  This concept is called *inheritance*. The special method `super()` for the subclass allows to refer to the parent class.\n",
    "\n"
   ]
  },
  {
   "cell_type": "code",
   "execution_count": 6,
   "id": "1658ebee-532a-430e-83df-c484c9f1907f",
   "metadata": {
    "tags": []
   },
   "outputs": [],
   "source": [
    "class Square(Polygon):\n",
    "    def __init__(self, edge_size):\n",
    "        # Calls the constructor of the class Polygon, with ne=4, es=edge_size\n",
    "        super().__init__(4, edge_size)"
   ]
  },
  {
   "cell_type": "code",
   "execution_count": 18,
   "id": "1c784ff2-84cb-4598-8afb-abbdd74bf8d9",
   "metadata": {
    "tags": []
   },
   "outputs": [
    {
     "name": "stdout",
     "output_type": "stream",
     "text": [
      "The perimeter of the square is 12.0\n",
      "The area of the square is 9.000000000000002\n"
     ]
    }
   ],
   "source": [
    "s = Square(3.)\n",
    "s.get_perimeter()\n",
    "s.get_area()\n",
    "print(f\"The perimeter of the square is {s.perimeter}\")\n",
    "print(f\"The area of the square is {s.area}\")"
   ]
  },
  {
   "cell_type": "code",
   "execution_count": null,
   "id": "c4fe6f91",
   "metadata": {},
   "outputs": [],
   "source": []
  }
 ],
 "metadata": {
  "kernelspec": {
   "display_name": "Python 3 (ipykernel)",
   "language": "python",
   "name": "python3"
  },
  "language_info": {
   "codemirror_mode": {
    "name": "ipython",
    "version": 3
   },
   "file_extension": ".py",
   "mimetype": "text/x-python",
   "name": "python",
   "nbconvert_exporter": "python",
   "pygments_lexer": "ipython3",
   "version": "3.11.8"
  }
 },
 "nbformat": 4,
 "nbformat_minor": 5
}
