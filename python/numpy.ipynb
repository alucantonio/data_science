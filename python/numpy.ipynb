{
 "cells": [
  {
   "cell_type": "markdown",
   "id": "acfeac90-6b6d-4a97-b3bc-82db8820225b",
   "metadata": {},
   "source": [
    "# Introduction to NumPy\n"
   ]
  },
  {
   "cell_type": "markdown",
   "id": "8e3e5fdf-f35a-44b1-a909-868af7cf1d8d",
   "metadata": {},
   "source": [
    "NumPy (Numerical Python) is an open source Python library that is widely used in science and engineering.  It is optimized and easy-to-use and offers e.g. linear algebra routines and a comprehensive set of mathematical functions.\n",
    "\n",
    "Reference: online [documentation](https://numpy.org/doc/stable/)"
   ]
  },
  {
   "cell_type": "code",
   "execution_count": null,
   "id": "c03052ca-7ebe-45f5-bb97-7ef813fb8649",
   "metadata": {
    "tags": []
   },
   "outputs": [],
   "source": [
    "# Imports for this lecture\n",
    "import time\n",
    "import numpy as np # notice the alias \"np\" for the numpy library\n",
    "import matplotlib.pyplot as plt # library for plotting data"
   ]
  },
  {
   "cell_type": "markdown",
   "id": "8000b32e-30ba-47a5-8e41-8b469de9dc23",
   "metadata": {},
   "source": [
    "## Arrays"
   ]
  },
  {
   "cell_type": "markdown",
   "id": "252ce37a-0815-4030-8430-972b063d0250",
   "metadata": {},
   "source": [
    "An array is a 'grid' of values of the same type. For instance, a one-dimensional array can be thought of as list, while a two-dimensional array is a table (or 2D matrix). Each array has the following attributes:\n",
    "- `shape`, a tuple representing the shape of the data. For example, a $3 \\times 4$ matrix has shape $(3,4)$;\n",
    "- `data`, raw data storage in memory;\n",
    "- `dtype`, data type (for instance, int32 or float32)."
   ]
  },
  {
   "cell_type": "markdown",
   "id": "1cb12faf-b6d9-4e52-9254-932d0538a815",
   "metadata": {},
   "source": [
    "### Creating arrays"
   ]
  },
  {
   "cell_type": "markdown",
   "id": "7c4c8710-cfdc-4f63-9f6e-dd81d3c48b76",
   "metadata": {},
   "source": [
    "NumPy arrays can be created from lists with a special structure:"
   ]
  },
  {
   "cell_type": "code",
   "execution_count": null,
   "id": "3a0f89db-052a-48a3-a6cc-5a9987080cb3",
   "metadata": {
    "tags": []
   },
   "outputs": [],
   "source": [
    "# 1-dimensional array of length 3\n",
    "a = np.array([1,2,3])\n",
    "# 2-dimensional array of shape (2,3) -> 3x4 matrix\n",
    "b = np.array([[1,2,3], [4,5,6]]) # notice the correspondence between lists and rows/columns of the matrix\n",
    "print(f\"a={a}\")\n",
    "print(f\"b={b}\")"
   ]
  },
  {
   "cell_type": "markdown",
   "id": "86a503b1-a48b-4488-b9a2-66387cc9ecb9",
   "metadata": {},
   "source": [
    "The data type is inferred from the values contained in the lists (in this case, integers):"
   ]
  },
  {
   "cell_type": "code",
   "execution_count": null,
   "id": "f1c5e9f7-50e3-4760-966a-0fb4785ce26b",
   "metadata": {},
   "outputs": [],
   "source": [
    "print(b.dtype)"
   ]
  },
  {
   "cell_type": "code",
   "execution_count": null,
   "id": "44c7473c-6b44-4e70-b86a-89e84bb7cd91",
   "metadata": {},
   "outputs": [],
   "source": [
    "# list of floats -> dtype=float64\n",
    "a = np.array([1.,2.,3.])\n",
    "print(a.dtype)"
   ]
  },
  {
   "cell_type": "code",
   "execution_count": null,
   "id": "60bc17a1-8972-4f95-8952-2fd8d287768a",
   "metadata": {
    "tags": []
   },
   "outputs": [],
   "source": [
    "# 3x4 matrix of zeros\n",
    "zero = np.zeros((3,4))\n",
    "zero"
   ]
  },
  {
   "cell_type": "code",
   "execution_count": null,
   "id": "aea111db-dba4-444a-ad7a-8ab1f354b4de",
   "metadata": {},
   "outputs": [],
   "source": [
    "# Default type for np.zeros is float\n",
    "print(zero.dtype)"
   ]
  },
  {
   "cell_type": "code",
   "execution_count": null,
   "id": "424976e1-1f05-466b-a8f4-5faad267ea13",
   "metadata": {
    "tags": []
   },
   "outputs": [],
   "source": [
    "# Data type can be manually enforced\n",
    "zero = np.zeros((3,4), dtype = np.int64)\n",
    "print(zero.dtype)"
   ]
  },
  {
   "cell_type": "code",
   "execution_count": null,
   "id": "98926335-754a-40a7-839a-58d47e03bf6c",
   "metadata": {
    "tags": []
   },
   "outputs": [],
   "source": [
    "# 2x5 matrix of ones\n",
    "one = np.ones((2,5))\n",
    "one"
   ]
  },
  {
   "cell_type": "code",
   "execution_count": null,
   "id": "927a1aad-c035-4ad4-90d9-a0717656fa34",
   "metadata": {
    "tags": []
   },
   "outputs": [],
   "source": [
    "# identity matrix\n",
    "identity = np.eye(5)\n",
    "identity"
   ]
  },
  {
   "cell_type": "markdown",
   "id": "30262e62-7029-483e-a57d-5a93ba512cb7",
   "metadata": {},
   "source": [
    "### Arrays vs lists"
   ]
  },
  {
   "cell_type": "markdown",
   "id": "b025e143-6430-4a69-b0c7-131b219bce64",
   "metadata": {},
   "source": [
    "Array manipulations are faster than list operations, especially when they contain many values, because NumPy uses highly-optimized numerical routines. In the following example we compare the performance of NumPy array operations vs that of list operations."
   ]
  },
  {
   "cell_type": "code",
   "execution_count": null,
   "id": "9223f065-81c0-4f16-85e0-4e141c0737b2",
   "metadata": {
    "tags": []
   },
   "outputs": [],
   "source": [
    "length = 100000000\n",
    "a = list(range(length))\n",
    "b = [ 0 ] * length # a list of zeros containing with len=length"
   ]
  },
  {
   "cell_type": "code",
   "execution_count": null,
   "id": "8dce82ba-444a-4698-b484-f59c20c33742",
   "metadata": {
    "tags": []
   },
   "outputs": [],
   "source": [
    "# Square of a list\n",
    "tic = time.time() # record starting time\n",
    "for i in range(len(a)):\n",
    "  b[i] = a[i]**2\n",
    "toc = time.time() # record ending time\n",
    "print(f\"Elapsed time: {toc - tic}\")"
   ]
  },
  {
   "cell_type": "code",
   "execution_count": null,
   "id": "ac7eb3ac-606e-44e8-8b93-df6eccbe5376",
   "metadata": {
    "tags": []
   },
   "outputs": [],
   "source": [
    "a_np = np.arange(length) # equivalent to np.array(range(length))\n",
    "b_np = np.zeros(length) # pre-allocate an array of zeros to keep the result of the square"
   ]
  },
  {
   "cell_type": "code",
   "execution_count": null,
   "id": "025d8f40-b272-4326-9300-114f081742f6",
   "metadata": {
    "tags": []
   },
   "outputs": [],
   "source": [
    "tic = time.time()\n",
    "b_np = a_np ** 2\n",
    "toc = time.time()\n",
    "print(f\"Elapsed time: {toc - tic}\")"
   ]
  },
  {
   "cell_type": "markdown",
   "id": "2711728d-5e6f-4151-bae5-9602cfb37a0d",
   "metadata": {},
   "source": [
    "Notice that the code operating on lists involves a `for` loop, which is _slow_ in\n",
    "Python, due to the interpreted nature of the language. NumPy is faster because its\n",
    "operations are **vectorized**, i.e. they do not involve explicit loops, indexing, etc.,\n",
    "in the code. These things are taking place, under the hood in optimized, pre-compiled C\n",
    "code. Hence, to exploit the efficiency of NumPy, try to avoid `for` loops and use\n",
    "vectorized operations!"
   ]
  },
  {
   "cell_type": "markdown",
   "id": "6fff8373-4818-4c23-bac9-bd246d6fa232",
   "metadata": {},
   "source": [
    "### Basic operations on arrays"
   ]
  },
  {
   "cell_type": "code",
   "execution_count": null,
   "id": "7db3c8ef-8056-41d2-99a7-7ca834b28daa",
   "metadata": {
    "tags": []
   },
   "outputs": [],
   "source": [
    "# Getting the attributes of an array\n",
    "print(f\"Shape: {one.shape}\")\n",
    "print(f\"Size: {one.size}\") # size = total number of elements\n",
    "print(f\"Number of dimensions: {one.ndim}\")\n",
    "print(f\"Data type: {one.dtype}\")"
   ]
  },
  {
   "cell_type": "code",
   "execution_count": null,
   "id": "1cdd8253-65d1-44fc-83ba-2b82b0302347",
   "metadata": {
    "tags": []
   },
   "outputs": [],
   "source": [
    "# Element-wise addition\n",
    "a = np.array([1,2,3])\n",
    "b = np.array([4,5,6])\n",
    "a + b"
   ]
  },
  {
   "cell_type": "code",
   "execution_count": null,
   "id": "b3dafdb1-2410-4d5f-92be-ad8755a82a36",
   "metadata": {
    "tags": []
   },
   "outputs": [],
   "source": [
    "# Element-wise subtraction\n",
    "a - b"
   ]
  },
  {
   "cell_type": "code",
   "execution_count": null,
   "id": "18dd48e1-93d9-419a-a078-abd453ee4157",
   "metadata": {
    "tags": []
   },
   "outputs": [],
   "source": [
    "# Element-wise multiplication\n",
    "a*b"
   ]
  },
  {
   "cell_type": "code",
   "execution_count": null,
   "id": "3862445f-8940-4e12-99ef-f4c7258c3724",
   "metadata": {
    "tags": []
   },
   "outputs": [],
   "source": [
    "# Element-wise division\n",
    "a/b"
   ]
  },
  {
   "cell_type": "code",
   "execution_count": null,
   "id": "78b0f94d-0029-4d19-b469-39a27ad57f5c",
   "metadata": {
    "tags": []
   },
   "outputs": [],
   "source": [
    "# Transpose\n",
    "a = np.array([[1,2,3], [4,5,6]])\n",
    "print(a)\n",
    "# more general alternative: np.transpose\n",
    "a.T"
   ]
  },
  {
   "cell_type": "code",
   "execution_count": null,
   "id": "39c22eb9",
   "metadata": {},
   "outputs": [],
   "source": [
    "# Reshaping\n",
    "# example: transforming a row vector (shape=(3,)) into a column vector (shape=(3,1))\n",
    "a = np.array([1.,2.,3.])\n",
    "print(f\"Original (row) vector: {a}\")\n",
    "a_col = a.reshape((3,1)) # the new shape (3x1) \n",
    "print(f\"Column vector: \\n {a_col}\")\n",
    "print(a_col.shape)"
   ]
  },
  {
   "cell_type": "code",
   "execution_count": null,
   "id": "0d837ff6",
   "metadata": {},
   "outputs": [],
   "source": [
    "# Equivalent short-hand notation\n",
    "a_col = a.reshape(-1,1)\n",
    "a_col"
   ]
  },
  {
   "cell_type": "code",
   "execution_count": null,
   "id": "7aa2187d",
   "metadata": {},
   "outputs": [],
   "source": [
    "# Concatenation\n",
    "x = np.array([[1, 2, 3], [4, 5, 6]])\n",
    "y = np.array([[7, 8, 9], [10, 11, 12]])\n",
    "out2 = np.hstack((x, y)) # stack arrays horizontally (stack columns)\n",
    "out1 = np.concatenate((x, y), axis=1) # equivalent to hstack (axis=1)\n",
    "assert np.allclose(out1, out2)\n",
    "print(out2)\n",
    "print(np.vstack((x,y))) # stack arrays vertically (stack rows)"
   ]
  },
  {
   "cell_type": "code",
   "execution_count": null,
   "id": "249fc346",
   "metadata": {},
   "outputs": [],
   "source": [
    "# Reading/writing arrays to file\n",
    "\n",
    "# Save the array to a file (binary format using .npy extension)\n",
    "np.save('my_array.npy', x)\n",
    "\n",
    "# Load the array from the file\n",
    "loaded_array = np.load('my_array.npy')\n",
    "\n",
    "print(\"Loaded array:\")\n",
    "print(loaded_array)"
   ]
  },
  {
   "cell_type": "markdown",
   "id": "b66501e0",
   "metadata": {},
   "source": [
    "NumPy contains _many_ functions: check the online [docs](https://numpy.org/doc/stable/reference/index.html) when you need a specific function."
   ]
  },
  {
   "cell_type": "markdown",
   "id": "8b69fe63-e0c8-4320-bc34-33f31c8c0457",
   "metadata": {},
   "source": [
    "## Linear Algebra with NumPy"
   ]
  },
  {
   "cell_type": "markdown",
   "id": "27fcdc5d-7a8f-4e9b-a06b-bf16dda3f48f",
   "metadata": {},
   "source": [
    "NumPy can efficiently handle Linear Algebra computations."
   ]
  },
  {
   "cell_type": "code",
   "execution_count": null,
   "id": "03dcfd31-a645-4cff-b765-f526760c8ed8",
   "metadata": {
    "tags": []
   },
   "outputs": [],
   "source": [
    "# Matrix-vector product\n",
    "M = np.ones((3,2))\n",
    "a = np.ones(2)\n",
    "M @ a "
   ]
  },
  {
   "cell_type": "markdown",
   "id": "e6cce44f",
   "metadata": {},
   "source": [
    "Notice: the behavior of the @ operator depends on the shape of the operands involved.\n",
    "Check the\n",
    "[docs](https://numpy.org/doc/stable/reference/generated/numpy.matmul.html#numpy.matmul)\n",
    "when in doubt."
   ]
  },
  {
   "cell_type": "code",
   "execution_count": null,
   "id": "3804b64d-41f7-4d47-aceb-4a7f6627a3b3",
   "metadata": {
    "tags": []
   },
   "outputs": [],
   "source": [
    "M @ M.T # result: 3x3 matrix"
   ]
  },
  {
   "cell_type": "code",
   "execution_count": null,
   "id": "533fced2-a91b-4534-823b-4396a001412d",
   "metadata": {
    "tags": []
   },
   "outputs": [],
   "source": [
    "# Dot product between two one-dimensional arrays = scalar product of vectors\n",
    "a = np.array([0,3,4])\n",
    "b = np.array([4,5,6])\n",
    "np.dot(a,b) # check the docs when the arrays are not one-dimensional"
   ]
  },
  {
   "cell_type": "code",
   "execution_count": null,
   "id": "4a5c724e",
   "metadata": {},
   "outputs": [],
   "source": [
    "# Element-wise multiplication between arrays of the same shape;\n",
    "# when shapes are different, broadcasting\n",
    "# (https://numpy.org/doc/stable/user/basics.broadcasting.html) may be applied\n",
    "A = np.array([[1,5],[2,9]])\n",
    "B = np.array([[1,2],[3,4]])\n",
    "A * B"
   ]
  },
  {
   "cell_type": "code",
   "execution_count": null,
   "id": "62637f6d-c12a-4632-9e8c-f38d2f144c2e",
   "metadata": {
    "tags": []
   },
   "outputs": [],
   "source": [
    "# 2-norm (Euclidean) of a vector\n",
    "np.linalg.norm(a)"
   ]
  },
  {
   "cell_type": "code",
   "execution_count": null,
   "id": "fdaa8905-2a24-4264-8a9f-1db7cb86f072",
   "metadata": {
    "tags": []
   },
   "outputs": [],
   "source": [
    "# Solving a linear system Ax=b\n",
    "A = np.array([[1,2],[0,1]]) # matrix of the coefficients\n",
    "b = np.array([3,4]) # right hand side of the system\n",
    "x = np.linalg.solve(A,b)\n",
    "print(f\"The solution of the system Ax = b is: {x}\")"
   ]
  },
  {
   "cell_type": "code",
   "execution_count": null,
   "id": "b8dbf0ad-f176-448f-b32e-206888a63139",
   "metadata": {
    "tags": []
   },
   "outputs": [],
   "source": [
    "# Solution check\n",
    "A @ x"
   ]
  },
  {
   "cell_type": "code",
   "execution_count": null,
   "id": "82d74091-7e48-46da-973d-cd8b56721aca",
   "metadata": {},
   "outputs": [],
   "source": [
    "# Inverse of a matrix\n",
    "A = np.array([[1,2], [0, 1]])\n",
    "A_inv = np.linalg.inv(A)\n",
    "A_inv"
   ]
  },
  {
   "cell_type": "code",
   "execution_count": null,
   "id": "daa1ab8c-c000-42b0-b23c-92042386ea87",
   "metadata": {},
   "outputs": [],
   "source": [
    "# Inverse check\n",
    "A @ A_inv"
   ]
  },
  {
   "cell_type": "markdown",
   "id": "a28f111c-4300-4ca0-82dc-a4d8babc5796",
   "metadata": {},
   "source": [
    "## Examples"
   ]
  },
  {
   "cell_type": "markdown",
   "id": "7fa476c1-fc76-4de2-ba93-712fa120d69e",
   "metadata": {},
   "source": [
    "### 1. Approximations of $\\pi$"
   ]
  },
  {
   "cell_type": "markdown",
   "id": "80c5b849-a536-4af1-a865-851badc69323",
   "metadata": {},
   "source": [
    "#### 1.1 Monte Carlo approximation of $\\pi$"
   ]
  },
  {
   "cell_type": "markdown",
   "id": "3e52a354-70f7-4bfc-b98b-426d548b533d",
   "metadata": {},
   "source": [
    "To estimate the value of $\\pi$ we can proceed as follows. Consider a circle or radius $1$ inscribed in a square with edge $2$. The area of the circle is $\\pi$ and can be estimated generating a large number of randomly placed points within the square and by counting how many of these fall in the enclosing circle. Precisely,\n",
    "$$\\frac{\\pi}{4} \\approx \\frac{n_{\\text{in}}}{n},$$\n",
    "where $n$ is the number of points generated and $n_{\\text{in}}$ is the number of points\n",
    "inside the circle.\n",
    "\n",
    "Study the following code and pay attention to the use of _vectorized_ operations."
   ]
  },
  {
   "cell_type": "code",
   "execution_count": null,
   "id": "8aeb214e-2c6d-43d2-a4f2-2c8108a8ebff",
   "metadata": {
    "tags": []
   },
   "outputs": [],
   "source": [
    "def MonteCarloPi(num_sample):\n",
    " \n",
    "    # Generate random (x,y) samples in [0,1)^2\n",
    "    random_x = np.random.rand(num_sample)\n",
    "    random_y = np.random.rand(num_sample)\n",
    "\n",
    "    # Center them in [-1,1)^2\n",
    "    x = 2*random_x - 1\n",
    "    y = 2*random_y - 1\n",
    "\n",
    "    # Distances of the samples from the center\n",
    "    r = np.sqrt(x**2+y**2)\n",
    "\n",
    "    # Count the points inside the circle\n",
    "    num_inside = np.sum(r<=1)\n",
    "\n",
    "    # Get coordinates of inner and outer points for the plot\n",
    "    x_inside = x[r<=1]\n",
    "    y_inside = y[r<=1]\n",
    "    x_outside = x[r>1]\n",
    "    y_outside = y[r>1]\n",
    "\n",
    "    # Estimate pi and evaluate the percentage error w.r.t. the true value\n",
    "    pi_approx = num_inside / num_sample\n",
    "    pi_error = round(100*((pi_approx-np.pi)/np.pi),4)\n",
    "\n",
    "    # PLOT\n",
    "    \n",
    "    # Coordinates of the vertices of the square (needed for the plot)\n",
    "    square_x = np.array([1,-1,-1,1,1])\n",
    "    square_y = np.array([1,1,-1,-1,1])\n",
    "\n",
    "    # Generate vector of angles in degrees\n",
    "    theta_degree = np.arange(361)\n",
    "    theta_radiant = np.pi*theta_degree/180\n",
    "\n",
    "    # A circle needed for the plot\n",
    "    circle_x = np.cos(theta_radiant)\n",
    "    circle_y = np.sin(theta_radiant)\n",
    "    \n",
    "    plt.figure(figsize=(5,5))\n",
    "    plt.plot(square_x,square_y,color='#000')\n",
    "    plt.plot(circle_x,circle_y,color='#000')\n",
    "    plt.scatter(x_inside,y_inside,color='#e41a1c',marker=\".\")\n",
    "    plt.scatter(x_outside,y_outside,color='#377eb8',marker=\".\")\n",
    "    plt.xlabel('x')\n",
    "    plt.ylabel('y')\n",
    "    plt.show()\n",
    "\n",
    "    print('\\n' + f'Pi is approximately {pi_approx}\\n')\n",
    "    print(f'This is {pi_error}% off the true value.\\n')"
   ]
  },
  {
   "cell_type": "code",
   "execution_count": null,
   "id": "b2e7cb54-0685-4a74-bec4-8b7b2ca75b6b",
   "metadata": {
    "tags": []
   },
   "outputs": [],
   "source": [
    "MonteCarloPi(10000)"
   ]
  },
  {
   "cell_type": "markdown",
   "id": "9981280c-e2f0-4ef5-93f3-6cce6de62d50",
   "metadata": {},
   "source": [
    "#### 1.2 Leibniz formula for $\\pi$\n"
   ]
  },
  {
   "cell_type": "markdown",
   "id": "55fd2171",
   "metadata": {},
   "source": [
    "[Wikipedia page](https://en.wikipedia.org/wiki/Leibniz_formula_for_π)"
   ]
  },
  {
   "cell_type": "markdown",
   "id": "2e75cf74-9d35-409e-88af-b549cffa3637",
   "metadata": {},
   "source": [
    "$$\\pi/4 = \\arctan(1) = \\sum_{k=0}^{+\\infty} \\frac{(-1)^k}{2k + 1}$$"
   ]
  },
  {
   "cell_type": "code",
   "execution_count": null,
   "id": "8a203654-d8bc-4643-ad8b-ec8ce58ab84a",
   "metadata": {
    "tags": []
   },
   "outputs": [],
   "source": [
    "n = 10000000\n",
    "k = np.arange(n)\n",
    "pi_approx = 4*np.sum((-1)**k/(2*k + 1))\n",
    "print(pi_approx)"
   ]
  },
  {
   "cell_type": "markdown",
   "id": "9d9b999a-02b9-4e17-8b8d-15f7d5758c0b",
   "metadata": {},
   "source": [
    "### (Optional) 2. Eigenvalues and eigenvectors of the second derivative"
   ]
  },
  {
   "cell_type": "markdown",
   "id": "96bf0f25-c534-4474-beb8-37d2190d9a48",
   "metadata": {},
   "source": [
    "Consider the ODE with Dirichlet boundary conditions $u(0) = u(1) = 0$\n",
    "$$\\frac{d}{dx^2} u(x) = \\lambda u(x), \\quad x \\in [0,1].$$\n",
    "Solving this equation w.r.t $(\\lambda, u)$ corresponds to finding the eigenvalues and eigenvectors of the second derivative. Explicitily, all the couples $(\\lambda_j, u_j)$, $j \\geq 0$, are (the eigenvalues are ordered in descending order)\n",
    "$$\\lambda_j = -j^2 \\pi^2, \\quad u_j(x) = \\sqrt{2} \\sin(j \\pi x)$$.\n",
    "\n",
    "To estimate the first $N$ couples, we can use the finite difference method\n",
    "$$\\frac{du}{dx^2} \\approx \\frac{u_{i+1} - 2 u_{i} + u_{i-1}}{h^2},$$\n",
    "where now $u = [u_0, \\dots, u_N]$ and $h = 1/N$."
   ]
  },
  {
   "cell_type": "code",
   "execution_count": null,
   "id": "7fd51a7b-eb20-4ed5-b87b-f71aa102a249",
   "metadata": {
    "tags": []
   },
   "outputs": [],
   "source": [
    "def build_matrix(N):\n",
    "    main_diag = -2*np.ones(N-1)\n",
    "    off_diag = np.ones(N-2)\n",
    "    derivative_matrix = (np.diag(main_diag) + np.diag(off_diag, k=1)+ np.diag(off_diag, k=-1))\n",
    "    return derivative_matrix"
   ]
  },
  {
   "cell_type": "code",
   "execution_count": null,
   "id": "27b626cc-ae05-473e-9916-7a621e367b4b",
   "metadata": {
    "tags": []
   },
   "outputs": [],
   "source": [
    "N = 1000\n",
    "x = np.linspace(0,1,N+1)\n",
    "h = x[1]-x[0]\n",
    "trid_matrix = build_matrix(N)\n",
    "trid_matrix"
   ]
  },
  {
   "cell_type": "code",
   "execution_count": null,
   "id": "affeddd7-cccd-4fed-bddf-7e0b959cd323",
   "metadata": {
    "tags": []
   },
   "outputs": [],
   "source": [
    "A = 1/(h**2)*trid_matrix\n",
    "# Eigenvalues in ascending order\n",
    "w, v = np.linalg.eigh(A) # returns eigenvalues, eigenvectors"
   ]
  },
  {
   "cell_type": "code",
   "execution_count": null,
   "id": "7d3fa8c4-0894-4e8a-aadf-05a73c22f754",
   "metadata": {
    "tags": []
   },
   "outputs": [],
   "source": [
    "w[-1]"
   ]
  },
  {
   "cell_type": "code",
   "execution_count": null,
   "id": "ba301af2-5044-49c4-9c10-e26f0350f452",
   "metadata": {
    "tags": []
   },
   "outputs": [],
   "source": [
    "-np.pi**2"
   ]
  },
  {
   "cell_type": "code",
   "execution_count": null,
   "id": "ac870ea8-a035-4dec-8d62-97cf87190b84",
   "metadata": {
    "tags": []
   },
   "outputs": [],
   "source": [
    "# Plot some the 5 eigenvectors related to the 5 smallest eigenvalues\n",
    "for i in range(1,5):\n",
    "    plt.plot(x[1:-1],v[:,-i])"
   ]
  }
 ],
 "metadata": {
  "kernelspec": {
   "display_name": "Python 3 (ipykernel)",
   "language": "python",
   "name": "python3"
  },
  "language_info": {
   "codemirror_mode": {
    "name": "ipython",
    "version": 3
   },
   "file_extension": ".py",
   "mimetype": "text/x-python",
   "name": "python",
   "nbconvert_exporter": "python",
   "pygments_lexer": "ipython3",
   "version": "3.12.5"
  }
 },
 "nbformat": 4,
 "nbformat_minor": 5
}
