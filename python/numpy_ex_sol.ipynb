{
 "cells": [
  {
   "cell_type": "code",
   "execution_count": null,
   "id": "d8f60f66-a94f-48ad-bd47-b7432f0dbb2d",
   "metadata": {},
   "outputs": [],
   "source": [
    "import numpy as np"
   ]
  },
  {
   "cell_type": "code",
   "execution_count": null,
   "id": "2512a10c-0d76-4b44-820e-d3a5de99f36d",
   "metadata": {},
   "outputs": [],
   "source": [
    "# Exercise 1\n",
    "def get_largest(a, n):\n",
    "    # n must be strictly positive\n",
    "    assert n > 0\n",
    "    a_sort = np.sort(a)\n",
    "    return a_sort[-n:]\n",
    "\n",
    "a = np.array([1,4,2,4.3,5, 12, 7, 8,2])\n",
    "get_largest(a, 5)"
   ]
  },
  {
   "cell_type": "code",
   "execution_count": null,
   "id": "78f0f764-ca8c-409f-aea6-3680babbfc96",
   "metadata": {},
   "outputs": [],
   "source": [
    "# Exercise 2\n",
    "def unique_rows(A):\n",
    "    return np.unique(A, axis=0)\n",
    "\n",
    "A = np.array([[0,0,1], [0,1,0], [0,0,1]])\n",
    "unique_rows(A)"
   ]
  },
  {
   "cell_type": "code",
   "execution_count": null,
   "id": "dc958a0d-5e4c-48e5-8b90-0ae719e96664",
   "metadata": {},
   "outputs": [],
   "source": [
    "# Exercise 3\n",
    "def cauchy_matrix(x, y):\n",
    "    # reshape x into a column vector\n",
    "    x = x.reshape((-1,1))\n",
    "    return 1/(x - y)\n",
    "\n",
    "x = np.array([1,2,3])\n",
    "y = np.array([4,5,6])\n",
    "cauchy_matrix(x,y)"
   ]
  },
  {
   "cell_type": "code",
   "execution_count": null,
   "id": "60e578ec",
   "metadata": {},
   "outputs": [],
   "source": [
    "# Exercise 4\n",
    "A = np.random.random((10,2))\n",
    "X,Y = A[:,0], A[:,1]\n",
    "radii = np.sqrt(X**2+Y**2)\n",
    "angles = np.arctan2(Y,X)\n",
    "print(radii)\n",
    "print(angles)"
   ]
  },
  {
   "cell_type": "code",
   "execution_count": null,
   "id": "741d4be0-f234-41c1-ae6c-15e9a61e5a50",
   "metadata": {},
   "outputs": [],
   "source": [
    "# Exercise 5\n",
    "def first_occurrence(x, y):\n",
    "    occurrences = np.where(x==y)[0]\n",
    "    return occurrences[0] if len(occurrences) > 0 else -1\n",
    "\n",
    "x = np.array([1,2,4,21,5,2,3])\n",
    "y = 2\n",
    "first_occurrence(x, y)"
   ]
  },
  {
   "cell_type": "code",
   "execution_count": null,
   "id": "cd8b854c",
   "metadata": {},
   "outputs": [],
   "source": [
    "# Exercise 6\n",
    "def closest_element(array, number):\n",
    "    index_closest_element = (np.abs(array-number)).argmin()\n",
    "    return float(array[index_closest_element])\n",
    "\n",
    "a = np.arange(10, dtype=np.float64)\n",
    "v = 2.\n",
    "closest_element(a, 2.)"
   ]
  },
  {
   "cell_type": "code",
   "execution_count": null,
   "id": "f9d87edd",
   "metadata": {},
   "outputs": [],
   "source": [
    "# Exercise 7\n",
    "M1 = np.random.randint(1, 5, (2, 2))\n",
    "M2 = np.random.randint(1, 5, (2, 2))\n",
    "M3 = np.random.randint(1, 5, (4, 2))\n",
    "\n",
    "concat_result = np.hstack((M1, M2))\n",
    "\n",
    "final_result = np.matmul(concat_result, M3)\n",
    "\n",
    "print(\"Matrix M1:\\n\", M1)\n",
    "print(\"Matrix M2:\\n\", M2)\n",
    "print(\"Matrix M3:\\n\", M3)\n",
    "print(\"Concatenated Matrix:\\n\", concat_result)\n",
    "print(\"Product with M3:\\n\", final_result) "
   ]
  },
  {
   "cell_type": "code",
   "execution_count": null,
   "id": "82df72f1",
   "metadata": {},
   "outputs": [],
   "source": []
  }
 ],
 "metadata": {
  "kernelspec": {
   "display_name": "Python 3 (ipykernel)",
   "language": "python",
   "name": "python3"
  },
  "language_info": {
   "codemirror_mode": {
    "name": "ipython",
    "version": 3
   },
   "file_extension": ".py",
   "mimetype": "text/x-python",
   "name": "python",
   "nbconvert_exporter": "python",
   "pygments_lexer": "ipython3",
   "version": "3.12.5"
  }
 },
 "nbformat": 4,
 "nbformat_minor": 5
}
