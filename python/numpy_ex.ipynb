{
 "cells": [
  {
   "cell_type": "markdown",
   "id": "728b1def-c7b4-4d2a-ac46-71260a5c0d68",
   "metadata": {},
   "source": [
    "# Exercises on Numpy basics"
   ]
  },
  {
   "cell_type": "code",
   "execution_count": 2,
   "id": "56de30b8-6274-470b-a8c7-9fc2583322b2",
   "metadata": {},
   "outputs": [],
   "source": [
    "import numpy.typing as npt\n",
    "from typing import Tuple"
   ]
  },
  {
   "cell_type": "markdown",
   "id": "1d19744a-bcec-4151-8e79-21ab09bdb69a",
   "metadata": {},
   "source": [
    "1. (★☆☆) Write a function that given an array $x$ and a positive integer $n$ returns the array of the\n",
    "   $n$ largest elements in $x$."
   ]
  },
  {
   "cell_type": "code",
   "execution_count": 2,
   "id": "bd83289d-8013-46ba-8215-f3088098d119",
   "metadata": {},
   "outputs": [],
   "source": [
    "def get_largest(a:npt.NDArray, n:int) -> npt.NDArray:\n",
    "    # n must be strictly positive\n",
    "    assert n > 0\n",
    "    pass"
   ]
  },
  {
   "cell_type": "markdown",
   "id": "9f2e908a-5218-439e-be17-83b240dcaa33",
   "metadata": {},
   "source": [
    "2. (★☆☆) Using properly the routine `np.unique()`, write a function that given a two dimensional array $A$, returns the two-dimensional array $B$ consisting of the unique rows of $A$.\n",
    "    Example:\n",
    "   $$A = \\begin{bmatrix}\n",
    "        0 & 0 & 1\\\\\n",
    "        0 & 1 & 0\\\\\n",
    "        0 & 0 & 1\\\\\n",
    "     \\end{bmatrix}\\implies B = \\begin{bmatrix}\n",
    "        0 & 0 & 1\\\\\n",
    "        0 & 1 & 0\\\\\n",
    "     \\end{bmatrix}$$"
   ]
  },
  {
   "cell_type": "code",
   "execution_count": null,
   "id": "f8d8435a-b550-4728-a562-230bf5f6fc88",
   "metadata": {},
   "outputs": [],
   "source": [
    "def unique_rows(A: npt.NDArray)->npt.NDArray:\n",
    "    pass"
   ]
  },
  {
   "cell_type": "markdown",
   "id": "3af29a20-76b7-4441-be8a-da0537653b6f",
   "metadata": {},
   "source": [
    "3. (★★☆) Write a function that given two arrays of the same dimension, $x$ and $y$ compute the *Cauchy matrix*\n",
    "   $$C_{ij} := \\frac{1}{(x_i - y_j)}.$$\n",
    "   By helping with numpy documentation, try to do it without for cycles."
   ]
  },
  {
   "cell_type": "code",
   "execution_count": 3,
   "id": "2bff1940-dc06-4be9-9b09-76f2bad25a90",
   "metadata": {},
   "outputs": [],
   "source": [
    "def cauchy_matrix(x:npt.NDArray, y:npt.NDArray)-> npt.NDArray:\n",
    "    pass"
   ]
  },
  {
   "cell_type": "markdown",
   "id": "f0622be4-f76e-4a93-8c13-a318fc6cfe1f",
   "metadata": {},
   "source": [
    "4. (★★☆) Consider the *rose curves* (more info [here](https://en.wikipedia.org/wiki/Rose_(mathematics)))\n",
    "   defined in polar coordinates as\n",
    "   $$\\rho(\\theta) := a \\cos(n\\theta), 0\\leq \\theta \\leq 2\\pi.$$\n",
    "\n",
    "   - Write a function that compute the cartesian coordinates $x,y$, sampling the angle interval $[0,2\\pi]$ with\n",
    "     $1000$ or more points.\n",
    "   - Write a function that plot the rose for a given $n$ and plot the rose for $n = 4,6,7$."
   ]
  },
  {
   "cell_type": "code",
   "execution_count": 8,
   "id": "6e380196-c74a-4e21-80ff-b44c011f8f70",
   "metadata": {},
   "outputs": [],
   "source": [
    "def rose_curve(n:int) -> Tuple[npt.NDArray, npt.NDArray]:\n",
    "    pass\n",
    "\n",
    "def plot_roses(x:npt.NDArray, y:npt.NDArray):\n",
    "    pass"
   ]
  },
  {
   "cell_type": "markdown",
   "id": "541248d8-97f0-4f6d-80e9-9ab92b3ceba6",
   "metadata": {},
   "source": [
    "5. (★★☆) Write a function that given an array $x$ and a number $y$, returns the index of the first occurrence of $y$ in $x$ or -1 if $y$ is not in $x$.\n",
    "\n",
    "   Example: $x = [1,2,4,21,5,2,3], y = 2 \\implies \\text{index} = 1$"
   ]
  },
  {
   "cell_type": "code",
   "execution_count": 4,
   "id": "e2fd0c9b-423d-43c2-bba8-96d8ef1c148a",
   "metadata": {},
   "outputs": [],
   "source": [
    "def first_occurrence(x:npt.NDArray, y: float)->int:\n",
    "    pass"
   ]
  },
  {
   "cell_type": "markdown",
   "id": "4f45eba2-2bcf-4b53-b133-34d7a8b87ce8",
   "metadata": {},
   "source": [
    "6. (★★★) A *Toeplitz matrix* (more info [here](https://en.wikipedia.org/wiki/Toeplitz_matrix)) is a matrix in\n",
    "   which each descending diagonal from left to right is constant.\n",
    "   - Write a function that given an array $x = [x_0, \\dots, x_4]$ of $5$ elements, compute the toeplitz matrix\n",
    "     \\begin{bmatrix}\n",
    "        x_0 & x_3 & x_4\\\\\n",
    "        x_1 & x_0 & x_3\\\\\n",
    "        x_2 & x_1 & x_0 \\\\\n",
    "     \\end{bmatrix}\n",
    "   - Write a function that given a positive integer $n$ generate a random array of length $2n-1$ and compute the\n",
    "     toeplitz matrix\n",
    "     \\begin{bmatrix}\n",
    "    x_0 & x_{n}   & x_{n+1} & \\cdots & \\cdots & x_{2n-1} \\\\\n",
    "    x_1 & x_0      & x_{n} & \\ddots &        & \\vdots \\\\\n",
    "    x_2 & x_1      & \\ddots & \\ddots & \\ddots & \\vdots \\\\ \n",
    "    \\vdots & \\ddots & \\ddots & \\ddots & x_{n} & x_{n+1} \\\\\n",
    "    \\vdots &        & \\ddots & x_1    & x_0    & x_{n} \\\\\n",
    "    x_{n-1} & \\cdots & \\cdots & x_2    & x_1    & x_0 \\\\\n",
    "    \\end{bmatrix}"
   ]
  },
  {
   "cell_type": "code",
   "execution_count": 7,
   "id": "5fb3232a-815c-4064-8fa7-a4909cc29367",
   "metadata": {},
   "outputs": [],
   "source": [
    "def toeplitz_3(x: npt.NDArray) -> npt.NDArray:\n",
    "    pass\n",
    "\n",
    "def toeplitz(n: int)-> npt.NDArray:\n",
    "    # n must be strictly positive\n",
    "    assert n > 0\n",
    "    pass"
   ]
  }
 ],
 "metadata": {
  "kernelspec": {
   "display_name": "Python 3 (ipykernel)",
   "language": "python",
   "name": "python3"
  },
  "language_info": {
   "codemirror_mode": {
    "name": "ipython",
    "version": 3
   },
   "file_extension": ".py",
   "mimetype": "text/x-python",
   "name": "python",
   "nbconvert_exporter": "python",
   "pygments_lexer": "ipython3",
   "version": "3.11.3"
  }
 },
 "nbformat": 4,
 "nbformat_minor": 5
}
