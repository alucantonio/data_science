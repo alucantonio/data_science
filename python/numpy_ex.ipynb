{
 "cells": [
  {
   "cell_type": "markdown",
   "id": "728b1def-c7b4-4d2a-ac46-71260a5c0d68",
   "metadata": {},
   "source": [
    "# Exercises on Numpy basics"
   ]
  },
  {
   "cell_type": "markdown",
   "id": "1d19744a-bcec-4151-8e79-21ab09bdb69a",
   "metadata": {},
   "source": [
    "1. (★☆☆) Write a function that given an array $x$ and a positive integer $n$ returns the array of the\n",
    "   $n$ largest elements in $x$."
   ]
  },
  {
   "cell_type": "code",
   "execution_count": 2,
   "id": "bd83289d-8013-46ba-8215-f3088098d119",
   "metadata": {
    "tags": []
   },
   "outputs": [],
   "source": [
    "def get_largest(a, n):\n",
    "    # n must be strictly positive\n",
    "    assert n > 0\n",
    "    pass"
   ]
  },
  {
   "cell_type": "markdown",
   "id": "9f2e908a-5218-439e-be17-83b240dcaa33",
   "metadata": {},
   "source": [
    "2. (★☆☆) Using the function `np.unique()`, write a function that, given a two dimensional array $A$, returns the two-dimensional array $B$ consisting of the unique rows of $A$.\n",
    "    Example:\n",
    "   $$A = \\begin{bmatrix}\n",
    "        0 & 0 & 1\\\\\n",
    "        0 & 1 & 0\\\\\n",
    "        0 & 0 & 1\\\\\n",
    "     \\end{bmatrix}\\implies B = \\begin{bmatrix}\n",
    "        0 & 0 & 1\\\\\n",
    "        0 & 1 & 0\\\\\n",
    "     \\end{bmatrix}$$"
   ]
  },
  {
   "cell_type": "code",
   "execution_count": 3,
   "id": "f8d8435a-b550-4728-a562-230bf5f6fc88",
   "metadata": {
    "tags": []
   },
   "outputs": [],
   "source": [
    "def unique_rows(A):\n",
    "    pass"
   ]
  },
  {
   "cell_type": "markdown",
   "id": "3af29a20-76b7-4441-be8a-da0537653b6f",
   "metadata": {},
   "source": [
    "3. (★★☆) Write a function that given two arrays of the same dimension, $x$ and $y$ compute the *Cauchy matrix*\n",
    "   $$C_{ij} := \\frac{1}{(x_i - y_j)}.$$\n",
    "   Use the online docs of numpy and *avoid* using loops."
   ]
  },
  {
   "cell_type": "code",
   "execution_count": 4,
   "id": "2bff1940-dc06-4be9-9b09-76f2bad25a90",
   "metadata": {
    "tags": []
   },
   "outputs": [],
   "source": [
    "def cauchy_matrix(x, y):\n",
    "    pass"
   ]
  },
  {
   "cell_type": "markdown",
   "id": "f0622be4-f76e-4a93-8c13-a318fc6cfe1f",
   "metadata": {},
   "source": [
    "4. (★★☆) Consider the *rose curves* (more info [here](https://en.wikipedia.org/wiki/Rose_(mathematics))\n",
    "   defined in polar coordinates as\n",
    "   $$\\rho(\\theta) := a \\cos(n\\theta), 0\\leq \\theta \\leq 2\\pi.$$\n",
    "\n",
    "    In the following, take $a = 1$.\n",
    "   - Write a function that compute the cartesian coordinates $x,y$, sampling the angle interval $[0,2\\pi]$ with\n",
    "     $1000$ or more points.\n",
    "   - Write a function that plot the rose for a given $n$ and plot the rose for $n = 4,6,7$."
   ]
  },
  {
   "cell_type": "code",
   "execution_count": 2,
   "id": "6e380196-c74a-4e21-80ff-b44c011f8f70",
   "metadata": {
    "tags": []
   },
   "outputs": [],
   "source": [
    "def rose_curve(n):\n",
    "    pass\n",
    "\n",
    "def plot_roses(n):\n",
    "    pass"
   ]
  },
  {
   "cell_type": "markdown",
   "id": "541248d8-97f0-4f6d-80e9-9ab92b3ceba6",
   "metadata": {},
   "source": [
    "5. (★★☆) Write a function that given an array $x$ and a number $y$, returns the index of the first occurrence of $y$ in $x$ or -1 if $y$ is not in $x$.\n",
    "\n",
    "   Example: $x = [1,2,4,21,5,2,3], y = 2 \\implies \\text{index} = 1$"
   ]
  },
  {
   "cell_type": "code",
   "execution_count": 6,
   "id": "e2fd0c9b-423d-43c2-bba8-96d8ef1c148a",
   "metadata": {
    "tags": []
   },
   "outputs": [],
   "source": [
    "def first_occurrence(x, y):\n",
    "    pass"
   ]
  }
 ],
 "metadata": {
  "kernelspec": {
   "display_name": "Python 3 (ipykernel)",
   "language": "python",
   "name": "python3"
  },
  "language_info": {
   "codemirror_mode": {
    "name": "ipython",
    "version": 3
   },
   "file_extension": ".py",
   "mimetype": "text/x-python",
   "name": "python",
   "nbconvert_exporter": "python",
   "pygments_lexer": "ipython3",
   "version": "3.11.3"
  }
 },
 "nbformat": 4,
 "nbformat_minor": 5
}
