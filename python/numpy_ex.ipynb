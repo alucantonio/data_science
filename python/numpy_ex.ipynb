{
 "cells": [
  {
   "cell_type": "markdown",
   "id": "728b1def-c7b4-4d2a-ac46-71260a5c0d68",
   "metadata": {},
   "source": [
    "# Exercises on Numpy basics"
   ]
  },
  {
   "cell_type": "markdown",
   "id": "1d19744a-bcec-4151-8e79-21ab09bdb69a",
   "metadata": {},
   "source": [
    "1. Write a function that given an array $x$ and a positive integer $n$ returns the array of the\n",
    "   $n$ largest elements in $x$."
   ]
  },
  {
   "cell_type": "code",
   "execution_count": null,
   "id": "bd83289d-8013-46ba-8215-f3088098d119",
   "metadata": {
    "tags": []
   },
   "outputs": [],
   "source": [
    "def get_largest(a, n):\n",
    "    # n must be strictly positive\n",
    "    assert n > 0\n",
    "    pass"
   ]
  },
  {
   "cell_type": "markdown",
   "id": "9f2e908a-5218-439e-be17-83b240dcaa33",
   "metadata": {},
   "source": [
    "2. Using the function `np.unique()`, write a function that, given a two dimensional array $A$, returns the two-dimensional array $B$ consisting of the unique rows of $A$.\n",
    "    Example:\n",
    "   $$A = \\begin{bmatrix}\n",
    "        0 & 0 & 1\\\\\n",
    "        0 & 1 & 0\\\\\n",
    "        0 & 0 & 1\\\\\n",
    "     \\end{bmatrix}\\implies B = \\begin{bmatrix}\n",
    "        0 & 0 & 1\\\\\n",
    "        0 & 1 & 0\\\\\n",
    "     \\end{bmatrix}$$"
   ]
  },
  {
   "cell_type": "code",
   "execution_count": null,
   "id": "f8d8435a-b550-4728-a562-230bf5f6fc88",
   "metadata": {
    "tags": []
   },
   "outputs": [],
   "source": [
    "def unique_rows(A):\n",
    "    pass"
   ]
  },
  {
   "cell_type": "markdown",
   "id": "3af29a20-76b7-4441-be8a-da0537653b6f",
   "metadata": {},
   "source": [
    "3. Write a function that given two arrays of the same dimension, $x$ and $y$ compute the *Cauchy matrix*\n",
    "   $$C_{ij} := \\frac{1}{(x_i - y_j)}.$$\n",
    "   *Avoid* loops."
   ]
  },
  {
   "cell_type": "code",
   "execution_count": null,
   "id": "2bff1940-dc06-4be9-9b09-76f2bad25a90",
   "metadata": {
    "tags": []
   },
   "outputs": [],
   "source": [
    "def cauchy_matrix(x, y):\n",
    "    pass"
   ]
  },
  {
   "cell_type": "markdown",
   "id": "f0622be4-f76e-4a93-8c13-a318fc6cfe1f",
   "metadata": {},
   "source": [
    "4. Consider a random 10x2 matrix representing the Cartesian coordinates $(x, y)$ of 10 points. Convert them to polar coordinates."
   ]
  },
  {
   "cell_type": "code",
   "execution_count": null,
   "id": "6e380196-c74a-4e21-80ff-b44c011f8f70",
   "metadata": {
    "tags": []
   },
   "outputs": [],
   "source": [
    "A = np.random.random((10,2))\n",
    "# X = ...\n",
    "# Y = ...\n",
    "# radii = ...\n",
    "# angles = ..."
   ]
  },
  {
   "cell_type": "markdown",
   "id": "541248d8-97f0-4f6d-80e9-9ab92b3ceba6",
   "metadata": {},
   "source": [
    "5. Write a function that given an _integer_ array $x$ and an _integer_ number $y$, returns the index of the first occurrence of $y$ in $x$ or -1 if $y$ is not in $x$.\n",
    "\n",
    "   Example: $x = [1,2,4,21,5,2,3], y = 2 \\implies \\text{index} = 1$"
   ]
  },
  {
   "cell_type": "code",
   "execution_count": null,
   "id": "e2fd0c9b-423d-43c2-bba8-96d8ef1c148a",
   "metadata": {
    "tags": []
   },
   "outputs": [],
   "source": [
    "def first_occurrence(x, y):\n",
    "    pass"
   ]
  },
  {
   "cell_type": "markdown",
   "id": "a75904b2",
   "metadata": {},
   "source": [
    "6.  Write a function that, given an array of floats and a float as inputs, returns the element of\n",
    "   the array that is closest to the number.\n",
    "\n",
    "      Example: array = \\[0.,1.,2.,3.,4.,5.,6.,7.,8.,9.\\], number = 2., closest number = 2.0."
   ]
  },
  {
   "cell_type": "code",
   "execution_count": null,
   "id": "ad2ef86a",
   "metadata": {},
   "outputs": [],
   "source": [
    "def closest_element(array, number):\n",
    "    pass"
   ]
  },
  {
   "cell_type": "markdown",
   "id": "4de79de6",
   "metadata": {},
   "source": [
    "7. Create two 2x2 matrices with random integers between 1 and 4. Concatenate them\n",
    "   horizontally and multiply the result with a random 4x2 matrix."
   ]
  }
 ],
 "metadata": {
  "kernelspec": {
   "display_name": "Python 3 (ipykernel)",
   "language": "python",
   "name": "python3"
  },
  "language_info": {
   "codemirror_mode": {
    "name": "ipython",
    "version": 3
   },
   "file_extension": ".py",
   "mimetype": "text/x-python",
   "name": "python",
   "nbconvert_exporter": "python",
   "pygments_lexer": "ipython3",
   "version": "3.12.5"
  }
 },
 "nbformat": 4,
 "nbformat_minor": 5
}
