{
 "cells": [
  {
   "cell_type": "markdown",
   "id": "b6ebb053-9b86-4c5d-bfe7-b5be51e22f69",
   "metadata": {},
   "source": [
    "# Exercises on Python basics"
   ]
  },
  {
   "cell_type": "markdown",
   "id": "cb5d649c-56c2-4d8a-8a4b-a0043e94ffa1",
   "metadata": {},
   "source": [
    "1. Write a function that checks whether a number is in a given range \\[ low, up \\].\n",
    "\n",
    "   Sample input: num = 5, low = 3, up = 7. Expected output: True"
   ]
  },
  {
   "cell_type": "code",
   "execution_count": 1,
   "id": "941e35b3-4e6b-4c12-80db-a4f08b97433c",
   "metadata": {
    "tags": []
   },
   "outputs": [],
   "source": [
    "def is_in_range(num, low, up):\n",
    "    pass"
   ]
  },
  {
   "cell_type": "markdown",
   "id": "d40e102a-7dea-485b-a9eb-6798076437e6",
   "metadata": {},
   "source": [
    "2. Write a function that given an integer $n$ returns 0 if $n<0$ and return the factorial of n\n",
    "   if $n\\geq0$.\n",
    "\n",
    "   Sample input: n=5. Expected output: 120"
   ]
  },
  {
   "cell_type": "code",
   "execution_count": 17,
   "id": "51ed04a3-3624-4878-9d83-914025c99f28",
   "metadata": {},
   "outputs": [],
   "source": [
    "def factorial(n):\n",
    "    pass"
   ]
  },
  {
   "cell_type": "markdown",
   "id": "ab0bea74-e77e-4176-ba46-77af436931ec",
   "metadata": {},
   "source": [
    "3. Write a function that takes a list of strings and returns a dictionary where the keys are the strings, and the values are the frequencies of those strings in the list.\n",
    "\n",
    "   Sample input: \\[\"apple\", \"banana\", \"apple\", \"orange\", \"banana\", \"apple\"\\]. Expected output: {'apple': 3, 'banana': 2, 'orange': 1}"
   ]
  },
  {
   "cell_type": "code",
   "execution_count": 2,
   "id": "1a436294-72de-433f-8652-af30e4154647",
   "metadata": {},
   "outputs": [],
   "source": [
    "def count_frequencies(words_list):\n",
    "    pass"
   ]
  },
  {
   "cell_type": "markdown",
   "id": "5fff892d-d0ab-47b0-904d-2def2d8e2cfa",
   "metadata": {},
   "source": [
    "4. Write a function that counts the number of lower and upper case letters in a string.\n",
    "\n",
    "   Sample input: \"I like Data Science\". Expected output: 13, 3"
   ]
  },
  {
   "cell_type": "code",
   "execution_count": 3,
   "id": "22b952d2-fb81-4b75-b74b-5f2591fe9f1f",
   "metadata": {},
   "outputs": [],
   "source": [
    "def letters_counter(s):\n",
    "    pass"
   ]
  },
  {
   "cell_type": "markdown",
   "id": "9df94120-aab2-4fb5-b8c7-73d4161d26cb",
   "metadata": {},
   "source": [
    "5. Write a function that given a list `l` returns the list with the unique elements of `l` in\n",
    "   ascending order.\n",
    "   \n",
    "   BONUS: do it without any loops.\n",
    "\n",
    "   Sample input: \\[1,4,2,5,3,4,3,5\\]. Expected output: \\[1,2,3,4,5\\]."
   ]
  },
  {
   "cell_type": "code",
   "execution_count": 12,
   "id": "7a8fe5a6-149c-4917-b16a-2cbdabb7cf0e",
   "metadata": {},
   "outputs": [],
   "source": [
    "def unique_list(l):\n",
    "    pass"
   ]
  },
  {
   "cell_type": "markdown",
   "id": "9286100d-885c-49c0-8e23-36338dd6f5f9",
   "metadata": {},
   "source": [
    "6. A palindrome is a word or phrase that reads the same backward and forward. Using the `replace()`\n",
    "   method to get rid of spaces (check [documentation](https://www.w3schools.com/python/ref_string_replace.asp)), write a function that checks if a string is a palindrome\n",
    "   or not.\n",
    "\n",
    "   Sample input: \"amo roma\". Expected output: True\n",
    "\n",
    "   BONUS: Write a function that checks if an *arbitrary* number of strings (variable number of arguments) is a palindrome or not.\n",
    "\n",
    "   Sample input: two arguments = \"amo roma\", \"racecar\". Expected output: True, True"
   ]
  },
  {
   "cell_type": "code",
   "execution_count": 4,
   "id": "ec878dd6-09f9-41a7-98fd-d4a0437e7684",
   "metadata": {},
   "outputs": [],
   "source": [
    "def is_palindrome(s):\n",
    "    pass"
   ]
  },
  {
   "cell_type": "markdown",
   "id": "181aef81-9dad-45f0-a4c1-9e7c755009bf",
   "metadata": {},
   "source": [
    "7. Create a list numbers containing the numbers in a given range. Write a function that takes a list of numbers and returns a new list with the squares of those numbers. TIP: use list comprehension.\n",
    "\n",
    "    Sample input: \\[1, 2, 3, 4, 5, 6, 7, 8, 9, 10\\]. Expected output: \\[1, 4, 9, 16, 25, 36, 49, 64, 81, 100\\]."
   ]
  },
  {
   "cell_type": "code",
   "execution_count": 1,
   "id": "4de74600-3a70-419e-9ba3-eb9b4ac0f569",
   "metadata": {},
   "outputs": [],
   "source": [
    "def square_list(l):\n",
    "    pass"
   ]
  }
 ],
 "metadata": {
  "kernelspec": {
   "display_name": "Python 3 (ipykernel)",
   "language": "python",
   "name": "python3"
  },
  "language_info": {
   "codemirror_mode": {
    "name": "ipython",
    "version": 3
   },
   "file_extension": ".py",
   "mimetype": "text/x-python",
   "name": "python",
   "nbconvert_exporter": "python",
   "pygments_lexer": "ipython3",
   "version": "3.12.5"
  }
 },
 "nbformat": 4,
 "nbformat_minor": 5
}
