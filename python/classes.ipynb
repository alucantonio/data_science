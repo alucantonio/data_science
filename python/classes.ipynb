{
 "cells": [
  {
   "cell_type": "markdown",
   "id": "d530edae-6d4b-4240-9ea1-f112de6f9a17",
   "metadata": {},
   "source": [
    "# Classes"
   ]
  },
  {
   "cell_type": "markdown",
   "id": "3826fac5-920d-495d-8218-74e6ba70614a",
   "metadata": {},
   "source": [
    "_Classes_ are abstract definitions of groups of entities (or objects). This allows to\n",
    "write re-usable and modular code. Classes specify the\n",
    "features (attributes) common to those entities and their behavior through a set of\n",
    "functions. An _object_ is an instance of a class. \n",
    "\n",
    "Custom classes are created via the `class` keyword. \n",
    "- Functions defined inside the body of a class are called **methods**. They define the\n",
    "  _behavior_ of objects belonging to the class.\n",
    "- The first argument of each method must be `self`, which is a reference to the current object.\n",
    "- The special (optional) method  `__init__` called **constructor** can be used to\n",
    "  initialize the attributes (or properties) of an object.\n",
    "\n",
    "Let's see an example."
   ]
  },
  {
   "cell_type": "code",
   "execution_count": null,
   "id": "6605b86d-87a6-485a-be86-9a1472796cda",
   "metadata": {
    "tags": []
   },
   "outputs": [],
   "source": [
    "import math\n",
    "\n",
    "# Definition of a class\n",
    "class Polygon:\n",
    "    def __init__(self, ne, es):\n",
    "        # Assign the values of the arguments passed to the constructor when creating an\n",
    "        # object to the object properties num_edges and edge_size\n",
    "        self.num_edges = ne\n",
    "        self.edge_size = es\n",
    "\n",
    "    def get_perimeter(self):\n",
    "        self.perimeter = self.num_edges*self.edge_size\n",
    "\n",
    "    def get_area(self):\n",
    "        # compute the apothem of the polygon\n",
    "        a = self.edge_size/(2*math.tan(math.pi/self.num_edges))\n",
    "        # Define the property (or attribute) area and compute its value\n",
    "        self.area = self.num_edges*self.edge_size*a/2\n"
   ]
  },
  {
   "cell_type": "code",
   "execution_count": null,
   "id": "6acc5bf2-f099-44ab-875f-ae28b881f0c9",
   "metadata": {
    "tags": []
   },
   "outputs": [],
   "source": [
    "# Let's create an object of type Polygon, i.e. an instance of the class Polygon\n",
    "p = Polygon(6, 3.) # the arguments are passed to the constructor (__init__) "
   ]
  },
  {
   "cell_type": "code",
   "execution_count": null,
   "id": "40516c5b",
   "metadata": {},
   "outputs": [],
   "source": [
    "# Methods and attributes can be accessed using the dot operator\n",
    "p.get_perimeter()\n",
    "p.get_area()\n",
    "print(f\"The perimeter of the polygon is {p.perimeter}\")\n",
    "print(f\"The area of the polygon is {p.area}\")"
   ]
  },
  {
   "cell_type": "code",
   "execution_count": null,
   "id": "9a5c94d6",
   "metadata": {},
   "outputs": [],
   "source": [
    "# a is a local variable in the get_area function, not an attribute of the object,\n",
    "# so we cannot access it from outside the function (we should define self.a in the\n",
    "# function to do so)\n",
    "p.a"
   ]
  },
  {
   "cell_type": "markdown",
   "id": "9d87ff0a-0564-4702-8676-7976ee7fe419",
   "metadata": {},
   "source": [
    "### Inheritance"
   ]
  },
  {
   "cell_type": "markdown",
   "id": "dbb76673-e09b-4572-95d7-c0f9c0e91c98",
   "metadata": {},
   "source": [
    "Inheritance allows a new class to acquire (*inherit*) the features of another class.\n",
    "Suppose that we want to define a class `Square` to manipulate squares. Of course, we can\n",
    "make a new class from scratch, as for polygons. However, a square is actually a polygon,\n",
    "hence a `Square` can be thought as a *derived class*, of the class `Polygon`.  This concept is called *inheritance*. The special method `super()` for the subclass allows to refer to the parent class.\n",
    "\n"
   ]
  },
  {
   "cell_type": "code",
   "execution_count": null,
   "id": "1658ebee-532a-430e-83df-c484c9f1907f",
   "metadata": {
    "tags": []
   },
   "outputs": [],
   "source": [
    "class Square(Polygon):\n",
    "    def __init__(self, edge_size):\n",
    "        # Calls the constructor of the class Polygon, with ne=4, es=edge_size\n",
    "        super().__init__(4, edge_size)"
   ]
  },
  {
   "cell_type": "code",
   "execution_count": null,
   "id": "1c784ff2-84cb-4598-8afb-abbdd74bf8d9",
   "metadata": {
    "tags": []
   },
   "outputs": [],
   "source": [
    "s = Square(3.)\n",
    "s.get_perimeter()\n",
    "s.get_area()\n",
    "print(f\"The perimeter of the square is {s.perimeter}\")\n",
    "print(f\"The area of the square is {s.area}\")"
   ]
  },
  {
   "cell_type": "markdown",
   "id": "cd49cf52",
   "metadata": {},
   "source": [
    "## Exercise"
   ]
  },
  {
   "cell_type": "markdown",
   "id": "c4fe6f91",
   "metadata": {},
   "source": [
    "You need to create a class called `BankAccount` that will simulate basic operations of a bank account. The class should have the following features:\n",
    "\n",
    "1.\t**Attributes**:\n",
    "- owner: Name of the account owner.\n",
    "- balance: Current balance of the account.\n",
    "2.\t**Methods**:\n",
    "- `__init__`: Constructor that initializes the account with an owner’s name and an optional initial balance (default is 0).\n",
    "- `deposit`: Method to deposit money into the account. It should increase the balance by the specified amount.\n",
    "- `withdraw`: Method to withdraw money from the account. It should decrease the balance by the specified amount if sufficient funds are available. Otherwise, it should print a message saying “Insufficient funds.”\n",
    "- `display_balance`: Method to display the current balance of the account.\n",
    "3.\t**Example Usage**:\n",
    "\n",
    "    After defining the class, create an instance of BankAccount and perform the following operations:\n",
    "\n",
    "    - Create an account for \"Alice\" with an initial balance of \\$1000.\n",
    "    - Deposit \\$500 into Alice’s account.\n",
    "    - Withdraw \\$300 from Alice’s account.\n",
    "    - Attempt to withdraw \\$1500 from Alice’s account (this should print \"Insufficient funds\").\n",
    "    - Display the final balance."
   ]
  },
  {
   "cell_type": "code",
   "execution_count": null,
   "id": "dbb593b3",
   "metadata": {},
   "outputs": [],
   "source": [
    "#@ Solution\n",
    "\n",
    "class BankAccount:\n",
    "    # Define the constructor to initialize owner and balance attributes\n",
    "    def __init__(self, owner, balance=0):\n",
    "        self.owner = owner\n",
    "        self.balance = balance\n",
    "    \n",
    "    # Method to deposit money\n",
    "    def deposit(self, amount):\n",
    "        if amount > 0:\n",
    "            self.balance += amount\n",
    "            print(f\"Deposited ${amount}. New balance is: ${self.balance}\")\n",
    "        else:\n",
    "            print(\"Deposit amount must be positive.\")\n",
    "    \n",
    "    # Method to withdraw money\n",
    "    def withdraw(self, amount):\n",
    "        if amount > self.balance:\n",
    "            print(\"Insufficient funds.\")\n",
    "        elif amount <= 0:\n",
    "            print(\"Withdrawal amount must be positive.\")\n",
    "        else:\n",
    "            self.balance -= amount\n",
    "            print(f\"Withdrew ${amount}. New balance is: ${self.balance}\")\n",
    "    \n",
    "    # Method to display the balance\n",
    "    def display_balance(self):\n",
    "        print(f\"The current balance for {self.owner} is: ${self.balance}\")\n",
    "\n",
    "# Example usage\n",
    "account = BankAccount(\"Alice\", 1000)  # Create an account for Alice with an initial balance of $1000\n",
    "account.deposit(500)  # Deposit $500\n",
    "account.withdraw(300)  # Withdraw $300\n",
    "account.withdraw(1500)  # Attempt to withdraw $1500 (should print \"Insufficient funds\")\n",
    "account.display_balance()  # Display the final balance"
   ]
  }
 ],
 "metadata": {
  "kernelspec": {
   "display_name": "Python 3 (ipykernel)",
   "language": "python",
   "name": "python3"
  },
  "language_info": {
   "codemirror_mode": {
    "name": "ipython",
    "version": 3
   },
   "file_extension": ".py",
   "mimetype": "text/x-python",
   "name": "python",
   "nbconvert_exporter": "python",
   "pygments_lexer": "ipython3",
   "version": "3.12.5"
  }
 },
 "nbformat": 4,
 "nbformat_minor": 5
}
