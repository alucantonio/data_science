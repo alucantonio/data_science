{
 "cells": [
  {
   "cell_type": "markdown",
   "id": "33fb5dd4-d471-43c4-bb18-598cb5521749",
   "metadata": {},
   "source": [
    "# Python Basics - Part 2"
   ]
  },
  {
   "cell_type": "markdown",
   "id": "2171418f-2a30-4708-aa52-6850f3b0f875",
   "metadata": {},
   "source": [
    "## If-else statement"
   ]
  },
  {
   "cell_type": "markdown",
   "id": "a979916c-9c20-4f5b-bac1-ccced2939c20",
   "metadata": {},
   "source": [
    "`if-else` statements allow to run different sets of statements based on a set of alternatives.\n"
   ]
  },
  {
   "cell_type": "code",
   "execution_count": 2,
   "id": "ab0cb401-027a-4c93-b1bc-710881c9759d",
   "metadata": {},
   "outputs": [
    {
     "name": "stdout",
     "output_type": "stream",
     "text": [
      "47 is an odd number\n"
     ]
    }
   ],
   "source": [
    "# Check whether a number is even or odd\n",
    "n = 47\n",
    "if n % 2 == 0:\n",
    "    print(f\"{n} is an even number\")\n",
    "else:\n",
    "    print(f\"{n} is an odd number\")"
   ]
  },
  {
   "cell_type": "code",
   "execution_count": 74,
   "id": "3703a404-b0f2-4425-ad8c-61891fddb290",
   "metadata": {},
   "outputs": [
    {
     "name": "stdout",
     "output_type": "stream",
     "text": [
      "6\n"
     ]
    }
   ],
   "source": [
    "# Print a number only if it's multiple of 2 or 3\n",
    "# Notice how to use logical operators (and, or, not) to combine conditions\n",
    "n = 6\n",
    "if n % 2 == 0 or n % 3 == 0:\n",
    "    print(n)\n",
    "else:\n",
    "    # pass = do nothing\n",
    "    pass"
   ]
  },
  {
   "cell_type": "markdown",
   "id": "11c52e35-f9ae-4f73-85c7-3043226fb0d3",
   "metadata": {},
   "source": [
    "We use `elif` to handle more than two alternatives:"
   ]
  },
  {
   "cell_type": "code",
   "execution_count": 4,
   "id": "2b0fdf95-c487-41b0-b661-e72f4316b5dd",
   "metadata": {},
   "outputs": [
    {
     "name": "stdout",
     "output_type": "stream",
     "text": [
      "36\n"
     ]
    }
   ],
   "source": [
    "# Compute the square of a number if its even, its cube if its divisible by 3,\n",
    "# otherwise the initial number \n",
    "n = 6\n",
    "\n",
    "if n % 2 == 0:\n",
    "    print(n**2)\n",
    "elif n % 3 == 0:\n",
    "    print(n**3)\n",
    "else:\n",
    "    print(n)"
   ]
  },
  {
   "cell_type": "markdown",
   "id": "af0d24d0-0b65-4e11-b72a-29b2b8c96a81",
   "metadata": {},
   "source": [
    "Beware that the conditions are checked sequentially, so that if the input is both divisible by 2 and 3, only the statement `print(n**2)` will be executed."
   ]
  },
  {
   "cell_type": "markdown",
   "id": "1835fa6d-7229-4ea0-951c-076ff7316465",
   "metadata": {},
   "source": [
    "## For loop"
   ]
  },
  {
   "cell_type": "markdown",
   "id": "0def7c01-e85d-4a8e-a098-73b220974035",
   "metadata": {},
   "source": [
    "The `for` loop goes through items of an _iterable object_, such as a list or a tuple, together with the `in` keyword. It behaves differently according to the data/container type over which the iteration is performed."
   ]
  },
  {
   "cell_type": "markdown",
   "id": "d1820a6d-3a14-4c6b-b8b8-4de0919bf753",
   "metadata": {},
   "source": [
    "### Iterating over lists or tuples\n",
    " "
   ]
  },
  {
   "cell_type": "code",
   "execution_count": 1,
   "id": "70effba2-33b1-41e3-8682-39ce1cd81c05",
   "metadata": {
    "tags": []
   },
   "outputs": [
    {
     "name": "stdout",
     "output_type": "stream",
     "text": [
      "1\n",
      "4\n",
      "Aarhus\n",
      "29\n"
     ]
    }
   ],
   "source": [
    "a = [1, 4, \"Aarhus\", 29]\n",
    "# Print each element of the list\n",
    "for elem in a:\n",
    "    print(elem)"
   ]
  },
  {
   "cell_type": "markdown",
   "id": "10fe2582-dd4c-4f93-a3ea-27310dfb3279",
   "metadata": {},
   "source": [
    "#### enumerate"
   ]
  },
  {
   "cell_type": "markdown",
   "id": "e73730d8-6184-4625-866b-a2ebbd16ddd3",
   "metadata": {},
   "source": [
    "We can use the method `enumerate` when we need to access both the item of the iterator and the iteration index:"
   ]
  },
  {
   "cell_type": "code",
   "execution_count": 2,
   "id": "2e127d29-dd72-4522-89f5-db6edbac1e07",
   "metadata": {
    "tags": []
   },
   "outputs": [
    {
     "name": "stdout",
     "output_type": "stream",
     "text": [
      "The item 0 of the list is 1\n",
      "The item 1 of the list is 4\n",
      "The item 2 of the list is Aarhus\n",
      "The item 3 of the list is 29\n"
     ]
    }
   ],
   "source": [
    "for index, item in enumerate(a):\n",
    "    print(f\"The item {index} of the list is {item}\")"
   ]
  },
  {
   "cell_type": "markdown",
   "id": "c08b608a-4df0-4d1b-a7f6-b2d947fb5d68",
   "metadata": {},
   "source": [
    "We can drop either the item or the index using the underscore placeholder:"
   ]
  },
  {
   "cell_type": "code",
   "execution_count": 13,
   "id": "40686df7-44d3-4d76-9ca9-0b16ea69a699",
   "metadata": {},
   "outputs": [
    {
     "name": "stdout",
     "output_type": "stream",
     "text": [
      "1\n",
      "4\n",
      "Aarhus\n",
      "29\n"
     ]
    }
   ],
   "source": [
    "# Iterating over a tuple (works as for a list)\n",
    "t = tuple(a) # convert a list into a tuple\n",
    "for _, elem in enumerate(a):\n",
    "    print(elem)"
   ]
  },
  {
   "cell_type": "markdown",
   "id": "d00911ec-9e28-4fbb-a2b6-996ca640cd86",
   "metadata": {},
   "source": [
    "### Iterating over a dictionary "
   ]
  },
  {
   "cell_type": "code",
   "execution_count": 14,
   "id": "0ba7968f-8c04-40ba-a0e0-36df4739205d",
   "metadata": {
    "tags": []
   },
   "outputs": [
    {
     "name": "stdout",
     "output_type": "stream",
     "text": [
      "key1\n",
      "key2\n",
      "key3\n"
     ]
    }
   ],
   "source": [
    "d = {\"key1\": 1, \"key2\":2, \"key3\": 3}\n",
    "# Loop over the keys of the dictionary\n",
    "for key in d:\n",
    "    print(key)"
   ]
  },
  {
   "cell_type": "code",
   "execution_count": 15,
   "id": "a5e1f29e-8192-480b-994c-e72324e7cce6",
   "metadata": {
    "tags": []
   },
   "outputs": [
    {
     "name": "stdout",
     "output_type": "stream",
     "text": [
      "The key key1 contains the value 1\n",
      "The key key2 contains the value 2\n",
      "The key key3 contains the value 3\n"
     ]
    }
   ],
   "source": [
    "# Loop over the key:value pairs\n",
    "for key, value in d.items():\n",
    "    print(f\"The key {key} contains the value {value}\")"
   ]
  },
  {
   "cell_type": "code",
   "execution_count": 16,
   "id": "8d1d3094-a4cf-4ea7-a3ad-92b642767dbb",
   "metadata": {
    "tags": []
   },
   "outputs": [
    {
     "name": "stdout",
     "output_type": "stream",
     "text": [
      "1\n",
      "2\n",
      "3\n"
     ]
    }
   ],
   "source": [
    "# Loop over the values\n",
    "for value in d.values():\n",
    "    print(value)"
   ]
  },
  {
   "cell_type": "markdown",
   "id": "1d75fc8f-d21d-456f-903c-5854d99e6bac",
   "metadata": {},
   "source": [
    "### Iterating over a string"
   ]
  },
  {
   "cell_type": "code",
   "execution_count": 17,
   "id": "2139bf5f-3620-4fa4-b373-99b9d31e708f",
   "metadata": {
    "tags": []
   },
   "outputs": [
    {
     "name": "stdout",
     "output_type": "stream",
     "text": [
      "A\n",
      "a\n",
      "r\n",
      "h\n",
      "u\n",
      "s\n"
     ]
    }
   ],
   "source": [
    "s = \"Aarhus\"\n",
    "for letter in s:\n",
    "    print(letter)"
   ]
  },
  {
   "cell_type": "markdown",
   "id": "85de392b-4099-4005-ba0f-7e1bbfda2e66",
   "metadata": {},
   "source": [
    "### List comprehension"
   ]
  },
  {
   "cell_type": "markdown",
   "id": "e1ddff0a-824f-4ed3-a314-9e78f8fa55c9",
   "metadata": {},
   "source": [
    "List comprehension offers a shorter syntax when you want to create a new list based on the values of an existing list."
   ]
  },
  {
   "cell_type": "code",
   "execution_count": 20,
   "id": "3a62a0f0-7dd7-46f7-93b1-1f37f959cf69",
   "metadata": {
    "tags": []
   },
   "outputs": [
    {
     "data": {
      "text/plain": [
       "[2, 4, 6, 8, 10]"
      ]
     },
     "execution_count": 20,
     "metadata": {},
     "output_type": "execute_result"
    }
   ],
   "source": [
    "numbers = [1, 2, 3, 4, 5, 6, 7, 8, 9, 10]\n",
    "# One-line code to filter the even numbers in a list\n",
    "even_nums = [num for num in numbers if num % 2 == 0]\n",
    "even_nums"
   ]
  },
  {
   "cell_type": "markdown",
   "id": "0ba7c4c7-356e-4545-add8-9fd970647161",
   "metadata": {},
   "source": [
    "## While loop"
   ]
  },
  {
   "cell_type": "markdown",
   "id": "6fce9fa2-d346-4468-bb45-27db29e78e1d",
   "metadata": {},
   "source": [
    "A while statement repeatedly executes a single statement or a group of statements, as long as the condition is true."
   ]
  },
  {
   "cell_type": "code",
   "execution_count": 30,
   "id": "6b622897-eadb-4aba-9615-74c8c7332b3d",
   "metadata": {
    "tags": []
   },
   "outputs": [
    {
     "name": "stdout",
     "output_type": "stream",
     "text": [
      "x=0\n",
      "x=1\n",
      "x=2\n",
      "x=3\n",
      "x=4\n",
      "x=5\n",
      "x=6\n",
      "x=7\n",
      "x=8\n",
      "x=9\n"
     ]
    }
   ],
   "source": [
    "x = 0\n",
    "\n",
    "while x < 10:\n",
    "    print(f\"x={x}\")\n",
    "    x+=1"
   ]
  },
  {
   "cell_type": "markdown",
   "id": "a9c1efcc-27c2-47a2-9fd3-c28a00907bdf",
   "metadata": {},
   "source": [
    "### Break and continue"
   ]
  },
  {
   "cell_type": "markdown",
   "id": "3a3eb1b5-4d51-4f32-a9dd-7637807c33ba",
   "metadata": {},
   "source": [
    "The `break` statement exits the current loop. The `continue` statement executes the next iteration of the loop, while skipping the rest of the code for the current iteration."
   ]
  },
  {
   "cell_type": "code",
   "execution_count": 29,
   "id": "c0a69eeb-457e-4c68-9285-cb33ffe0d4d7",
   "metadata": {
    "tags": []
   },
   "outputs": [
    {
     "name": "stdout",
     "output_type": "stream",
     "text": [
      "x=0, increment x by 1\n",
      "x=1, increment x by 1\n",
      "x=2, increment x by 1\n",
      "x=3, break\n"
     ]
    }
   ],
   "source": [
    "x = 0\n",
    "# Increment the counter until reaching 3\n",
    "while x < 10:\n",
    "    print(f\"x={x}, increment x by 1\")\n",
    "    x+=1\n",
    "    if x==3:\n",
    "        print(\"x=3, break\")\n",
    "        break"
   ]
  },
  {
   "cell_type": "code",
   "execution_count": 76,
   "id": "8ae81916-9849-4bed-aa80-505bc40e0c20",
   "metadata": {},
   "outputs": [
    {
     "name": "stdout",
     "output_type": "stream",
     "text": [
      "2\n",
      "4\n",
      "6\n",
      "8\n",
      "10\n"
     ]
    }
   ],
   "source": [
    "# Print only the even numbers in the range 1-10\n",
    "for i in range(1, 11):\n",
    "    if i % 2 != 0:\n",
    "        continue    # Skip the rest of the loop if the number is odd\n",
    "    print(i)"
   ]
  },
  {
   "cell_type": "markdown",
   "id": "a0fb6987-5287-4902-bbe3-db8bb7919a41",
   "metadata": {},
   "source": [
    "## Functions"
   ]
  },
  {
   "cell_type": "markdown",
   "id": "27989409-ef0e-41c1-a8c3-d4fdaaa63a08",
   "metadata": {},
   "source": [
    "A function groups together a set of statements (helps to reuse code and reduce redundancy). It takes arguments as inputs and may return values/objects and/or modify the inputs.\n"
   ]
  },
  {
   "cell_type": "code",
   "execution_count": 31,
   "id": "fda2034f-4308-4cdb-a432-326a21b53cfc",
   "metadata": {
    "tags": []
   },
   "outputs": [],
   "source": [
    "# Computes the square of a number\n",
    "def square(num):\n",
    "    # Indentation is needed to define the body of the function\n",
    "    square_num = num**2\n",
    "    return square_num"
   ]
  },
  {
   "cell_type": "code",
   "execution_count": 37,
   "id": "75b57c46-b425-4eb0-b387-706f7a9b30e3",
   "metadata": {
    "tags": []
   },
   "outputs": [
    {
     "name": "stdout",
     "output_type": "stream",
     "text": [
      "25\n",
      "25\n"
     ]
    }
   ],
   "source": [
    "n = 5\n",
    "# Passing arguments by name (keyword arguments)\n",
    "print(square(num=n))\n",
    "# Passing arguments following their order in the function definition (non-keyword arguments)\n",
    "print(square(n))"
   ]
  },
  {
   "cell_type": "markdown",
   "id": "0ecc7eb8-ef49-44bf-bba8-075b59459056",
   "metadata": {},
   "source": [
    "**Beware**: all the keyword arguments must be after all the non-keyword arguments. Moreover the order of the arguments matters only for non-keyword arguments. "
   ]
  },
  {
   "cell_type": "code",
   "execution_count": 33,
   "id": "6a84f7a7-c7b2-4480-a635-c97318e3af0b",
   "metadata": {
    "tags": []
   },
   "outputs": [],
   "source": [
    "def div(a, b):\n",
    "    return a/b"
   ]
  },
  {
   "cell_type": "code",
   "execution_count": 36,
   "id": "ddfdc01f-212f-4046-813f-49dd26c00647",
   "metadata": {
    "tags": []
   },
   "outputs": [
    {
     "ename": "SyntaxError",
     "evalue": "positional argument follows keyword argument (628508116.py, line 2)",
     "output_type": "error",
     "traceback": [
      "\u001b[0;36m  Cell \u001b[0;32mIn[36], line 2\u001b[0;36m\u001b[0m\n\u001b[0;31m    div(a = 1, 2)\u001b[0m\n\u001b[0m                ^\u001b[0m\n\u001b[0;31mSyntaxError\u001b[0m\u001b[0;31m:\u001b[0m positional argument follows keyword argument\n"
     ]
    }
   ],
   "source": [
    "# WRONG\n",
    "div(a = 1, 2)"
   ]
  },
  {
   "cell_type": "code",
   "execution_count": 73,
   "id": "acea0bca-941b-4230-be00-eaa7ea85ffd8",
   "metadata": {
    "tags": []
   },
   "outputs": [
    {
     "data": {
      "text/plain": [
       "0.5"
      ]
     },
     "execution_count": 73,
     "metadata": {},
     "output_type": "execute_result"
    }
   ],
   "source": [
    "# Correct\n",
    "div(a=1, b=2)"
   ]
  },
  {
   "cell_type": "code",
   "execution_count": 38,
   "id": "83d73af0-5d75-493f-8424-ced68ad62983",
   "metadata": {
    "tags": []
   },
   "outputs": [
    {
     "data": {
      "text/plain": [
       "0.5"
      ]
     },
     "execution_count": 38,
     "metadata": {},
     "output_type": "execute_result"
    }
   ],
   "source": [
    "# Also correct (order does not matter for keyword arguments)\n",
    "div(b=2, a=1)"
   ]
  },
  {
   "cell_type": "code",
   "execution_count": 39,
   "id": "c1684e45-eb3a-48aa-8db0-d07b877763c3",
   "metadata": {
    "tags": []
   },
   "outputs": [
    {
     "data": {
      "text/plain": [
       "0.5"
      ]
     },
     "execution_count": 39,
     "metadata": {},
     "output_type": "execute_result"
    }
   ],
   "source": [
    "# Also correct (non-keyword arguments, passed in the right order)\n",
    "div(1, 2)"
   ]
  },
  {
   "cell_type": "markdown",
   "id": "95dda521-13c6-4e03-a788-df07cdee9729",
   "metadata": {},
   "source": [
    "We can define *default* values for the arguments of a function:"
   ]
  },
  {
   "cell_type": "code",
   "execution_count": 41,
   "id": "1ddc429d-0b0f-4847-8ed9-e7a8ef7206b7",
   "metadata": {
    "tags": []
   },
   "outputs": [],
   "source": [
    "def multiply(a,b=2):\n",
    "    return a*b"
   ]
  },
  {
   "cell_type": "code",
   "execution_count": 42,
   "id": "31b645bd-f445-4329-8343-5eba75ea7044",
   "metadata": {
    "tags": []
   },
   "outputs": [
    {
     "name": "stdout",
     "output_type": "stream",
     "text": [
      "using default value for b: 10\n",
      "overriding default value for b: 35\n"
     ]
    }
   ],
   "source": [
    "print(f\"using default value for b: {multiply(5)}\") # only the value for the first argument is needed\n",
    "print(f\"overriding default value for b: {multiply(5,7)}\")"
   ]
  },
  {
   "cell_type": "markdown",
   "id": "db615da4-87aa-46ca-b3c7-ed09118a40d2",
   "metadata": {},
   "source": [
    "### Multiple return values"
   ]
  },
  {
   "cell_type": "markdown",
   "id": "343e834c-dc17-4730-9b29-219138ec7c98",
   "metadata": {},
   "source": [
    "Functions can return a _tuple_ of values separated by a comma:"
   ]
  },
  {
   "cell_type": "code",
   "execution_count": 71,
   "id": "833fcdcf-af2a-4fc5-8f3b-b580c95e01ab",
   "metadata": {},
   "outputs": [
    {
     "name": "stdout",
     "output_type": "stream",
     "text": [
      "(3, 1)\n",
      "<class 'tuple'>\n"
     ]
    }
   ],
   "source": [
    "def divide_and_remainder(dividend, divisor):\n",
    "    quotient = dividend // divisor\n",
    "    remainder = dividend % divisor\n",
    "    return quotient, remainder\n",
    "\n",
    "result = divide_and_remainder(10, 3)\n",
    "print(result)\n",
    "print(type(result))"
   ]
  },
  {
   "cell_type": "markdown",
   "id": "66df3c23-937e-4f33-92c1-9f6060de58ef",
   "metadata": {},
   "source": [
    "The returned values can be automatically _unpacked_ from the tuple by assigning them to several variables:"
   ]
  },
  {
   "cell_type": "code",
   "execution_count": 72,
   "id": "0f76e66b-79ad-460e-bfbd-fd4c9016c108",
   "metadata": {},
   "outputs": [
    {
     "name": "stdout",
     "output_type": "stream",
     "text": [
      "Quotient: 3, Remainder: 1\n"
     ]
    }
   ],
   "source": [
    "quot, rem = divide_and_remainder(10, 3)\n",
    "\n",
    "print(f\"Quotient: {quot}, Remainder: {rem}\")"
   ]
  },
  {
   "cell_type": "markdown",
   "id": "ac46a733-d363-491b-a599-edf525e8a8dc",
   "metadata": {},
   "source": [
    "### `*args` and `**kwargs`"
   ]
  },
  {
   "cell_type": "markdown",
   "id": "8db7476f-5d62-4ec9-9402-c50bf7e6079a",
   "metadata": {},
   "source": [
    "These keywords allow to define functions with a variable number of arguments."
   ]
  },
  {
   "cell_type": "code",
   "execution_count": 61,
   "id": "45daf7d9-4320-4319-8087-9775c302f8dc",
   "metadata": {
    "tags": []
   },
   "outputs": [],
   "source": [
    "# Compute the squared sum of the items of a tuple with variable length\n",
    "def sum_squared(*args):\n",
    "    # args is a tuple\n",
    "    return sum(args)**2"
   ]
  },
  {
   "cell_type": "code",
   "execution_count": 62,
   "id": "2aa3da09-46a3-4ead-8c78-995068d7ae66",
   "metadata": {
    "tags": []
   },
   "outputs": [
    {
     "name": "stdout",
     "output_type": "stream",
     "text": [
      "4 arguments: 100\n",
      "6 arguments: 441\n",
      "8 arguments: 1296\n"
     ]
    }
   ],
   "source": [
    "print(f\"4 arguments: {sum_squared(1,2,3,4)}\")\n",
    "print(f\"6 arguments: {sum_squared(1,2,3,4,5,6)}\")\n",
    "print(f\"8 arguments: {sum_squared(1,2,3,4,5,6,7,8)}\")"
   ]
  },
  {
   "cell_type": "markdown",
   "id": "cce73191-dea0-435e-98b1-c757071a8bf0",
   "metadata": {},
   "source": [
    "Hence, `*args` allows to handle multiple non-keyword arguments. \n",
    "Instead, to handle multiple keyword arguments, we use `**kwargs`."
   ]
  },
  {
   "cell_type": "code",
   "execution_count": 57,
   "id": "6dff1c12-9826-4372-8919-32d691965689",
   "metadata": {},
   "outputs": [],
   "source": [
    "def presentation(**kwargs):\n",
    "    # kwargs is a dictionary\n",
    "    for key, value in kwargs.items():\n",
    "        print(f\"My {key} is {value}.\")"
   ]
  },
  {
   "cell_type": "code",
   "execution_count": 58,
   "id": "d3ab10d1-26c2-4efe-a4bf-1897d166a2da",
   "metadata": {},
   "outputs": [
    {
     "name": "stdout",
     "output_type": "stream",
     "text": [
      "My name is Niels.\n",
      "My surname is Bohr.\n",
      "My age is 28.\n",
      "My email is unknown.\n"
     ]
    }
   ],
   "source": [
    "presentation(name = \"Niels\", surname = \"Bohr\", age=28, email =\"unknown\")"
   ]
  },
  {
   "cell_type": "code",
   "execution_count": 63,
   "id": "77a554a1-cc79-41b1-af84-c240faf2b867",
   "metadata": {},
   "outputs": [
    {
     "name": "stdout",
     "output_type": "stream",
     "text": [
      "My name is Niels.\n",
      "My surname is Bohr.\n",
      "My age is 28.\n",
      "My email is unknown.\n"
     ]
    }
   ],
   "source": [
    "# Passing a dictionary as an argument\n",
    "data = {\"name\": \"Niels\", \"surname\": \"Bohr\", \"age\": 28, \"email\": \"unknown\"}\n",
    "presentation(**data)"
   ]
  },
  {
   "cell_type": "markdown",
   "id": "3ebf9f01-741f-446e-86d7-56413e391def",
   "metadata": {},
   "source": [
    "## Imports"
   ]
  },
  {
   "cell_type": "markdown",
   "id": "16db2b7f-9bf4-4eff-ad94-1715b62a7b99",
   "metadata": {},
   "source": [
    "There are many libraries available for `Python` that add functionalities to the language.\n",
    "To use the functions of a library (after installing it with `pip` or `conda`) we have to _import_ it."
   ]
  },
  {
   "cell_type": "code",
   "execution_count": 46,
   "id": "1b047ea4-998b-4d64-9976-83b6e85756bf",
   "metadata": {
    "tags": []
   },
   "outputs": [],
   "source": [
    "# Import the full library using an alias\n",
    "import math as m"
   ]
  },
  {
   "cell_type": "code",
   "execution_count": 47,
   "id": "f97da04e-b7cf-4a93-8e36-7e0ba55607d5",
   "metadata": {
    "tags": []
   },
   "outputs": [
    {
     "data": {
      "text/plain": [
       "0.0"
      ]
     },
     "execution_count": 47,
     "metadata": {},
     "output_type": "execute_result"
    }
   ],
   "source": [
    "# Access functions of the math library using the dot\n",
    "m.sin(0.)"
   ]
  },
  {
   "cell_type": "code",
   "execution_count": 48,
   "id": "e89d2352-93f8-43e9-b2cc-dc5ac4d0629e",
   "metadata": {
    "tags": []
   },
   "outputs": [],
   "source": [
    "# Import only some functions of the library\n",
    "from math import sin, cos"
   ]
  },
  {
   "cell_type": "code",
   "execution_count": 5,
   "id": "c7e7aaa9-7751-4765-b1d9-77ed0038be9a",
   "metadata": {
    "tags": []
   },
   "outputs": [
    {
     "data": {
      "text/plain": [
       "0.0"
      ]
     },
     "execution_count": 5,
     "metadata": {},
     "output_type": "execute_result"
    }
   ],
   "source": [
    "sin(0.)"
   ]
  },
  {
   "cell_type": "code",
   "execution_count": 49,
   "id": "82f47fd0-2cb9-464b-a07e-8c3d23e7790b",
   "metadata": {},
   "outputs": [
    {
     "data": {
      "text/plain": [
       "1.0"
      ]
     },
     "execution_count": 49,
     "metadata": {},
     "output_type": "execute_result"
    }
   ],
   "source": [
    "cos(0.)"
   ]
  }
 ],
 "metadata": {
  "kernelspec": {
   "display_name": "Python 3 (ipykernel)",
   "language": "python",
   "name": "python3"
  },
  "language_info": {
   "codemirror_mode": {
    "name": "ipython",
    "version": 3
   },
   "file_extension": ".py",
   "mimetype": "text/x-python",
   "name": "python",
   "nbconvert_exporter": "python",
   "pygments_lexer": "ipython3",
   "version": "3.12.5"
  }
 },
 "nbformat": 4,
 "nbformat_minor": 5
}
