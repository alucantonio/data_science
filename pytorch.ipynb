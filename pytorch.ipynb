{
 "cells": [
  {
   "cell_type": "markdown",
   "id": "02f83822-b831-4a2d-a338-5a7ccd7d4723",
   "metadata": {},
   "source": [
    "# Introduction to PyTorch"
   ]
  },
  {
   "cell_type": "markdown",
   "id": "c90647cb-bdfb-4bdb-94f4-8d8c9274c45f",
   "metadata": {},
   "source": [
    "[PyToch documentation](https://pytorch.org/docs/stable/index.html)\n"
   ]
  },
  {
   "cell_type": "code",
   "execution_count": 81,
   "id": "924685a0-150e-4eb8-b84e-c4deb8d8bbf0",
   "metadata": {},
   "outputs": [],
   "source": [
    "# imports for this lesson\n",
    "import os\n",
    "import torch\n",
    "import numpy as np\n",
    "from torch import nn\n",
    "from torch.utils.data import DataLoader, Dataset\n",
    "from torchvision import datasets, transforms\n",
    "from torchvision.transforms import ToTensor\n",
    "import matplotlib.pyplot as plt"
   ]
  },
  {
   "cell_type": "markdown",
   "id": "598cf969-965d-459d-a552-a04751e5ddbf",
   "metadata": {},
   "source": [
    "## Tensors"
   ]
  },
  {
   "cell_type": "code",
   "execution_count": 7,
   "id": "9802289b-d1a3-49bb-87db-16a312c8308e",
   "metadata": {},
   "outputs": [
    {
     "data": {
      "text/plain": [
       "tensor([[1, 2],\n",
       "        [3, 4]])"
      ]
     },
     "execution_count": 7,
     "metadata": {},
     "output_type": "execute_result"
    }
   ],
   "source": [
    "# from list to tensor\n",
    "x = [[1, 2],[3, 4]]\n",
    "x_tensor = torch.tensor(x)\n",
    "x_tensor"
   ]
  },
  {
   "cell_type": "code",
   "execution_count": 10,
   "id": "aaf6431f-9193-4fc1-9c92-c9eba0ac7640",
   "metadata": {},
   "outputs": [
    {
     "data": {
      "text/plain": [
       "tensor([[1, 2],\n",
       "        [3, 4]])"
      ]
     },
     "execution_count": 10,
     "metadata": {},
     "output_type": "execute_result"
    }
   ],
   "source": [
    "# from np.array to tensor\n",
    "x_array = np.array(x)\n",
    "x_tensor = torch.from_numpy(x_array)\n",
    "x_tensor"
   ]
  },
  {
   "cell_type": "code",
   "execution_count": 12,
   "id": "e42cc77c-d822-4f48-9ce2-06131e7c8285",
   "metadata": {},
   "outputs": [
    {
     "data": {
      "text/plain": [
       "tensor([[1, 1],\n",
       "        [1, 1]])"
      ]
     },
     "execution_count": 12,
     "metadata": {},
     "output_type": "execute_result"
    }
   ],
   "source": [
    "# ones tensor with the same shape of x_tensor\n",
    "x_ones = torch.ones_like(x_tensor)\n",
    "x_ones"
   ]
  },
  {
   "cell_type": "code",
   "execution_count": 13,
   "id": "b4c5c5d7-dc10-4699-8ee7-3f5ac0f235c0",
   "metadata": {},
   "outputs": [
    {
     "data": {
      "text/plain": [
       "tensor([[0.4469, 0.3094],\n",
       "        [0.2159, 0.2610]])"
      ]
     },
     "execution_count": 13,
     "metadata": {},
     "output_type": "execute_result"
    }
   ],
   "source": [
    "# random tensor with the same shape of x_tensor\n",
    "x_rand = torch.rand_like(x_tensor, dtype=torch.float)\n",
    "x_rand"
   ]
  },
  {
   "cell_type": "code",
   "execution_count": 16,
   "id": "a135139f-f56f-49fe-960d-ea947c964dc2",
   "metadata": {},
   "outputs": [
    {
     "name": "stdout",
     "output_type": "stream",
     "text": [
      "Random Tensor: \n",
      " tensor([[0.9551, 0.4829, 0.3578],\n",
      "        [0.8351, 0.4303, 0.2209]]) \n",
      "\n",
      "Ones Tensor: \n",
      " tensor([[1., 1., 1.],\n",
      "        [1., 1., 1.]]) \n",
      "\n",
      "Zeros Tensor: \n",
      " tensor([[0., 0., 0.],\n",
      "        [0., 0., 0.]])\n"
     ]
    }
   ],
   "source": [
    "# build tensors of a given shape\n",
    "shape = (2,3)\n",
    "rand_tensor = torch.rand(shape)\n",
    "ones_tensor = torch.ones(shape)\n",
    "zeros_tensor = torch.zeros(shape)\n",
    "\n",
    "print(f\"Random Tensor: \\n {rand_tensor} \\n\")\n",
    "print(f\"Ones Tensor: \\n {ones_tensor} \\n\")\n",
    "print(f\"Zeros Tensor: \\n {zeros_tensor}\")"
   ]
  },
  {
   "cell_type": "code",
   "execution_count": 18,
   "id": "63e442c6-61b1-4c65-b382-cde3d028c139",
   "metadata": {},
   "outputs": [
    {
     "name": "stdout",
     "output_type": "stream",
     "text": [
      "Shape of tensor: torch.Size([3, 4])\n",
      "Datatype of tensor: torch.float32\n",
      "Device tensor is stored on: cpu\n"
     ]
    }
   ],
   "source": [
    "# tensor attributes\n",
    "tensor = torch.rand(3,4)\n",
    "\n",
    "print(f\"Shape of tensor: {tensor.shape}\")\n",
    "print(f\"Datatype of tensor: {tensor.dtype}\")\n",
    "print(f\"Device tensor is stored on: {tensor.device}\")"
   ]
  },
  {
   "cell_type": "markdown",
   "id": "d4e5cf9c-8688-416a-a986-c7a79a814257",
   "metadata": {},
   "source": [
    "### Operations on Tensors"
   ]
  },
  {
   "cell_type": "code",
   "execution_count": 19,
   "id": "f823665b-0952-4d34-a833-bfc3bf617cba",
   "metadata": {},
   "outputs": [],
   "source": [
    "if torch.cuda.is_available():\n",
    "    tensor = tensor.to(\"cuda\")"
   ]
  },
  {
   "cell_type": "code",
   "execution_count": 25,
   "id": "7f98e2c2-d542-4322-a511-31b79a06db50",
   "metadata": {},
   "outputs": [
    {
     "name": "stdout",
     "output_type": "stream",
     "text": [
      "Tensor: tensor([[ 0,  1,  2,  3],\n",
      "        [ 4,  5,  6,  7],\n",
      "        [ 8,  9, 10, 11]])\n",
      "First row: tensor([0, 1, 2, 3])\n",
      "First column: tensor([0, 4, 8])\n",
      "Last column: tensor([ 3,  7, 11])\n",
      "tensor([[ 0,  0,  2,  3],\n",
      "        [ 4,  0,  6,  7],\n",
      "        [ 8,  0, 10, 11]])\n"
     ]
    }
   ],
   "source": [
    "tensor = torch.arange(12).reshape((3,4))\n",
    "print(f\"Tensor: {tensor}\")\n",
    "print(f\"First row: {tensor[0]}\")\n",
    "print(f\"First column: {tensor[:, 0]}\")\n",
    "print(f\"Last column: {tensor[:, -1]}\")\n",
    "tensor[:,1] = 0\n",
    "print(tensor)"
   ]
  },
  {
   "cell_type": "code",
   "execution_count": 29,
   "id": "63baf99a-e4f9-4300-acde-6f2b10a807bd",
   "metadata": {},
   "outputs": [
    {
     "data": {
      "text/plain": [
       "tensor([[ 0,  0,  2,  3,  0,  0,  2,  3,  0,  0,  2,  3],\n",
       "        [ 4,  0,  6,  7,  4,  0,  6,  7,  4,  0,  6,  7],\n",
       "        [ 8,  0, 10, 11,  8,  0, 10, 11,  8,  0, 10, 11]])"
      ]
     },
     "execution_count": 29,
     "metadata": {},
     "output_type": "execute_result"
    }
   ],
   "source": [
    "# concatenate tensor\n",
    "conc_tensor = torch.cat([tensor, tensor, tensor], dim=1)\n",
    "conc_tensor"
   ]
  },
  {
   "cell_type": "code",
   "execution_count": 35,
   "id": "4f05e1b7-f793-4aa7-9494-89264971344b",
   "metadata": {},
   "outputs": [
    {
     "name": "stdout",
     "output_type": "stream",
     "text": [
      "tensor([[ 13,  33,  53],\n",
      "        [ 33, 101, 169],\n",
      "        [ 53, 169, 285]]) tensor([[ 13,  33,  53],\n",
      "        [ 33, 101, 169],\n",
      "        [ 53, 169, 285]])\n",
      "tensor([[  0,   0,   4,   9],\n",
      "        [ 16,   0,  36,  49],\n",
      "        [ 64,   0, 100, 121]]) tensor([[  0,   0,   4,   9],\n",
      "        [ 16,   0,  36,  49],\n",
      "        [ 64,   0, 100, 121]])\n"
     ]
    }
   ],
   "source": [
    "# tensor multiplication (syntactic sugar)\n",
    "t1 = tensor @ tensor.T\n",
    "# tensor multiplication (explicit formulation)\n",
    "t2 = tensor.matmul(tensor.T)\n",
    "print(t1,t2) \n",
    "\n",
    "# element-wise product (syntactic sugar)\n",
    "e1 = tensor * tensor\n",
    "# element-wise product (explicit formulation)\n",
    "e2 = tensor.mul(tensor)\n",
    "print(e1,e2)"
   ]
  },
  {
   "cell_type": "markdown",
   "id": "fdb94ad5-b63f-4c7f-86e2-be923e9e1370",
   "metadata": {},
   "source": [
    "### Bridge with NumPy "
   ]
  },
  {
   "cell_type": "code",
   "execution_count": 39,
   "id": "f5e4b3e2-4710-4850-a4eb-adf4190bacf8",
   "metadata": {},
   "outputs": [
    {
     "name": "stdout",
     "output_type": "stream",
     "text": [
      "t: tensor([1., 1., 1., 1., 1.])\n",
      "n: [1. 1. 1. 1. 1.]\n"
     ]
    }
   ],
   "source": [
    "# from tensor to numpy\n",
    "t = torch.ones(5)\n",
    "print(f\"t: {t}\")\n",
    "n = t.numpy()\n",
    "print(f\"n: {n}\")"
   ]
  },
  {
   "cell_type": "code",
   "execution_count": 40,
   "id": "9a65f826-6dc1-4c4c-bd3a-2a5337e2c403",
   "metadata": {},
   "outputs": [
    {
     "name": "stdout",
     "output_type": "stream",
     "text": [
      "t: tensor([2., 2., 2., 2., 2.])\n",
      "n: [2. 2. 2. 2. 2.]\n"
     ]
    }
   ],
   "source": [
    "# changing the tensor will also change its numpy counterpart\n",
    "t.add_(1)\n",
    "print(f\"t: {t}\")\n",
    "print(f\"n: {n}\")"
   ]
  },
  {
   "cell_type": "markdown",
   "id": "27bb2e38-3c2c-4c04-be62-101500784215",
   "metadata": {},
   "source": [
    "## Automatic differentiation"
   ]
  },
  {
   "cell_type": "code",
   "execution_count": 79,
   "id": "02ad123e-5597-46b0-8788-fd9a11f1f424",
   "metadata": {},
   "outputs": [],
   "source": [
    "# one-layer nn using torch\n",
    "\n",
    "# input tensor\n",
    "x = torch.ones(5)\n",
    "# expected output\n",
    "y = torch.zeros(3) \n",
    "# weigths def\n",
    "w = torch.randn(5, 3, requires_grad=True)\n",
    "b = torch.randn(3, requires_grad=True)\n",
    "z = torch.matmul(x, w)+b\n",
    "loss = torch.nn.functional.binary_cross_entropy_with_logits(z, y)"
   ]
  },
  {
   "cell_type": "code",
   "execution_count": 80,
   "id": "b920a29e-e1bc-42d6-ab2f-965f1383180b",
   "metadata": {},
   "outputs": [
    {
     "name": "stdout",
     "output_type": "stream",
     "text": [
      "tensor([[0.1978, 0.0950, 0.2057],\n",
      "        [0.1978, 0.0950, 0.2057],\n",
      "        [0.1978, 0.0950, 0.2057],\n",
      "        [0.1978, 0.0950, 0.2057],\n",
      "        [0.1978, 0.0950, 0.2057]])\n",
      "tensor([0.1978, 0.0950, 0.2057])\n"
     ]
    }
   ],
   "source": [
    "loss.backward()\n",
    "# compute the partial derivative of the loss w.r.t. w\n",
    "print(w.grad)\n",
    "# compute the partial derivative of the loss w.r.t. b\n",
    "print(b.grad)"
   ]
  },
  {
   "cell_type": "markdown",
   "id": "594ee15e-6fcb-4c36-9a6f-98dd05910be7",
   "metadata": {},
   "source": [
    "## Loading the FashionMNIST dataset"
   ]
  },
  {
   "cell_type": "code",
   "execution_count": 82,
   "id": "f9bc1030-68df-41c6-bfbc-1c52aad28c60",
   "metadata": {},
   "outputs": [
    {
     "name": "stderr",
     "output_type": "stream",
     "text": [
      "0.2%"
     ]
    },
    {
     "name": "stdout",
     "output_type": "stream",
     "text": [
      "Downloading http://fashion-mnist.s3-website.eu-central-1.amazonaws.com/train-images-idx3-ubyte.gz\n",
      "Downloading http://fashion-mnist.s3-website.eu-central-1.amazonaws.com/train-images-idx3-ubyte.gz to data/FashionMNIST/raw/train-images-idx3-ubyte.gz\n"
     ]
    },
    {
     "name": "stderr",
     "output_type": "stream",
     "text": [
      "100.0%\n"
     ]
    },
    {
     "name": "stdout",
     "output_type": "stream",
     "text": [
      "Extracting data/FashionMNIST/raw/train-images-idx3-ubyte.gz to data/FashionMNIST/raw\n"
     ]
    },
    {
     "name": "stderr",
     "output_type": "stream",
     "text": [
      "100.0%"
     ]
    },
    {
     "name": "stdout",
     "output_type": "stream",
     "text": [
      "\n",
      "Downloading http://fashion-mnist.s3-website.eu-central-1.amazonaws.com/train-labels-idx1-ubyte.gz\n",
      "Downloading http://fashion-mnist.s3-website.eu-central-1.amazonaws.com/train-labels-idx1-ubyte.gz to data/FashionMNIST/raw/train-labels-idx1-ubyte.gz\n",
      "Extracting data/FashionMNIST/raw/train-labels-idx1-ubyte.gz to data/FashionMNIST/raw\n",
      "\n",
      "Downloading http://fashion-mnist.s3-website.eu-central-1.amazonaws.com/t10k-images-idx3-ubyte.gz\n"
     ]
    },
    {
     "name": "stderr",
     "output_type": "stream",
     "text": [
      "\n",
      "28.2%"
     ]
    },
    {
     "name": "stdout",
     "output_type": "stream",
     "text": [
      "Downloading http://fashion-mnist.s3-website.eu-central-1.amazonaws.com/t10k-images-idx3-ubyte.gz to data/FashionMNIST/raw/t10k-images-idx3-ubyte.gz\n"
     ]
    },
    {
     "name": "stderr",
     "output_type": "stream",
     "text": [
      "100.0%\n",
      "100.0%"
     ]
    },
    {
     "name": "stdout",
     "output_type": "stream",
     "text": [
      "Extracting data/FashionMNIST/raw/t10k-images-idx3-ubyte.gz to data/FashionMNIST/raw\n",
      "\n",
      "Downloading http://fashion-mnist.s3-website.eu-central-1.amazonaws.com/t10k-labels-idx1-ubyte.gz\n",
      "Downloading http://fashion-mnist.s3-website.eu-central-1.amazonaws.com/t10k-labels-idx1-ubyte.gz to data/FashionMNIST/raw/t10k-labels-idx1-ubyte.gz\n",
      "Extracting data/FashionMNIST/raw/t10k-labels-idx1-ubyte.gz to data/FashionMNIST/raw\n",
      "\n"
     ]
    },
    {
     "name": "stderr",
     "output_type": "stream",
     "text": [
      "\n"
     ]
    }
   ],
   "source": [
    "training_data = datasets.FashionMNIST(\n",
    "    root=\"data\",\n",
    "    train=True,\n",
    "    download=True,\n",
    "    transform=ToTensor()\n",
    ")\n",
    "\n",
    "test_data = datasets.FashionMNIST(\n",
    "    root=\"data\",\n",
    "    train=False,\n",
    "    download=True,\n",
    "    transform=ToTensor()\n",
    ")"
   ]
  },
  {
   "cell_type": "code",
   "execution_count": 88,
   "id": "b2015eac-7c8c-4429-a0cd-51b977ee01e2",
   "metadata": {},
   "outputs": [
    {
     "data": {
      "image/png": "[encoded data removed]",
      "text/plain": [
       "<Figure size 800x800 with 9 Axes>"
      ]
     },
     "metadata": {},
     "output_type": "display_data"
    }
   ],
   "source": [
    "# plot 9 random sample of the training set\n",
    "labels_map = {\n",
    "    0: \"T-Shirt\",\n",
    "    1: \"Trouser\",\n",
    "    2: \"Pullover\",\n",
    "    3: \"Dress\",\n",
    "    4: \"Coat\",\n",
    "    5: \"Sandal\",\n",
    "    6: \"Shirt\",\n",
    "    7: \"Sneaker\",\n",
    "    8: \"Bag\",\n",
    "    9: \"Ankle Boot\",\n",
    "}\n",
    "figure = plt.figure(figsize=(8, 8))\n",
    "cols, rows = 3, 3\n",
    "for i in range(1, cols * rows + 1):\n",
    "    sample_idx = torch.randint(len(training_data), size=(1,)).item()\n",
    "    img, label = training_data[sample_idx]\n",
    "    figure.add_subplot(rows, cols, i)\n",
    "    plt.title(labels_map[label])\n",
    "    plt.axis(\"off\")\n",
    "    plt.imshow(img.squeeze(), cmap=\"gray\")\n",
    "plt.show()"
   ]
  },
  {
   "cell_type": "markdown",
   "id": "4f077d49-674c-4436-8e1e-46d7c8d4376a",
   "metadata": {},
   "source": [
    "### Data Loaders"
   ]
  },
  {
   "cell_type": "code",
   "execution_count": 89,
   "id": "5d05a49f-4d39-4b98-82c1-e80a4a0a18b6",
   "metadata": {},
   "outputs": [],
   "source": [
    "train_dataloader = DataLoader(training_data, batch_size=64, shuffle=True)\n",
    "test_dataloader = DataLoader(test_data, batch_size=64, shuffle=True)"
   ]
  },
  {
   "cell_type": "markdown",
   "id": "46a1c8cb-125a-41e1-b906-bdf7626097de",
   "metadata": {},
   "source": [
    "## Build a Neural Network"
   ]
  },
  {
   "cell_type": "code",
   "execution_count": 44,
   "id": "a6b50408-dafc-437b-97cf-e481ab6e543e",
   "metadata": {},
   "outputs": [
    {
     "name": "stdout",
     "output_type": "stream",
     "text": [
      "Using cuda device\n"
     ]
    }
   ],
   "source": [
    "# set the device for the training\n",
    "device = (\n",
    "    \"cuda\"\n",
    "    if torch.cuda.is_available()\n",
    "    else \"mps\"\n",
    "    if torch.backends.mps.is_available()\n",
    "    else \"cpu\"\n",
    ")\n",
    "print(f\"Using {device} device\")"
   ]
  },
  {
   "cell_type": "code",
   "execution_count": 50,
   "id": "b67078ac-6225-4e9d-a97b-6d1e84b50efd",
   "metadata": {},
   "outputs": [],
   "source": [
    "# Neural Network class for the FashionMNIST dataset (inherited class with parent nn.Module)\n",
    "class NeuralNetwork(nn.Module):\n",
    "    def __init__(self):\n",
    "        super().__init__()\n",
    "        self.flatten = nn.Flatten()\n",
    "        self.linear_relu_stack = nn.Sequential(\n",
    "            nn.Linear(28*28, 512),\n",
    "            nn.ReLU(),\n",
    "            nn.Linear(512, 512),\n",
    "            nn.ReLU(),\n",
    "            nn.Linear(512, 10),\n",
    "        )\n",
    "\n",
    "    def forward(self, x):\n",
    "        x = self.flatten(x)\n",
    "        logits = self.linear_relu_stack(x)\n",
    "        return logits"
   ]
  },
  {
   "cell_type": "code",
   "execution_count": 48,
   "id": "58c550bf-7005-4314-a698-8724274b3dd5",
   "metadata": {},
   "outputs": [
    {
     "name": "stdout",
     "output_type": "stream",
     "text": [
      "NeuralNetwork(\n",
      "  (flatten): Flatten(start_dim=1, end_dim=-1)\n",
      "  (linear_relu_stack): Sequential(\n",
      "    (0): Linear(in_features=784, out_features=512, bias=True)\n",
      "    (1): ReLU()\n",
      "    (2): Linear(in_features=512, out_features=512, bias=True)\n",
      "    (3): ReLU()\n",
      "    (4): Linear(in_features=512, out_features=10, bias=True)\n",
      "  )\n",
      ")\n"
     ]
    }
   ],
   "source": [
    "model = NeuralNetwork().to(device)\n",
    "print(model)"
   ]
  },
  {
   "cell_type": "code",
   "execution_count": 49,
   "id": "e788b018-2ac1-4404-b614-5f04f0c39a99",
   "metadata": {},
   "outputs": [
    {
     "name": "stdout",
     "output_type": "stream",
     "text": [
      "Predicted class: tensor([9], device='cuda:0')\n"
     ]
    }
   ],
   "source": [
    "X = torch.rand(1, 28, 28, device=device)\n",
    "logits = model(X)\n",
    "pred_probab = nn.Softmax(dim=1)(logits)\n",
    "y_pred = pred_probab.argmax(1)\n",
    "print(f\"Predicted class: {y_pred}\")"
   ]
  },
  {
   "cell_type": "markdown",
   "id": "6fd62f16-caf2-4a70-8b29-4e205940166b",
   "metadata": {},
   "source": [
    "### `nn.Flatten`"
   ]
  },
  {
   "cell_type": "markdown",
   "id": "7cdf7d20-25fa-4e0a-9eba-433a6b65a8f1",
   "metadata": {},
   "source": [
    "`nn.Flatten` convert each $28 \\times 28$ tensor in a contigous array of length $28^2 = 784$."
   ]
  },
  {
   "cell_type": "code",
   "execution_count": 51,
   "id": "31940580-948e-4e0a-9629-f7bfa5270070",
   "metadata": {},
   "outputs": [
    {
     "name": "stdout",
     "output_type": "stream",
     "text": [
      "torch.Size([3, 28, 28])\n",
      "torch.Size([3, 784])\n"
     ]
    }
   ],
   "source": [
    "input_image = torch.rand(3,28,28)\n",
    "print(input_image.size())\n",
    "\n",
    "flatten = nn.Flatten()\n",
    "flat_image = flatten(input_image)\n",
    "print(flat_image.size())"
   ]
  },
  {
   "cell_type": "markdown",
   "id": "7788b900-fc08-4bf4-a435-268a0d9c2355",
   "metadata": {},
   "source": [
    "### `nn.Linear`"
   ]
  },
  {
   "cell_type": "markdown",
   "id": "508cc895-b80e-49fe-88c7-ef54251c4eba",
   "metadata": {},
   "source": [
    "`nn.Linear` apply a linear transformation to the input using the stored weights and bias."
   ]
  },
  {
   "cell_type": "code",
   "execution_count": 52,
   "id": "f2717286-aa43-42b4-871e-7da2d7adb03b",
   "metadata": {},
   "outputs": [
    {
     "name": "stdout",
     "output_type": "stream",
     "text": [
      "torch.Size([3, 20])\n"
     ]
    }
   ],
   "source": [
    "layer1 = nn.Linear(in_features=28*28, out_features=20)\n",
    "hidden1 = layer1(flat_image)\n",
    "print(hidden1.size())"
   ]
  },
  {
   "cell_type": "markdown",
   "id": "c9ffca66-023f-4577-aa2f-fd0d67dead3f",
   "metadata": {},
   "source": [
    "### `nn.ReLU`"
   ]
  },
  {
   "cell_type": "markdown",
   "id": "1ed53909-aee0-4e3e-a2ee-51feff6cdd7a",
   "metadata": {},
   "source": [
    "`nn.ReLU` is the ReLU activation function for each layer."
   ]
  },
  {
   "cell_type": "code",
   "execution_count": 53,
   "id": "1fc3966a-b529-4120-8f84-a4bc55a783b1",
   "metadata": {},
   "outputs": [
    {
     "name": "stdout",
     "output_type": "stream",
     "text": [
      "Before ReLU: tensor([[-4.4426e-01, -6.2140e-02,  1.6103e-01, -4.0152e-01, -2.2100e-01,\n",
      "          2.6668e-02, -1.0472e-01, -2.8304e-01,  5.0291e-01,  1.4937e-01,\n",
      "          5.6406e-01,  2.4710e-01, -1.1867e-01, -2.6820e-01, -3.1990e-01,\n",
      "         -1.0631e-01,  5.6750e-02, -4.9908e-01, -2.5435e-01,  3.3812e-01],\n",
      "        [-2.6382e-01, -2.9852e-01,  4.0189e-01, -4.6117e-01,  4.3404e-01,\n",
      "         -2.8799e-01, -2.3808e-01, -5.4558e-01, -2.0218e-02, -2.5795e-01,\n",
      "          2.4061e-01,  2.0398e-01,  5.5116e-02, -4.3963e-01, -4.4164e-01,\n",
      "         -3.7840e-01, -3.0664e-02, -4.1459e-01, -2.1213e-01,  1.3304e-01],\n",
      "        [-1.0114e-01, -2.9718e-01,  2.2003e-01, -5.3684e-01, -7.6582e-03,\n",
      "         -1.0618e-01, -2.6521e-01, -3.2382e-01,  2.3865e-01, -3.3744e-02,\n",
      "          2.1313e-01,  9.0022e-02,  4.9023e-04,  4.6915e-02, -3.9160e-01,\n",
      "         -1.4517e-01, -2.9534e-02, -3.7701e-01, -4.2025e-01,  2.9883e-01]],\n",
      "       grad_fn=<AddmmBackward0>)\n",
      "\n",
      "\n",
      "After ReLU: tensor([[0.0000e+00, 0.0000e+00, 1.6103e-01, 0.0000e+00, 0.0000e+00, 2.6668e-02,\n",
      "         0.0000e+00, 0.0000e+00, 5.0291e-01, 1.4937e-01, 5.6406e-01, 2.4710e-01,\n",
      "         0.0000e+00, 0.0000e+00, 0.0000e+00, 0.0000e+00, 5.6750e-02, 0.0000e+00,\n",
      "         0.0000e+00, 3.3812e-01],\n",
      "        [0.0000e+00, 0.0000e+00, 4.0189e-01, 0.0000e+00, 4.3404e-01, 0.0000e+00,\n",
      "         0.0000e+00, 0.0000e+00, 0.0000e+00, 0.0000e+00, 2.4061e-01, 2.0398e-01,\n",
      "         5.5116e-02, 0.0000e+00, 0.0000e+00, 0.0000e+00, 0.0000e+00, 0.0000e+00,\n",
      "         0.0000e+00, 1.3304e-01],\n",
      "        [0.0000e+00, 0.0000e+00, 2.2003e-01, 0.0000e+00, 0.0000e+00, 0.0000e+00,\n",
      "         0.0000e+00, 0.0000e+00, 2.3865e-01, 0.0000e+00, 2.1313e-01, 9.0022e-02,\n",
      "         4.9023e-04, 4.6915e-02, 0.0000e+00, 0.0000e+00, 0.0000e+00, 0.0000e+00,\n",
      "         0.0000e+00, 2.9883e-01]], grad_fn=<ReluBackward0>)\n"
     ]
    }
   ],
   "source": [
    "print(f\"Before ReLU: {hidden1}\\n\\n\")\n",
    "hidden1 = nn.ReLU()(hidden1)\n",
    "print(f\"After ReLU: {hidden1}\")"
   ]
  },
  {
   "cell_type": "markdown",
   "id": "ec07c217-784b-4120-8607-4176cfbed10f",
   "metadata": {},
   "source": [
    "### `nn.Sequential`"
   ]
  },
  {
   "cell_type": "markdown",
   "id": "66d549d0-0d96-4358-9891-3a27aad3eb8d",
   "metadata": {},
   "source": [
    "`nn.Sequential` is just a container of different modules. The data are passed forward, hence passing each module contained."
   ]
  },
  {
   "cell_type": "code",
   "execution_count": 55,
   "id": "d98b29e3-0f20-4ef8-8d3a-98b62e30bdda",
   "metadata": {},
   "outputs": [
    {
     "data": {
      "text/plain": [
       "tensor([[-0.2212,  0.1408, -0.1180, -0.0332, -0.1479, -0.1010,  0.1352, -0.2569,\n",
       "         -0.1287,  0.1925],\n",
       "        [-0.1194,  0.2678,  0.0167, -0.0991, -0.1443, -0.1523,  0.0398, -0.1295,\n",
       "         -0.1041,  0.2071],\n",
       "        [-0.2160,  0.2090, -0.0270, -0.0616, -0.0649, -0.1720,  0.1037, -0.2356,\n",
       "         -0.1399,  0.1836]], grad_fn=<AddmmBackward0>)"
      ]
     },
     "execution_count": 55,
     "metadata": {},
     "output_type": "execute_result"
    }
   ],
   "source": [
    "seq_modules = nn.Sequential(\n",
    "    flatten,\n",
    "    layer1,\n",
    "    nn.ReLU(),\n",
    "    nn.Linear(20, 10)\n",
    ")\n",
    "input_image = torch.rand(3,28,28)\n",
    "logits = seq_modules(input_image)\n",
    "logits"
   ]
  },
  {
   "cell_type": "markdown",
   "id": "5506b380-459a-474f-bb85-ea2d2f71220e",
   "metadata": {},
   "source": [
    "### `nn.Softmax`"
   ]
  },
  {
   "cell_type": "markdown",
   "id": "a15e9b05-bd1d-43e4-9a00-bcfa0903ffa0",
   "metadata": {},
   "source": [
    "Citing PyTorch docs, \"applies the Softmax function to an $n$-dimensional input Tensor rescaling them so that the elements of the $n$-dimensional output Tensor lie in the range $[0,1]$ and sum to $1$.\""
   ]
  },
  {
   "cell_type": "code",
   "execution_count": 61,
   "id": "20797178-9cf5-468f-8ff7-838115bcef5a",
   "metadata": {},
   "outputs": [
    {
     "data": {
      "text/plain": [
       "tensor([9, 1, 1])"
      ]
     },
     "execution_count": 61,
     "metadata": {},
     "output_type": "execute_result"
    }
   ],
   "source": [
    "softmax = nn.Softmax(dim=1)\n",
    "pred_probab = softmax(logits)\n",
    "# predicted classes\n",
    "pred_probab.argmax(1)"
   ]
  },
  {
   "cell_type": "markdown",
   "id": "6fd486ae-3551-4594-addc-6f5aada93374",
   "metadata": {},
   "source": [
    "## Optimization loop"
   ]
  },
  {
   "cell_type": "code",
   "execution_count": 94,
   "id": "95777041-7ce1-4275-9ccb-8aca1b09d623",
   "metadata": {},
   "outputs": [],
   "source": [
    "def train_loop(dataloader, model, loss_fn, optimizer):\n",
    "    size = len(dataloader.dataset)\n",
    "    # Set the model to training mode - important for batch normalization and dropout layers\n",
    "    # Unnecessary in this situation but added for best practices\n",
    "    model.train()\n",
    "    for batch, (X, y) in enumerate(dataloader):\n",
    "        # Compute prediction and loss\n",
    "        pred = model(X)\n",
    "        loss = loss_fn(pred, y)\n",
    "\n",
    "        # Backpropagation\n",
    "        loss.backward()\n",
    "        optimizer.step()\n",
    "        optimizer.zero_grad()\n",
    "\n",
    "        if batch % 100 == 0:\n",
    "            loss, current = loss.item(), (batch + 1) * len(X)\n",
    "            print(f\"loss: {loss:>7f}  [{current:>5d}/{size:>5d}]\")"
   ]
  },
  {
   "cell_type": "code",
   "execution_count": 95,
   "id": "7d662e96-9113-4056-97bf-d6d1e7726059",
   "metadata": {},
   "outputs": [],
   "source": [
    "def test_loop(dataloader, model, loss_fn):\n",
    "    # Set the model to evaluation mode - important for batch normalization and dropout layers\n",
    "    # Unnecessary in this situation but added for best practices\n",
    "    model.eval()\n",
    "    size = len(dataloader.dataset)\n",
    "    num_batches = len(dataloader)\n",
    "    test_loss, correct = 0, 0\n",
    "\n",
    "    # Evaluating the model with torch.no_grad() ensures that no gradients \n",
    "    # are computed during test mode and also serves to reduce unnecessary \n",
    "    # gradient computations and memory usage for tensors with requires_grad = True\n",
    "    with torch.no_grad():\n",
    "        for X, y in dataloader:\n",
    "            pred = model(X)\n",
    "            test_loss += loss_fn(pred, y).item()\n",
    "            correct += (pred.argmax(1) == y).type(torch.float).sum().item()\n",
    "\n",
    "    test_loss /= num_batches\n",
    "    correct /= size\n",
    "    print(f\"Test Error: \\n Accuracy: {(100*correct):>0.1f}%, Avg loss: {test_loss:>8f} \\n\")"
   ]
  },
  {
   "cell_type": "code",
   "execution_count": 96,
   "id": "5d776547-5cde-474f-a3da-4962c9103fbe",
   "metadata": {},
   "outputs": [
    {
     "name": "stdout",
     "output_type": "stream",
     "text": [
      "Epoch 1\n",
      "-------------------------------\n",
      "loss: 2.290259  [   64/60000]\n",
      "loss: 2.289997  [ 6464/60000]\n",
      "loss: 2.282045  [12864/60000]\n",
      "loss: 2.247483  [19264/60000]\n",
      "loss: 2.246157  [25664/60000]\n",
      "loss: 2.230678  [32064/60000]\n",
      "loss: 2.218587  [38464/60000]\n",
      "loss: 2.188747  [44864/60000]\n",
      "loss: 2.170841  [51264/60000]\n",
      "loss: 2.151499  [57664/60000]\n",
      "Test Error: \n",
      " Accuracy: 42.5%, Avg loss: 2.162296 \n",
      "\n",
      "Epoch 2\n",
      "-------------------------------\n",
      "loss: 2.162414  [   64/60000]\n",
      "loss: 2.131241  [ 6464/60000]\n",
      "loss: 2.152310  [12864/60000]\n",
      "loss: 2.113808  [19264/60000]\n",
      "loss: 2.063272  [25664/60000]\n",
      "loss: 2.068116  [32064/60000]\n",
      "loss: 2.008269  [38464/60000]\n",
      "loss: 1.976749  [44864/60000]\n",
      "loss: 1.974887  [51264/60000]\n",
      "loss: 1.901383  [57664/60000]\n",
      "Test Error: \n",
      " Accuracy: 55.1%, Avg loss: 1.901701 \n",
      "\n",
      "Epoch 3\n",
      "-------------------------------\n",
      "loss: 1.896375  [   64/60000]\n",
      "loss: 1.861433  [ 6464/60000]\n",
      "loss: 1.772154  [12864/60000]\n",
      "loss: 1.761452  [19264/60000]\n",
      "loss: 1.817092  [25664/60000]\n",
      "loss: 1.757015  [32064/60000]\n",
      "loss: 1.610056  [38464/60000]\n",
      "loss: 1.612546  [44864/60000]\n",
      "loss: 1.605004  [51264/60000]\n",
      "loss: 1.567780  [57664/60000]\n",
      "Test Error: \n",
      " Accuracy: 60.2%, Avg loss: 1.527565 \n",
      "\n",
      "Epoch 4\n",
      "-------------------------------\n",
      "loss: 1.610731  [   64/60000]\n",
      "loss: 1.493179  [ 6464/60000]\n",
      "loss: 1.518464  [12864/60000]\n",
      "loss: 1.426629  [19264/60000]\n",
      "loss: 1.348608  [25664/60000]\n",
      "loss: 1.390811  [32064/60000]\n",
      "loss: 1.359630  [38464/60000]\n",
      "loss: 1.403810  [44864/60000]\n",
      "loss: 1.341956  [51264/60000]\n",
      "loss: 1.264605  [57664/60000]\n",
      "Test Error: \n",
      " Accuracy: 63.8%, Avg loss: 1.252304 \n",
      "\n",
      "Epoch 5\n",
      "-------------------------------\n",
      "loss: 1.183121  [   64/60000]\n",
      "loss: 1.189724  [ 6464/60000]\n",
      "loss: 1.243361  [12864/60000]\n",
      "loss: 1.125362  [19264/60000]\n",
      "loss: 1.204144  [25664/60000]\n",
      "loss: 1.134098  [32064/60000]\n",
      "loss: 1.068253  [38464/60000]\n",
      "loss: 0.963703  [44864/60000]\n",
      "loss: 1.013077  [51264/60000]\n",
      "loss: 1.020502  [57664/60000]\n",
      "Test Error: \n",
      " Accuracy: 65.2%, Avg loss: 1.081352 \n",
      "\n",
      "Epoch 6\n",
      "-------------------------------\n",
      "loss: 1.043064  [   64/60000]\n",
      "loss: 1.240210  [ 6464/60000]\n",
      "loss: 1.142782  [12864/60000]\n",
      "loss: 1.017055  [19264/60000]\n",
      "loss: 1.098691  [25664/60000]\n",
      "loss: 1.042833  [32064/60000]\n",
      "loss: 1.049879  [38464/60000]\n",
      "loss: 0.962835  [44864/60000]\n",
      "loss: 0.987559  [51264/60000]\n",
      "loss: 1.033307  [57664/60000]\n",
      "Test Error: \n",
      " Accuracy: 66.5%, Avg loss: 0.970954 \n",
      "\n",
      "Epoch 7\n",
      "-------------------------------\n",
      "loss: 1.005484  [   64/60000]\n",
      "loss: 0.984405  [ 6464/60000]\n",
      "loss: 0.819818  [12864/60000]\n",
      "loss: 0.965625  [19264/60000]\n",
      "loss: 0.970520  [25664/60000]\n",
      "loss: 0.943521  [32064/60000]\n",
      "loss: 0.792229  [38464/60000]\n",
      "loss: 0.942656  [44864/60000]\n",
      "loss: 0.883440  [51264/60000]\n",
      "loss: 0.807054  [57664/60000]\n",
      "Test Error: \n",
      " Accuracy: 67.2%, Avg loss: 0.901147 \n",
      "\n",
      "Epoch 8\n",
      "-------------------------------\n",
      "loss: 0.979416  [   64/60000]\n",
      "loss: 0.765467  [ 6464/60000]\n",
      "loss: 0.865176  [12864/60000]\n",
      "loss: 0.820380  [19264/60000]\n",
      "loss: 0.789656  [25664/60000]\n",
      "loss: 0.782023  [32064/60000]\n",
      "loss: 0.782819  [38464/60000]\n",
      "loss: 0.829723  [44864/60000]\n",
      "loss: 0.844904  [51264/60000]\n",
      "loss: 0.760220  [57664/60000]\n",
      "Test Error: \n",
      " Accuracy: 69.0%, Avg loss: 0.847546 \n",
      "\n",
      "Epoch 9\n",
      "-------------------------------\n",
      "loss: 0.823194  [   64/60000]\n",
      "loss: 0.916273  [ 6464/60000]\n",
      "loss: 0.876109  [12864/60000]\n",
      "loss: 0.897440  [19264/60000]\n",
      "loss: 0.819639  [25664/60000]\n",
      "loss: 0.896094  [32064/60000]\n",
      "loss: 0.669304  [38464/60000]\n",
      "loss: 0.682867  [44864/60000]\n",
      "loss: 0.819542  [51264/60000]\n",
      "loss: 0.745928  [57664/60000]\n",
      "Test Error: \n",
      " Accuracy: 70.3%, Avg loss: 0.807677 \n",
      "\n",
      "Epoch 10\n",
      "-------------------------------\n",
      "loss: 0.863427  [   64/60000]\n",
      "loss: 0.630259  [ 6464/60000]\n",
      "loss: 0.779802  [12864/60000]\n",
      "loss: 0.804698  [19264/60000]\n",
      "loss: 0.941031  [25664/60000]\n",
      "loss: 0.767919  [32064/60000]\n",
      "loss: 0.668472  [38464/60000]\n",
      "loss: 0.695247  [44864/60000]\n",
      "loss: 0.652574  [51264/60000]\n",
      "loss: 0.674813  [57664/60000]\n",
      "Test Error: \n",
      " Accuracy: 71.7%, Avg loss: 0.777295 \n",
      "\n",
      "Done!\n"
     ]
    }
   ],
   "source": [
    "model = NeuralNetwork()\n",
    "learning_rate = 1e-3\n",
    "batch_size = 64\n",
    "\n",
    "loss_fn = nn.CrossEntropyLoss()\n",
    "optimizer = torch.optim.SGD(model.parameters(), lr=learning_rate)\n",
    "\n",
    "epochs = 10\n",
    "for t in range(epochs):\n",
    "    print(f\"Epoch {t+1}\\n-------------------------------\")\n",
    "    train_loop(train_dataloader, model, loss_fn, optimizer)\n",
    "    test_loop(test_dataloader, model, loss_fn)\n",
    "print(\"Done!\")"
   ]
  }
 ],
 "metadata": {
  "kernelspec": {
   "display_name": "Python 3 (ipykernel)",
   "language": "python",
   "name": "python3"
  },
  "language_info": {
   "codemirror_mode": {
    "name": "ipython",
    "version": 3
   },
   "file_extension": ".py",
   "mimetype": "text/x-python",
   "name": "python",
   "nbconvert_exporter": "python",
   "pygments_lexer": "ipython3",
   "version": "3.11.3"
  }
 },
 "nbformat": 4,
 "nbformat_minor": 5
}
