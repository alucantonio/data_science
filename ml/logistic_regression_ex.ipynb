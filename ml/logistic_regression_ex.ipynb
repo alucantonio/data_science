{
 "cells": [
  {
   "cell_type": "markdown",
   "id": "52c16ec9-834d-4803-b680-af1e17ccdf97",
   "metadata": {},
   "source": [
    "# Exercise - logistic regression"
   ]
  },
  {
   "cell_type": "code",
   "execution_count": 4,
   "id": "0f2623dd-e9de-425e-990d-78f343d1a5e4",
   "metadata": {},
   "outputs": [],
   "source": [
    "import numpy as np\n",
    "import matplotlib.pyplot as plt"
   ]
  },
  {
   "cell_type": "markdown",
   "id": "15e8718a-4fdc-40a1-ad1a-b194f80f13cb",
   "metadata": {},
   "source": [
    "## Sonar dataset"
   ]
  },
  {
   "cell_type": "markdown",
   "id": "24025203-47c6-4562-a7aa-56b564f33329",
   "metadata": {},
   "source": [
    "In this exercise, you will solve a binary classification problem solved using logistic regression. The dataset consists of 60 features corresponding to sonar measurements, with a binary label that indicates whether the sample is a rock (0) or a mine (1)."
   ]
  },
  {
   "cell_type": "code",
   "execution_count": 5,
   "id": "4f1dc6b4-102d-47f3-ba7f-e3fe78d9e72a",
   "metadata": {},
   "outputs": [],
   "source": [
    "def sigmoid(x):\n",
    "    return 1/(1 + np.exp(-x))"
   ]
  },
  {
   "cell_type": "code",
   "execution_count": 6,
   "id": "0fe4b9e6-ede5-46c1-9804-8697bd2eb864",
   "metadata": {},
   "outputs": [],
   "source": [
    "data = np.loadtxt(\"data/logistic_regression/sonar.csv\", delimiter = \",\")\n",
    "X = data[:, :-1]\n",
    "y = data[:, -1]"
   ]
  },
  {
   "cell_type": "code",
   "execution_count": 7,
   "id": "5e4bb20e-ab2f-4542-9a2a-8e50619785a9",
   "metadata": {},
   "outputs": [],
   "source": [
    "# shuffling of the dataset\n",
    "np.random.shuffle(data)\n",
    "num_features = X.shape[1]\n",
    "X_shuffled = data[:,:num_features]\n",
    "y_shuffled = data[:,num_features]"
   ]
  },
  {
   "cell_type": "markdown",
   "id": "8f992de6-8f21-4200-bbcb-6fac7a24704a",
   "metadata": {},
   "source": [
    "1. Standardize the shuffled dataset according to the mean and the standard deviation over the samples. Split the dataset into training (80%) and test (20%) sets."
   ]
  },
  {
   "cell_type": "code",
   "execution_count": null,
   "id": "11589a2e-75a0-4dfc-94f9-035f10d3797a",
   "metadata": {},
   "outputs": [],
   "source": []
  },
  {
   "cell_type": "markdown",
   "id": "f8bf1ae9-56cc-4cde-a021-a9d2d3551e77",
   "metadata": {},
   "source": [
    "2. Use the _LogisticRegression_ class from the example (toy dataset) to build and train a model with _linear decision boundary_. Adjust the number of epochs and learning rate. Plot the cost vs epochs."
   ]
  },
  {
   "cell_type": "code",
   "execution_count": null,
   "id": "d7fec7be-785c-4740-a9d0-a3e67488d085",
   "metadata": {},
   "outputs": [],
   "source": []
  },
  {
   "cell_type": "markdown",
   "id": "c48d1f32-75eb-4732-95b4-b21dcf6f2849",
   "metadata": {},
   "source": [
    "3. Evaluate the misclassifications (number of wrong classifications) over the training and the test sets. Compute the accuracy (number of correct classifications/number of samples) over the training and the test sets."
   ]
  },
  {
   "cell_type": "code",
   "execution_count": null,
   "id": "96cbb362-c53a-4c4b-9616-caadd0d896b3",
   "metadata": {},
   "outputs": [],
   "source": []
  }
 ],
 "metadata": {
  "kernelspec": {
   "display_name": "Python 3 (ipykernel)",
   "language": "python",
   "name": "python3"
  },
  "language_info": {
   "codemirror_mode": {
    "name": "ipython",
    "version": 3
   },
   "file_extension": ".py",
   "mimetype": "text/x-python",
   "name": "python",
   "nbconvert_exporter": "python",
   "pygments_lexer": "ipython3",
   "version": "3.12.5"
  }
 },
 "nbformat": 4,
 "nbformat_minor": 5
}
