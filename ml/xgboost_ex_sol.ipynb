{
 "cells": [
  {
   "cell_type": "markdown",
   "metadata": {},
   "source": [
    "# Exercise - XGBoost"
   ]
  },
  {
   "cell_type": "markdown",
   "metadata": {},
   "source": [
    "In this exercise, you will build different models to predict the compressive strength of\n",
    "concrete from different features (including the composition). The conventional process of testing the compressive strength of concrete involves casting several cubes with different compositions and observing the strength of the concrete over a period of time."
   ]
  },
  {
   "cell_type": "code",
   "execution_count": 1,
   "metadata": {},
   "outputs": [],
   "source": [
    "import pandas as pd"
   ]
  },
  {
   "cell_type": "code",
   "execution_count": 2,
   "metadata": {},
   "outputs": [],
   "source": [
    "data = pd.read_csv(\"data/ccs.csv\")"
   ]
  },
  {
   "cell_type": "code",
   "execution_count": null,
   "metadata": {},
   "outputs": [],
   "source": [
    "data.head()"
   ]
  },
  {
   "cell_type": "code",
   "execution_count": null,
   "metadata": {},
   "outputs": [],
   "source": [
    "data.info()"
   ]
  },
  {
   "cell_type": "code",
   "execution_count": null,
   "metadata": {},
   "outputs": [],
   "source": [
    "data.shape"
   ]
  },
  {
   "cell_type": "code",
   "execution_count": null,
   "metadata": {},
   "outputs": [],
   "source": [
    "data.describe()"
   ]
  },
  {
   "cell_type": "code",
   "execution_count": 7,
   "metadata": {},
   "outputs": [],
   "source": [
    "X=data.iloc[:,:-1].to_numpy()\n",
    "Y=data.iloc[:,-1].to_numpy()"
   ]
  },
  {
   "cell_type": "markdown",
   "metadata": {},
   "source": [
    "1. Split the dataset into training (80%) and test (20%) and standardize the datasets, using `scikit-learn` functions\n",
    "   (`train_test_split` and [`StandardScaler`](https://scikit-learn.org/stable/modules/preprocessing.html)). Remember: stardardize the test set using\n",
    "   the mean and variance of the training set (see also Section 10.2.1 [here](https://scikit-learn.org/stable/common_pitfalls.html))."
   ]
  },
  {
   "cell_type": "code",
   "execution_count": 8,
   "metadata": {},
   "outputs": [],
   "source": [
    "from sklearn.linear_model import LinearRegression\n",
    "from sklearn.model_selection import train_test_split\n",
    "from sklearn.preprocessing import StandardScaler\n",
    "from sklearn.metrics import r2_score"
   ]
  },
  {
   "cell_type": "code",
   "execution_count": 9,
   "metadata": {},
   "outputs": [],
   "source": [
    "# shuffling and splitting\n",
    "X_train, X_test, y_train, y_test = train_test_split(X, Y, random_state=42, test_size=0.2)\n",
    "\n",
    "scX = StandardScaler()\n",
    "scY = StandardScaler()\n",
    "\n",
    "# standardize the training set\n",
    "X_train_scaled = scX.fit_transform(X_train) \n",
    "y_train_scaled = scY.fit_transform(y_train.reshape(-1,1))\n",
    "\n",
    "# transform uses the mean and variance of the training set to standardize the test set\n",
    "X_test_scaled = scX.transform(X_test) \n",
    "y_test_scaled = scY.transform(y_test.reshape(-1,1))"
   ]
  },
  {
   "cell_type": "markdown",
   "metadata": {},
   "source": [
    "2. Fit a linear model using [`LinearRegression`](https://scikit-learn.org/stable/modules/linear_model.html) from `scikit-learn`. Evaluate the R2 scores on the training and test sets."
   ]
  },
  {
   "cell_type": "code",
   "execution_count": null,
   "metadata": {},
   "outputs": [],
   "source": [
    "lr=LinearRegression()\n",
    "lr.fit(X_train_scaled, y_train_scaled)\n",
    "y_pred_lrtr=lr.predict(X_train_scaled)\n",
    "y_pred_lrte=lr.predict(X_test_scaled)\n",
    "print('Train R2 score: ',r2_score(y_train_scaled,y_pred_lrtr))\n",
    "print('Test R2 score: ',r2_score(y_test_scaled,y_pred_lrte))"
   ]
  },
  {
   "cell_type": "markdown",
   "metadata": {},
   "source": [
    "3. Fit a quadratic model by building polynomial features using [`PolynomialFeatures`](https://scikit-learn.org/stable/modules/linear_model.html#polynomial-regression-extending-linear-models-with-basis-functions)\n",
    "   from `scikit-learn`. Evaluate the R2 scores on the training and test sets. Increase\n",
    "   the degree of the polynomial up to 4 and observe the changes in the R2 scores."
   ]
  },
  {
   "cell_type": "code",
   "execution_count": null,
   "metadata": {},
   "outputs": [],
   "source": [
    "from sklearn.preprocessing import PolynomialFeatures\n",
    "\n",
    "pf = PolynomialFeatures(degree = 2)\n",
    "X_poly_train = pf.fit_transform(X_train)\n",
    "X_poly_train_scaled = scX.fit_transform(X_poly_train)\n",
    "lr.fit(X_poly_train_scaled, y_train_scaled)\n",
    "print(\"Training R2 score: \", lr.score(X_poly_train_scaled, y_train_scaled))\n",
    "X_poly_test = pf.fit_transform(X_test)\n",
    "X_poly_test_scaled = scX.transform(X_poly_test)\n",
    "print(\"Test R2 score: \", lr.score(X_poly_test_scaled, y_test_scaled))"
   ]
  },
  {
   "cell_type": "markdown",
   "metadata": {},
   "source": [
    "## XGBoost regressor"
   ]
  },
  {
   "cell_type": "markdown",
   "metadata": {},
   "source": [
    "4. Build a\n",
    "   [`XGBRegressor`](https://xgboost.readthedocs.io/en/stable/python/python_api.html#module-xgboost.sklearn)\n",
    "   object from the `xgboost` library (you may need to install it via `pip`). Train the\n",
    "   model using the `fit` method and evaluate the R2 scores on the training and test sets."
   ]
  },
  {
   "cell_type": "code",
   "execution_count": null,
   "metadata": {},
   "outputs": [],
   "source": [
    "from xgboost import XGBRegressor\n",
    "\n",
    "xgb = XGBRegressor()\n",
    "xgb.fit(X_train_scaled, y_train_scaled)\n",
    "print('Train R2 score: ', xgb.score(X_train_scaled, y_train_scaled))\n",
    "print('Test R2 score: ', xgb.score(X_test_scaled, y_test_scaled))"
   ]
  },
  {
   "cell_type": "markdown",
   "metadata": {},
   "source": [
    "5. Use the `GridSearchCV` function from `scikit-learn` to carry out a grid search on the\n",
    "   following hyperparameters. Study more about the grid search implemented in\n",
    "   `scikit-learn`\n",
    "   [here](https://scikit-learn.org/stable/modules/grid_search.html#grid-search). Evaluate\n",
    "   the R2 scores on the training and test sets."
   ]
  },
  {
   "cell_type": "code",
   "execution_count": 13,
   "metadata": {},
   "outputs": [],
   "source": [
    "from sklearn.model_selection import GridSearchCV\n",
    "\n",
    "param_grid = {\n",
    "        'n_estimators': [50, 100, 500],\n",
    "        'max_depth': [2, 4, 6, 8, 10],\n",
    "        'gamma': [0.001, 0.01],\n",
    "        'learning_rate': [0.01, 0.1, 0.3],\n",
    "    }"
   ]
  },
  {
   "cell_type": "code",
   "execution_count": null,
   "metadata": {},
   "outputs": [],
   "source": [
    "grid_search_model = GridSearchCV(xgb, param_grid=param_grid)\n",
    "\n",
    "grid_search_model.fit(X_train_scaled, y_train_scaled)\n",
    "\n",
    "print(f'Best hyperparameters: {grid_search_model.best_params_}')"
   ]
  },
  {
   "cell_type": "code",
   "execution_count": null,
   "metadata": {},
   "outputs": [],
   "source": [
    "print(f'Train R2 score: {grid_search_model.score(X_train_scaled, y_train_scaled)}')\n",
    "print(f'Test R2 score: {grid_search_model.score(X_test_scaled, y_test_scaled)}')"
   ]
  }
 ],
 "metadata": {
  "kernelspec": {
   "display_name": "datascience",
   "language": "python",
   "name": "python3"
  },
  "language_info": {
   "codemirror_mode": {
    "name": "ipython",
    "version": 3
   },
   "file_extension": ".py",
   "mimetype": "text/x-python",
   "name": "python",
   "nbconvert_exporter": "python",
   "pygments_lexer": "ipython3",
   "version": "3.12.5"
  }
 },
 "nbformat": 4,
 "nbformat_minor": 2
}
