{
 "cells": [
  {
   "cell_type": "markdown",
   "id": "52c16ec9-834d-4803-b680-af1e17ccdf97",
   "metadata": {},
   "source": [
    "# Exercise - logistic regression"
   ]
  },
  {
   "cell_type": "code",
   "execution_count": 46,
   "id": "f1a9a550-7449-42e2-8274-a55ecf53fdac",
   "metadata": {},
   "outputs": [],
   "source": [
    "import numpy as np\n",
    "import matplotlib.pyplot as plt"
   ]
  },
  {
   "cell_type": "markdown",
   "id": "15e8718a-4fdc-40a1-ad1a-b194f80f13cb",
   "metadata": {},
   "source": [
    "## Sonar dataset"
   ]
  },
  {
   "cell_type": "markdown",
   "id": "24025203-47c6-4562-a7aa-56b564f33329",
   "metadata": {},
   "source": [
    "In this exercise, you will solve a binary classification problem solved using logistic regression. The dataset consists of 60 features corresponding to sonar measurements, with a binary label that indicates whether the sample is a rock (0) or a mine (1)."
   ]
  },
  {
   "cell_type": "code",
   "execution_count": 47,
   "id": "4f1dc6b4-102d-47f3-ba7f-e3fe78d9e72a",
   "metadata": {},
   "outputs": [],
   "source": [
    "def sigmoid(x):\n",
    "    return 1/(1 + np.exp(-x))"
   ]
  },
  {
   "cell_type": "code",
   "execution_count": 48,
   "id": "0fe4b9e6-ede5-46c1-9804-8697bd2eb864",
   "metadata": {},
   "outputs": [
    {
     "data": {
      "text/plain": [
       "208"
      ]
     },
     "execution_count": 48,
     "metadata": {},
     "output_type": "execute_result"
    }
   ],
   "source": [
    "data = np.loadtxt(\"data/logistic_regression/sonar.csv\", delimiter = \",\")\n",
    "X = data[:, :-1]\n",
    "y = data[:, -1]\n",
    "len(X)"
   ]
  },
  {
   "cell_type": "code",
   "execution_count": 49,
   "id": "5e4bb20e-ab2f-4542-9a2a-8e50619785a9",
   "metadata": {},
   "outputs": [],
   "source": [
    "# shuffling of the dataset\n",
    "np.random.shuffle(data)\n",
    "num_features = X.shape[1]\n",
    "X_shuffled = data[:,:num_features]\n",
    "y_shuffled = data[:,num_features]"
   ]
  },
  {
   "cell_type": "markdown",
   "id": "8f992de6-8f21-4200-bbcb-6fac7a24704a",
   "metadata": {},
   "source": [
    "1. Standardize the shuffled dataset according to the mean and the standard deviation over the samples. Split the dataset into training (80%) and test (20%) sets."
   ]
  },
  {
   "cell_type": "code",
   "execution_count": 50,
   "id": "11589a2e-75a0-4dfc-94f9-035f10d3797a",
   "metadata": {},
   "outputs": [],
   "source": [
    "# standardization of the dataset\n",
    "mean_X = np.mean(X_shuffled, axis=0)\n",
    "std_X = np.std(X_shuffled, axis=0)\n",
    "X_norm = (X_shuffled-mean_X)/std_X"
   ]
  },
  {
   "cell_type": "code",
   "execution_count": 51,
   "id": "0e3b28a1-2cbd-48e9-926f-dd8bc60590d4",
   "metadata": {},
   "outputs": [],
   "source": [
    "n_samples_train = int(0.8*len(X))\n",
    "\n",
    "# train-test split\n",
    "X_train=X_norm[:n_samples_train]\n",
    "X_test=X_norm[n_samples_train:]\n",
    "\n",
    "# adding column of ones\n",
    "X_train = np.hstack((np.ones((X_train.shape[0],1)), X_train))\n",
    "X_test = np.hstack((np.ones((X_test.shape[0],1)), X_test))\n",
    "\n",
    "y_train=y_shuffled[:n_samples_train].reshape(-1,1)\n",
    "y_test=y_shuffled[n_samples_train:].reshape(-1,1)"
   ]
  },
  {
   "cell_type": "markdown",
   "id": "f8bf1ae9-56cc-4cde-a021-a9d2d3551e77",
   "metadata": {},
   "source": [
    "2. Use the _LogisticRegression_ class from the example (toy dataset) to build and train a model. Adjust the number of epochs and learning rate. Plot the cost vs epochs."
   ]
  },
  {
   "cell_type": "code",
   "execution_count": 58,
   "id": "d7fec7be-785c-4740-a9d0-a3e67488d085",
   "metadata": {},
   "outputs": [],
   "source": [
    "eps = 1e-13\n",
    "\n",
    "class LogisticRegression:\n",
    "    def __init__ (self, num_features):\n",
    "        self.weights = np.random.random_sample((num_features + 1,1))\n",
    "        \n",
    "    def fit(self, X, y, epochs, learning_rate):\n",
    "        self.losses=[]\n",
    "\n",
    "        N = X.shape[0]\n",
    "                \n",
    "        for i in range(epochs):\n",
    "            # compute sigma(Xw)\n",
    "            outputs = self.activation(X)\n",
    "            residuals = outputs-y\n",
    "            # update weights\n",
    "            self.weights -= learning_rate/N*X.T @ residuals\n",
    "            # compute the cost\n",
    "            loss = (-y.T @ np.log(outputs + eps)-(1 - y.T) @ np.log(1 - outputs + eps))/N\n",
    "            self.losses.append(loss.item())\n",
    "        \n",
    "    def activation(self, X):\n",
    "        return sigmoid(X @ self.weights)   \n",
    "        \n",
    "    def predict(self, X):        \n",
    "        return np.where(self.activation(X)>=0.5,1,0)"
   ]
  },
  {
   "cell_type": "code",
   "execution_count": 77,
   "id": "28253b50-59ca-40d9-8289-2ac833d3cd77",
   "metadata": {},
   "outputs": [],
   "source": [
    "lr=LogisticRegression(num_features=num_features)\n",
    "lr.fit(X=X_train, y=y_train, epochs=10000, learning_rate=0.1)"
   ]
  },
  {
   "cell_type": "code",
   "execution_count": 78,
   "id": "1d0c13a5-eb7c-4503-b3fb-07c642583df2",
   "metadata": {},
   "outputs": [
    {
     "data": {
      "image/png": "[encoded data removed]",
      "text/plain": [
       "<Figure size 640x480 with 1 Axes>"
      ]
     },
     "metadata": {},
     "output_type": "display_data"
    }
   ],
   "source": [
    "# Ploting cost value vs number of iterations\n",
    "plt.plot(np.arange(1,len(lr.losses)+1,1),lr.losses)\n",
    "plt.show()"
   ]
  },
  {
   "cell_type": "markdown",
   "id": "c48d1f32-75eb-4732-95b4-b21dcf6f2849",
   "metadata": {},
   "source": [
    "3. Evaluate the misclassifications (number of wrong classifications) over the training and the test sets. Compute the accuracy (number of correct classifications/number of samples) over the training and the test sets."
   ]
  },
  {
   "cell_type": "code",
   "execution_count": 79,
   "id": "96cbb362-c53a-4c4b-9616-caadd0d896b3",
   "metadata": {},
   "outputs": [
    {
     "name": "stdout",
     "output_type": "stream",
     "text": [
      "Misclassifications Training: 0\n",
      "Misclassifications Test: 12\n",
      "Accuracy Training: 1.0\n",
      "Accuracy Test: 0.7142857142857143\n"
     ]
    }
   ],
   "source": [
    "train_prediction = lr.predict(X_train)\n",
    "test_prediction=lr.predict(X_test)\n",
    "missclassification_train = (y_train!=train_prediction).sum()\n",
    "missclassification_test = (y_test!=test_prediction).sum()\n",
    "print('Misclassifications Training:', missclassification_train)\n",
    "print('Misclassifications Test:',missclassification_test)\n",
    "print('Accuracy Training:', 1 - missclassification_train/X_train.shape[0])\n",
    "print('Accuracy Test:', 1 - missclassification_test/X_test.shape[0])"
   ]
  }
 ],
 "metadata": {
  "kernelspec": {
   "display_name": "Python 3 (ipykernel)",
   "language": "python",
   "name": "python3"
  },
  "language_info": {
   "codemirror_mode": {
    "name": "ipython",
    "version": 3
   },
   "file_extension": ".py",
   "mimetype": "text/x-python",
   "name": "python",
   "nbconvert_exporter": "python",
   "pygments_lexer": "ipython3",
   "version": "3.12.5"
  }
 },
 "nbformat": 4,
 "nbformat_minor": 5
}
