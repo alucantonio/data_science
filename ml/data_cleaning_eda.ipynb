{
 "cells": [
  {
   "cell_type": "markdown",
   "metadata": {
    "_cell_guid": "7fc6d89d-18bf-06ba-dd5f-8b1e1121d8d7"
   },
   "source": [
    "# Data cleaning and Exploratory Data Analysis (EDA)"
   ]
  },
  {
   "cell_type": "markdown",
   "metadata": {},
   "source": [
    "In this notebook, we perform some dataset cleaning and an exploratory data analysis\n",
    "(EDA)."
   ]
  },
  {
   "cell_type": "code",
   "execution_count": null,
   "metadata": {
    "_cell_guid": "0fa020c4-a7df-64a7-2d8e-4e1081657ba6"
   },
   "outputs": [],
   "source": [
    "import pandas as pd\n",
    "import seaborn as sns\n",
    "import matplotlib.pyplot as plt\n",
    "\n",
    "plt.style.use('bmh')"
   ]
  },
  {
   "cell_type": "code",
   "execution_count": null,
   "metadata": {
    "_cell_guid": "70822305-7ac8-b538-f650-15b95dec7366"
   },
   "outputs": [],
   "source": [
    "df = pd.read_csv('data/eda/house_prices.csv')\n",
    "df.head()"
   ]
  },
  {
   "cell_type": "code",
   "execution_count": null,
   "metadata": {
    "_cell_guid": "6cb8d195-6e2e-8473-71b9-67f792023e1f"
   },
   "outputs": [],
   "source": [
    "df.info()"
   ]
  },
  {
   "cell_type": "markdown",
   "metadata": {
    "_cell_guid": "65b988bb-dfaa-9fbf-d4ba-3f270deda844"
   },
   "source": [
    "Before performing the EDA, let us remove the features with too many missing values (such\n",
    "as `Alley` and `PoolQC`), plus `Id` (which does not really give any insight) and the\n",
    "features with max 30% of `NaN` values.\n",
    "\n",
    "See also [here](https://www.kaggle.com/code/rsiva1104/data-cleaning) for other dataset\n",
    "cleaning techniques (such as _imputation_)."
   ]
  },
  {
   "cell_type": "code",
   "execution_count": null,
   "metadata": {
    "_cell_guid": "b89d6784-4abe-774d-f4a0-b6bbbba64e21"
   },
   "outputs": [],
   "source": [
    "# df.count() does not include NaN values\n",
    "df2 = df[[column for column in df if df[column].count() / len(df) >= 0.3]]\n",
    "del df2['Id']\n",
    "print(\"List of dropped columns:\")\n",
    "for c in df.columns:\n",
    "    if c not in df2.columns:\n",
    "        print(c)\n",
    "print('\\n')\n",
    "df = df2"
   ]
  },
  {
   "cell_type": "markdown",
   "metadata": {},
   "source": [
    "The dropped features have `NaN` values as most of the houses do not possess them. Now, let's take a look at how the house prices are distributed:"
   ]
  },
  {
   "cell_type": "code",
   "execution_count": null,
   "metadata": {
    "_cell_guid": "9288917d-cae2-86d0-18a0-0987fb9a8b10"
   },
   "outputs": [],
   "source": [
    "print(df['SalePrice'].describe())\n",
    "plt.figure(figsize=(9, 8))\n",
    "sns.histplot(df['SalePrice'], color='g', bins=100, kde=True, alpha=0.4)"
   ]
  },
  {
   "cell_type": "markdown",
   "metadata": {
    "_cell_guid": "ece4006e-64f6-e8f5-a599-63198679e27f"
   },
   "source": [
    "From this plot, we can see that the prices are skewed right and some outliers lie above ~500,000. We will eventually want to get rid of them to get a normal distribution of the variable `SalePrice`."
   ]
  },
  {
   "cell_type": "markdown",
   "metadata": {
    "_cell_guid": "83e583ac-1877-eb53-0e07-5eb1a965b183"
   },
   "source": [
    "## Numerical data distribution"
   ]
  },
  {
   "cell_type": "markdown",
   "metadata": {
    "_cell_guid": "86fb271a-7b00-f4b5-9a6c-693751a61a1b"
   },
   "source": [
    "In this section, we look at the distribution of the _numerical_ features."
   ]
  },
  {
   "cell_type": "code",
   "execution_count": null,
   "metadata": {
    "_cell_guid": "c910aa1d-5cfc-ab87-edf1-f0184d5dce28"
   },
   "outputs": [],
   "source": [
    "# list all the data types in the dataset\n",
    "list(set(df.dtypes.tolist()))"
   ]
  },
  {
   "cell_type": "code",
   "execution_count": null,
   "metadata": {
    "_cell_guid": "490c9cbc-24c3-9ccc-f650-7dc1036be837"
   },
   "outputs": [],
   "source": [
    "# only select numerical features\n",
    "df_num = df.select_dtypes(include = ['float64', 'int64'])\n",
    "df_num.head()"
   ]
  },
  {
   "cell_type": "code",
   "execution_count": null,
   "metadata": {
    "_cell_guid": "bc7e47dc-f37f-5d5d-e65c-958ff50e8e35"
   },
   "outputs": [],
   "source": [
    "df_num.hist(figsize=(16, 20), bins=50, xlabelsize=8, ylabelsize=8); # ; avoid having the matplotlib verbose informations"
   ]
  },
  {
   "cell_type": "markdown",
   "metadata": {
    "_cell_guid": "85abc244-1c9f-00ec-771d-8ea876514bd0"
   },
   "source": [
    "Features such as `1stFlrSF`, `TotalBsmtSF`, `LotFrontage`, `GrLiveArea`... seem to share\n",
    "a similar distribution to that of `SalePrice`. "
   ]
  },
  {
   "cell_type": "markdown",
   "metadata": {
    "_cell_guid": "ba5574c9-07ab-8cf1-6e3c-6ac42716bcb9"
   },
   "source": [
    "## Feature relationships with `SalePrice`"
   ]
  },
  {
   "cell_type": "markdown",
   "metadata": {
    "_cell_guid": "2f94a98f-9d81-4908-97d2-d504ddc6b665"
   },
   "source": [
    "We can get further insight by trying to find which features are strongly correlated with `SalePrice`. "
   ]
  },
  {
   "cell_type": "code",
   "execution_count": null,
   "metadata": {
    "_cell_guid": "12874dd5-63b6-8e28-c1b6-7bc3266852d2"
   },
   "outputs": [],
   "source": [
    "# exclude last column, because it is SalePrice, not a feature\n",
    "df_num_corr = df_num.corr()['SalePrice'][:-1]\n",
    "golden_features_list = df_num_corr[abs(df_num_corr) > 0.5].sort_values(ascending=False)\n",
    "print(\"There are {} strongly correlated features with SalePrice:\\n{}\".format(len(golden_features_list), golden_features_list))"
   ]
  },
  {
   "cell_type": "markdown",
   "metadata": {
    "_cell_guid": "10869d93-474e-a621-6ff6-48b123f31199"
   },
   "source": [
    "This list is incomplete as we know that correlation is affected by outliers. So we could proceed as follow:\n",
    "\n",
    "- Plot the numerical features and see which ones have very few or explainable outliers\n",
    "- Remove the outliers from these features and see which one can have a good correlation without their outliers\n",
    "    \n",
    "Notice that, correlation by itself does not completely explain relationships within the\n",
    "data. For example, non-linear relationships cannot be identified by looking at the\n",
    "correlation value, so we should take the features we excluded from the `golden_features_list` and\n",
    "plot them to see if they show some kind of patten. "
   ]
  },
  {
   "cell_type": "code",
   "execution_count": null,
   "metadata": {
    "_cell_guid": "67f05894-8838-fb45-4212-5c35c6b0eea2"
   },
   "outputs": [],
   "source": [
    "for i in range(0, len(df_num.columns), 5):\n",
    "    sns.pairplot(data=df_num,\n",
    "                x_vars=df_num.columns[i:i+5],\n",
    "                y_vars=['SalePrice'])"
   ]
  },
  {
   "cell_type": "markdown",
   "metadata": {
    "_cell_guid": "e0d7e88f-fa26-4e56-157d-148efe35d233"
   },
   "source": [
    "We can clearly identify some approximately linear relationships with the `SalePrice`. By\n",
    "looking closely, can see that many features have zero values that may indicate the absence\n",
    "of such feature in the house. Let us remove these 0 values and repeat the process.\n",
    "\n",
    "Some plots, such as `GarageCars` -> `SalePrice` or `Fireplaces` -> `SalePrice`, show a\n",
    "particular pattern with verticals lines roughly meaning that they are discrete variables\n",
    "with a limited range.\n",
    "\n",
    "We cannot see any notable pattern involving the features that are\n",
    "not highly correlated with `SalePrice`."
   ]
  },
  {
   "cell_type": "code",
   "execution_count": null,
   "metadata": {
    "_cell_guid": "8ca0d106-0af5-da26-f68a-7736cb3a645b"
   },
   "outputs": [],
   "source": [
    "import operator\n",
    "\n",
    "individual_features_df = []\n",
    "for i in range(0, len(df_num.columns) - 1): # -1 because the last column is SalePrice\n",
    "    tmpDf = df_num[[df_num.columns[i], 'SalePrice']]\n",
    "    tmpDf = tmpDf[tmpDf[df_num.columns[i]] != 0]\n",
    "    individual_features_df.append(tmpDf)\n",
    "\n",
    "all_correlations = {feature.columns[0]: feature.corr()['SalePrice'][0] for feature in individual_features_df}\n",
    "all_correlations = sorted(all_correlations.items(), key=operator.itemgetter(1))"
   ]
  },
  {
   "cell_type": "markdown",
   "metadata": {
    "_cell_guid": "3efe03ca-cc7c-fcec-6044-488526c32d2a"
   },
   "source": [
    "By cleaning the dataset we found another strongly correlated feature:"
   ]
  },
  {
   "cell_type": "code",
   "execution_count": null,
   "metadata": {
    "_cell_guid": "39120ac4-fa95-95f0-c940-46ebf12b7c68"
   },
   "outputs": [],
   "source": [
    "golden_features_list = [key for key, value in all_correlations if abs(value) >= 0.5]\n",
    "print(\"There is {} strongly correlated values with SalePrice:\\n{}\".format(len(golden_features_list), golden_features_list))"
   ]
  },
  {
   "cell_type": "markdown",
   "metadata": {
    "_cell_guid": "394c231a-cf71-ada2-70be-bee2964d35b1"
   },
   "source": [
    "## Feature to feature relationships"
   ]
  },
  {
   "cell_type": "code",
   "execution_count": null,
   "metadata": {
    "_cell_guid": "b968863f-a353-663e-228e-cb6983ad0816"
   },
   "outputs": [],
   "source": [
    "corr = df_num.drop('SalePrice', axis=1).corr() # We already examined SalePrice correlations\n",
    "plt.figure(figsize=(12, 10))\n",
    "\n",
    "sns.heatmap(corr[(corr >= 0.5) | (corr <= -0.4)], \n",
    "            cmap='viridis', vmax=1.0, vmin=-1.0, linewidths=0.1,\n",
    "            annot=True, annot_kws={\"size\": 8}, square=True);"
   ]
  },
  {
   "cell_type": "markdown",
   "metadata": {
    "_cell_guid": "ecc3400d-1a3a-eac8-d250-428763142b4d"
   },
   "source": [
    "Many features seem to be correlated with each other, but some of them such as\n",
    "`YearBuild`/`GarageYrBlt` may just indicate a price inflation over the years. As for\n",
    "`1stFlrSF`/`TotalBsmtSF`, it is normal that the larger is the 1st floor (considering many houses\n",
    "have only 1 floor), the larger is the basement.\n",
    "\n",
    "Now, for the ones which are less obvious we can see that:\n",
    "- There is a strong negative correlation between `BsmtUnfSF` (Unfinished square feet of basement area) and `BsmtFinSF2` (Type 2 finished square feet). There is a definition of unfinished square feet [here](http://www.homeadvisor.com/r/calculating-square-footage/) but as for a house of \"Type 2\", I can't tell what it really is.\n",
    "- `HalfBath`/`2ndFlrSF` is interesting and may indicate that people gives an importance\n",
    "  of not having to rush downstairs in case of urgently having to go to the bathroom.\n",
    "\n",
    "When building a ML model, correlated features may be combined or selected in order to reduce the number of features."
   ]
  },
  {
   "cell_type": "markdown",
   "metadata": {},
   "source": [
    "## Categorical features"
   ]
  },
  {
   "cell_type": "markdown",
   "metadata": {
    "_cell_guid": "5aa17baa-e6b6-3f4f-1cb7-dbc6c001acc5"
   },
   "source": [
    "Some of the features of our dataset are categorical. To separate the categorical from quantitative features lets refer ourselves to the `data_description.txt` file. According to this file we end up with the folowing columns:"
   ]
  },
  {
   "cell_type": "code",
   "execution_count": null,
   "metadata": {
    "_cell_guid": "615d1522-d6e3-2298-619f-9d30fb812866"
   },
   "outputs": [],
   "source": [
    "quantitative_features_list = ['LotFrontage', 'LotArea', 'MasVnrArea', 'BsmtFinSF1', 'BsmtFinSF2', 'TotalBsmtSF', '1stFlrSF',\n",
    "    '2ndFlrSF', 'LowQualFinSF', 'GrLivArea', 'BsmtFullBath', 'BsmtHalfBath', 'FullBath', 'HalfBath',\n",
    "    'BedroomAbvGr', 'KitchenAbvGr', 'TotRmsAbvGrd', 'Fireplaces', 'GarageCars', 'GarageArea', 'WoodDeckSF', 'OpenPorchSF', \n",
    "    'EnclosedPorch', '3SsnPorch', 'ScreenPorch', 'PoolArea', 'MiscVal', 'SalePrice']\n",
    "df_quantitative_values = df[quantitative_features_list]\n",
    "df_quantitative_values.head()"
   ]
  },
  {
   "cell_type": "code",
   "execution_count": null,
   "metadata": {
    "_cell_guid": "df0eccd8-1227-6ca5-3458-b6ac9b02e337"
   },
   "outputs": [],
   "source": [
    "# quantitative_features_list[:-1] as the last column is SalePrice and we want to keep it\n",
    "categorical_features = [a for a in quantitative_features_list[:-1] + df.columns.tolist() if (a not in quantitative_features_list[:-1]) or (a not in df.columns.tolist())]\n",
    "df_categ = df[categorical_features]\n",
    "df_categ.head()"
   ]
  },
  {
   "cell_type": "code",
   "execution_count": null,
   "metadata": {
    "_cell_guid": "8fd34460-1a38-c1c1-a374-e3dbd401cf08"
   },
   "outputs": [],
   "source": [
    "df_not_num = df_categ.select_dtypes(include = ['O'])\n",
    "print('There is {} non numerical features including:\\n{}'.format(len(df_not_num.columns), df_not_num.columns.tolist()))"
   ]
  },
  {
   "cell_type": "code",
   "execution_count": null,
   "metadata": {
    "_cell_guid": "a1feceb8-1f77-7ba8-a2bc-1dd5a04c7dd5"
   },
   "outputs": [],
   "source": [
    "plt.figure(figsize = (10, 6))\n",
    "ax = sns.boxplot(x='BsmtExposure', y='SalePrice', data=df_categ)\n",
    "plt.setp(ax.artists, alpha=.5, linewidth=2, edgecolor=\"k\")\n",
    "plt.xticks(rotation=45)\n",
    "plt.show()"
   ]
  },
  {
   "cell_type": "code",
   "execution_count": null,
   "metadata": {
    "_cell_guid": "249bdbcd-7bba-7c5e-abf4-e3ca50ea1684"
   },
   "outputs": [],
   "source": [
    "plt.figure(figsize = (12, 6))\n",
    "ax = sns.boxplot(x='SaleCondition', y='SalePrice', data=df_categ)\n",
    "plt.setp(ax.artists, alpha=.5, linewidth=2, edgecolor=\"k\")\n",
    "plt.xticks(rotation=45)\n",
    "plt.show()"
   ]
  },
  {
   "cell_type": "markdown",
   "metadata": {
    "_cell_guid": "9c365d5e-6482-8335-621c-bc2ca5fb028f"
   },
   "source": [
    "And finally lets look at their distribution"
   ]
  },
  {
   "cell_type": "code",
   "execution_count": null,
   "metadata": {},
   "outputs": [],
   "source": [
    "print(df_not_num.columns)"
   ]
  },
  {
   "cell_type": "code",
   "execution_count": null,
   "metadata": {},
   "outputs": [],
   "source": [
    "import math\n",
    "fig, axes = plt.subplots(math.ceil(len(df_not_num.columns) / 3), 3, figsize=(12, 30))\n",
    "\n",
    "for i, ax in enumerate(axes.flat):  # Iterate over each subplot\n",
    "    if i < len(df_not_num.columns):\n",
    "        # Plot with Seaborn and set rotation for x-axis labels\n",
    "        sns.countplot(x=df_not_num.columns[i], alpha=0.7, data=df_not_num, ax=ax)\n",
    "        \n",
    "        # Rotate x-axis tick labels after ensuring the ticks have been set by countplot\n",
    "        ax.tick_params(axis='x', rotation=45)\n",
    "\n",
    "fig.tight_layout()\n",
    "plt.show()"
   ]
  },
  {
   "cell_type": "markdown",
   "metadata": {
    "_cell_guid": "dc445587-8f9e-1901-3817-f83077286e4d"
   },
   "source": [
    "We can see that some categories are predominant for some features such as `Utilities`, `Heating`, `GarageCond`, `Functional`. These features may not be relevant for our predictive model."
   ]
  },
  {
   "cell_type": "code",
   "execution_count": null,
   "metadata": {},
   "outputs": [],
   "source": []
  }
 ],
 "metadata": {
  "_change_revision": 2,
  "_is_fork": false,
  "kernelspec": {
   "display_name": "datascience",
   "language": "python",
   "name": "python3"
  },
  "language_info": {
   "codemirror_mode": {
    "name": "ipython",
    "version": 3
   },
   "file_extension": ".py",
   "mimetype": "text/x-python",
   "name": "python",
   "nbconvert_exporter": "python",
   "pygments_lexer": "ipython3",
   "version": "3.12.5"
  }
 },
 "nbformat": 4,
 "nbformat_minor": 0
}
