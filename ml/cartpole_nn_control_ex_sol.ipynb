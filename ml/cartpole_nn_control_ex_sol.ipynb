{
 "cells": [
  {
   "cell_type": "markdown",
   "id": "e38c49db-2b43-4e1c-8fd6-7c58151486b1",
   "metadata": {},
   "source": [
    "# Exercise - controlling a cart-pole system with a neural network"
   ]
  },
  {
   "cell_type": "code",
   "execution_count": 1,
   "id": "180b9f7c-9f8f-4231-8ba8-d6d0d67454a1",
   "metadata": {},
   "outputs": [],
   "source": [
    "import gymnasium as gym\n",
    "import matplotlib.pyplot as plt\n",
    "from torch import nn, tensor\n",
    "import numpy as np\n",
    "import torch\n",
    "from skorch import NeuralNetBinaryClassifier\n",
    "from sklearn.pipeline import Pipeline\n",
    "from sklearn.preprocessing import StandardScaler"
   ]
  },
  {
   "cell_type": "markdown",
   "id": "640147a6-db23-46ef-bc80-196d456d68a4",
   "metadata": {},
   "source": [
    "1. Familiarize with the [CartPole](https://gymnasium.farama.org/environments/classic_control/cart_pole/) environment of the _Gym_ library. Write a function that plays a given number of games using a model - provided as a parameter to the function, along with the number of games - for the choice of actions. If the model is not provided, choose random actions. The function should return a list of the total scores obtained in each game."
   ]
  },
  {
   "cell_type": "code",
   "execution_count": 2,
   "id": "ab93376a-9ed6-454b-9550-4b7236df1e06",
   "metadata": {},
   "outputs": [],
   "source": [
    "def play_games(num_games, model=None):\n",
    "    scores = []\n",
    "    env = gym.make('CartPole-v1')\n",
    "    for _ in range(num_games):\n",
    "        env.reset()\n",
    "        score = 0.\n",
    "        prev_obs = []\n",
    "        for _ in range(500):\n",
    "            if len(prev_obs)== 0 or model is None:\n",
    "                action = env.action_space.sample()\n",
    "            else:\n",
    "                prev_obs = torch.tensor([prev_obs])\n",
    "                action = model.predict(prev_obs).item()\n",
    "                        \n",
    "            new_observation, reward, terminated, truncated, info = env.step(action)\n",
    "            prev_obs = new_observation\n",
    "            score += reward\n",
    "            if terminated or truncated:\n",
    "                break\n",
    "        scores.append(score)\n",
    "    \n",
    "    env.close()\n",
    "    return scores"
   ]
  },
  {
   "cell_type": "markdown",
   "id": "153f3452-5865-4847-b571-75711df1cbc7",
   "metadata": {},
   "source": [
    "2. Write a function that generates the training data, _i.e._ a _list_ of pairs (observations, actions) for each sample (episode) for which the score is at least 60. The function should play a given number of games taking random actions in the range (0,1) using the environment `env`."
   ]
  },
  {
   "cell_type": "code",
   "execution_count": 3,
   "id": "97f1fb55-a929-4028-a0bf-76d31abffa76",
   "metadata": {},
   "outputs": [],
   "source": [
    "def generate_training_data(num_games):\n",
    "    env = gym.make('CartPole-v1')\n",
    "    training_data = []\n",
    "    for _ in range(num_games):\n",
    "        score = 0\n",
    "        env.reset()\n",
    "        game_memory = []\n",
    "        previous_observation = []\n",
    "        for _ in range(500):\n",
    "            action = env.action_space.sample()\n",
    "            observation, reward, terminated, truncated, info = env.step(action)\n",
    "            \n",
    "            if len(previous_observation) > 0:\n",
    "                game_memory.append([previous_observation, action])\n",
    "                \n",
    "            previous_observation = observation\n",
    "            score += reward\n",
    "            if terminated or truncated:\n",
    "                break\n",
    "            \n",
    "        if score >= 60:\n",
    "            for data in game_memory:\n",
    "                observations = data[0]\n",
    "                actions = data[1]\n",
    "                training_data.append([observations, actions])\n",
    "    \n",
    "    return training_data"
   ]
  },
  {
   "cell_type": "markdown",
   "id": "8dd67526-ab29-4f60-8863-63dad6c6c8cd",
   "metadata": {},
   "source": [
    "3. Generate the training using the above function and reshape into two float32 PyTorch _tensors_:\n",
    "- `X`: shape = (number of training states, 4)\n",
    "- `y`: shape = (number of training states,)\n",
    "\n",
    "_NOTE_: the number of games may be _large_... "
   ]
  },
  {
   "cell_type": "code",
   "execution_count": 4,
   "id": "cc401755-99cd-4308-8130-687f75eb0794",
   "metadata": {},
   "outputs": [
    {
     "name": "stderr",
     "output_type": "stream",
     "text": [
      "/var/folders/6x/8nyd9hnd0n9dtx4st6g2d5zj_v2dvq/T/ipykernel_1411/677341328.py:2: UserWarning: Creating a tensor from a list of numpy.ndarrays is extremely slow. Please consider converting the list to a single numpy.ndarray with numpy.array() before converting to a tensor. (Triggered internally at /Users/runner/work/pytorch/pytorch/pytorch/torch/csrc/utils/tensor_new.cpp:264.)\n",
      "  X = tensor([i[0] for i in training_data], dtype=torch.float32).reshape(len(training_data),4)\n"
     ]
    }
   ],
   "source": [
    "training_data = generate_training_data(100000)\n",
    "X = tensor([i[0] for i in training_data], dtype=torch.float32).reshape(len(training_data),4)\n",
    "y = tensor([i[1] for i in training_data], dtype=torch.float32)"
   ]
  },
  {
   "cell_type": "markdown",
   "id": "33a76e53-c399-4cfb-8513-e13879ed6f44",
   "metadata": {},
   "source": [
    "4. Create a `skorch` [`NeuralNetBinaryClassifier`](https://skorch.readthedocs.io/en/stable/classifier.html?highlight=classifier) object based on the `NN` class below, which takes the 4 components of the observation as an input and returns the probability of pushing the cart to the right (action = 1). Start with one hidden layer with 128 ReLU units. Set the batch size equal to 64, the number of epochs equal to 200, the learning rate equal to 0.01, the criterion equal to the binary cross entropy loss, and the verbosity equal to 1."
   ]
  },
  {
   "cell_type": "code",
   "execution_count": 5,
   "id": "5df49131-2c2b-4f8f-9899-b86812b963b0",
   "metadata": {},
   "outputs": [],
   "source": [
    "class NN(nn.Module):\n",
    "    def __init__(self, num_units=128):\n",
    "        super().__init__()\n",
    "        self.linear_relu_stack = nn.Sequential(\n",
    "            nn.Linear(4, num_units),\n",
    "            nn.ReLU(),\n",
    "            nn.Linear(num_units,1),\n",
    "            nn.Sigmoid()\n",
    "        )\n",
    "\n",
    "    def forward(self, x):\n",
    "        x = x.to(torch.float32)\n",
    "        y = self.linear_relu_stack(x)\n",
    "        return y"
   ]
  },
  {
   "cell_type": "code",
   "execution_count": 6,
   "id": "f5512dc8-f205-4c04-acd2-5ca5eb889e7c",
   "metadata": {},
   "outputs": [],
   "source": [
    "model = NeuralNetBinaryClassifier(module=NN, lr=0.01, batch_size=64, \n",
    "                                  verbose=1, max_epochs=200, \n",
    "                                  module__num_units=128,\n",
    "                                  criterion=nn.BCELoss,\n",
    "                                  iterator_train__shuffle=True)"
   ]
  },
  {
   "cell_type": "markdown",
   "id": "c20cfc43-769e-47d1-a7b4-6afc83694921",
   "metadata": {},
   "source": [
    "5. Create a _pipeline_ and fit the model. Plot the history of the training and the validation losses."
   ]
  },
  {
   "cell_type": "code",
   "execution_count": 7,
   "id": "65f7b525-b7e7-4a08-81be-723433bb74d0",
   "metadata": {},
   "outputs": [
    {
     "name": "stdout",
     "output_type": "stream",
     "text": [
      "  epoch    train_loss    valid_acc    valid_loss     dur\n",
      "-------  ------------  -----------  ------------  ------\n",
      "      1        \u001b[36m0.6658\u001b[0m       \u001b[32m0.6086\u001b[0m        \u001b[35m0.6635\u001b[0m  0.5671\n",
      "      2        \u001b[36m0.6611\u001b[0m       \u001b[32m0.6100\u001b[0m        \u001b[35m0.6607\u001b[0m  0.5303\n",
      "      3        \u001b[36m0.6590\u001b[0m       0.6094        \u001b[35m0.6590\u001b[0m  0.5178\n",
      "      4        \u001b[36m0.6578\u001b[0m       \u001b[32m0.6111\u001b[0m        \u001b[35m0.6578\u001b[0m  0.5368\n",
      "      5        \u001b[36m0.6571\u001b[0m       0.6100        \u001b[35m0.6571\u001b[0m  0.5338\n",
      "      6        \u001b[36m0.6566\u001b[0m       0.6104        \u001b[35m0.6568\u001b[0m  0.5300\n",
      "      7        \u001b[36m0.6563\u001b[0m       \u001b[32m0.6112\u001b[0m        \u001b[35m0.6560\u001b[0m  0.5364\n",
      "      8        \u001b[36m0.6560\u001b[0m       \u001b[32m0.6114\u001b[0m        \u001b[35m0.6556\u001b[0m  0.5242\n",
      "      9        \u001b[36m0.6557\u001b[0m       0.6111        \u001b[35m0.6554\u001b[0m  0.5211\n",
      "     10        \u001b[36m0.6555\u001b[0m       \u001b[32m0.6124\u001b[0m        0.6554  0.5294\n",
      "     11        \u001b[36m0.6553\u001b[0m       0.6111        \u001b[35m0.6548\u001b[0m  0.5211\n",
      "     12        \u001b[36m0.6552\u001b[0m       0.6120        \u001b[35m0.6547\u001b[0m  0.5181\n",
      "     13        \u001b[36m0.6550\u001b[0m       0.6108        \u001b[35m0.6545\u001b[0m  0.5241\n",
      "     14        \u001b[36m0.6548\u001b[0m       0.6111        0.6553  0.5421\n",
      "     15        \u001b[36m0.6547\u001b[0m       0.6103        0.6545  0.5353\n",
      "     16        \u001b[36m0.6546\u001b[0m       0.6098        0.6546  0.5207\n",
      "     17        \u001b[36m0.6545\u001b[0m       0.6099        \u001b[35m0.6543\u001b[0m  0.5306\n",
      "     18        \u001b[36m0.6544\u001b[0m       0.6105        0.6545  0.5239\n",
      "     19        \u001b[36m0.6543\u001b[0m       0.6102        \u001b[35m0.6542\u001b[0m  0.5239\n",
      "     20        \u001b[36m0.6542\u001b[0m       0.6109        0.6545  0.5350\n",
      "     21        \u001b[36m0.6542\u001b[0m       0.6103        \u001b[35m0.6536\u001b[0m  0.5268\n",
      "     22        \u001b[36m0.6540\u001b[0m       0.6109        0.6539  0.5463\n",
      "     23        \u001b[36m0.6540\u001b[0m       0.6111        0.6544  0.5382\n",
      "     24        0.6540       0.6123        \u001b[35m0.6536\u001b[0m  0.5275\n",
      "     25        \u001b[36m0.6539\u001b[0m       0.6103        0.6542  0.5337\n",
      "     26        \u001b[36m0.6538\u001b[0m       0.6102        0.6539  0.5284\n",
      "     27        \u001b[36m0.6537\u001b[0m       0.6098        0.6542  0.5270\n",
      "     28        \u001b[36m0.6537\u001b[0m       0.6106        0.6537  0.5287\n",
      "     29        \u001b[36m0.6536\u001b[0m       0.6100        \u001b[35m0.6536\u001b[0m  0.5365\n",
      "     30        \u001b[36m0.6535\u001b[0m       0.6112        \u001b[35m0.6533\u001b[0m  0.5304\n",
      "     31        \u001b[36m0.6535\u001b[0m       0.6118        \u001b[35m0.6531\u001b[0m  0.5343\n",
      "     32        \u001b[36m0.6534\u001b[0m       0.6110        \u001b[35m0.6531\u001b[0m  0.5239\n",
      "     33        \u001b[36m0.6533\u001b[0m       0.6103        0.6542  0.5322\n",
      "     34        0.6533       0.6111        \u001b[35m0.6530\u001b[0m  0.5284\n",
      "     35        \u001b[36m0.6532\u001b[0m       0.6099        0.6546  0.5454\n",
      "     36        \u001b[36m0.6532\u001b[0m       0.6109        \u001b[35m0.6529\u001b[0m  0.5384\n",
      "     37        \u001b[36m0.6532\u001b[0m       0.6104        0.6533  0.5359\n",
      "     38        \u001b[36m0.6531\u001b[0m       0.6116        0.6531  0.5263\n",
      "     39        \u001b[36m0.6531\u001b[0m       0.6106        \u001b[35m0.6528\u001b[0m  0.5261\n",
      "     40        \u001b[36m0.6530\u001b[0m       0.6100        0.6529  0.5252\n",
      "     41        \u001b[36m0.6529\u001b[0m       0.6099        0.6532  0.5245\n",
      "     42        0.6529       0.6109        0.6530  0.5207\n",
      "     43        \u001b[36m0.6528\u001b[0m       0.6112        \u001b[35m0.6528\u001b[0m  0.5331\n",
      "     44        \u001b[36m0.6528\u001b[0m       0.6105        \u001b[35m0.6526\u001b[0m  0.5399\n",
      "     45        \u001b[36m0.6528\u001b[0m       0.6105        0.6533  0.5478\n",
      "     46        \u001b[36m0.6527\u001b[0m       0.6103        0.6530  0.5392\n",
      "     47        \u001b[36m0.6526\u001b[0m       0.6103        \u001b[35m0.6524\u001b[0m  0.5244\n",
      "     48        0.6527       0.6103        0.6527  0.5308\n",
      "     49        \u001b[36m0.6526\u001b[0m       0.6108        0.6533  0.5250\n",
      "     50        \u001b[36m0.6526\u001b[0m       0.6100        0.6532  0.5322\n",
      "     51        \u001b[36m0.6525\u001b[0m       0.6108        0.6526  0.5298\n",
      "     52        \u001b[36m0.6524\u001b[0m       0.6103        0.6535  0.5300\n",
      "     53        0.6525       0.6100        0.6530  0.5290\n",
      "     54        \u001b[36m0.6524\u001b[0m       0.6106        0.6524  0.5307\n",
      "     55        0.6524       0.6106        \u001b[35m0.6523\u001b[0m  0.5405\n",
      "     56        \u001b[36m0.6523\u001b[0m       0.6117        0.6525  0.5446\n",
      "     57        \u001b[36m0.6523\u001b[0m       0.6105        0.6528  0.5464\n",
      "     58        \u001b[36m0.6523\u001b[0m       0.6098        0.6529  0.5330\n",
      "     59        \u001b[36m0.6522\u001b[0m       0.6095        0.6525  0.5325\n",
      "     60        0.6522       0.6111        0.6525  0.5263\n",
      "     61        \u001b[36m0.6522\u001b[0m       0.6106        0.6525  0.5253\n",
      "     62        \u001b[36m0.6522\u001b[0m       0.6100        0.6526  0.5290\n",
      "     63        0.6522       0.6096        \u001b[35m0.6522\u001b[0m  0.5245\n",
      "     64        \u001b[36m0.6521\u001b[0m       0.6097        0.6525  0.5324\n",
      "     65        0.6521       0.6101        0.6523  0.5286\n",
      "     66        \u001b[36m0.6521\u001b[0m       0.6112        0.6524  0.5236\n",
      "     67        \u001b[36m0.6520\u001b[0m       0.6101        0.6523  0.5270\n",
      "     68        \u001b[36m0.6520\u001b[0m       0.6097        0.6526  0.5253\n",
      "     69        0.6520       0.6094        0.6523  0.5253\n",
      "     70        \u001b[36m0.6520\u001b[0m       0.6093        0.6525  0.5298\n",
      "     71        \u001b[36m0.6519\u001b[0m       0.6101        0.6524  0.5341\n",
      "     72        0.6519       0.6097        \u001b[35m0.6522\u001b[0m  0.5354\n",
      "     73        0.6519       0.6100        0.6533  0.5321\n",
      "     74        0.6519       0.6110        0.6522  0.5282\n",
      "     75        \u001b[36m0.6518\u001b[0m       0.6123        0.6522  0.5276\n",
      "     76        \u001b[36m0.6518\u001b[0m       0.6100        \u001b[35m0.6522\u001b[0m  0.5253\n",
      "     77        0.6518       0.6098        \u001b[35m0.6521\u001b[0m  0.5267\n",
      "     78        \u001b[36m0.6517\u001b[0m       0.6097        0.6522  0.5346\n",
      "     79        0.6518       0.6106        0.6523  0.5294\n",
      "     80        0.6517       0.6100        \u001b[35m0.6520\u001b[0m  0.5308\n",
      "     81        \u001b[36m0.6517\u001b[0m       0.6106        0.6526  0.5307\n",
      "     82        \u001b[36m0.6517\u001b[0m       0.6109        \u001b[35m0.6520\u001b[0m  0.5268\n",
      "     83        \u001b[36m0.6517\u001b[0m       0.6103        0.6521  0.5262\n",
      "     84        \u001b[36m0.6516\u001b[0m       0.6106        0.6522  0.5277\n",
      "     85        0.6517       0.6102        0.6521  0.5456\n",
      "     86        0.6517       0.6105        0.6521  0.5314\n",
      "     87        0.6517       0.6102        \u001b[35m0.6519\u001b[0m  0.5323\n",
      "     88        \u001b[36m0.6516\u001b[0m       0.6104        0.6521  0.5295\n",
      "     89        \u001b[36m0.6516\u001b[0m       0.6111        0.6522  0.5314\n",
      "     90        0.6516       0.6119        0.6522  0.5308\n",
      "     91        0.6516       0.6098        0.6520  0.5250\n",
      "     92        \u001b[36m0.6515\u001b[0m       0.6111        0.6536  0.5833\n",
      "     93        0.6515       0.6101        0.6520  0.5251\n",
      "     94        \u001b[36m0.6515\u001b[0m       0.6107        0.6525  0.5276\n",
      "     95        \u001b[36m0.6515\u001b[0m       0.6096        0.6524  0.5283\n",
      "     96        0.6515       0.6096        0.6532  0.5277\n",
      "     97        0.6515       0.6110        \u001b[35m0.6518\u001b[0m  0.5331\n",
      "     98        0.6515       0.6098        0.6519  0.5256\n",
      "     99        \u001b[36m0.6514\u001b[0m       0.6105        0.6522  0.5356\n",
      "    100        \u001b[36m0.6514\u001b[0m       0.6081        0.6527  0.5328\n",
      "    101        0.6515       0.6100        0.6519  0.5329\n",
      "    102        0.6514       0.6100        0.6526  0.5303\n",
      "    103        \u001b[36m0.6514\u001b[0m       0.6109        0.6520  0.5283\n",
      "    104        0.6514       0.6107        0.6522  0.5305\n",
      "    105        \u001b[36m0.6514\u001b[0m       0.6097        0.6521  0.5441\n",
      "    106        0.6514       0.6104        0.6520  0.5436\n",
      "    107        0.6514       0.6092        0.6527  0.5402\n",
      "    108        \u001b[36m0.6513\u001b[0m       0.6094        0.6519  0.5303\n",
      "    109        0.6513       0.6106        0.6520  0.5306\n",
      "    110        \u001b[36m0.6513\u001b[0m       0.6113        0.6523  0.5276\n",
      "    111        \u001b[36m0.6512\u001b[0m       0.6106        0.6525  0.5259\n",
      "    112        0.6513       0.6098        0.6522  0.5323\n",
      "    113        0.6513       0.6113        0.6523  0.5367\n",
      "    114        0.6512       0.6098        0.6526  0.5306\n",
      "    115        \u001b[36m0.6512\u001b[0m       0.6106        \u001b[35m0.6517\u001b[0m  0.5303\n",
      "    116        0.6512       0.6104        0.6525  0.5315\n",
      "    117        0.6512       0.6109        0.6521  0.5316\n",
      "    118        \u001b[36m0.6512\u001b[0m       0.6096        0.6518  0.5370\n",
      "    119        \u001b[36m0.6511\u001b[0m       0.6098        0.6519  0.5281\n",
      "    120        0.6511       0.6115        0.6519  0.5317\n",
      "    121        0.6512       0.6102        0.6519  0.5326\n",
      "    122        \u001b[36m0.6510\u001b[0m       0.6108        0.6519  0.5266\n",
      "    123        0.6511       0.6102        0.6520  0.5281\n",
      "    124        0.6511       0.6109        0.6521  0.5256\n",
      "    125        \u001b[36m0.6510\u001b[0m       0.6108        0.6517  0.5307\n",
      "    126        0.6512       0.6106        0.6527  0.5432\n",
      "    127        0.6511       0.6087        0.6522  0.5442\n",
      "    128        0.6511       0.6108        0.6520  0.5357\n",
      "    129        0.6511       0.6095        0.6520  0.5404\n",
      "    130        0.6511       0.6104        0.6521  0.5339\n",
      "    131        0.6511       0.6108        0.6518  0.5336\n",
      "    132        0.6511       0.6108        \u001b[35m0.6517\u001b[0m  0.5289\n",
      "    133        0.6510       0.6097        0.6527  0.5269\n",
      "    134        0.6510       0.6111        0.6520  0.5341\n",
      "    135        \u001b[36m0.6510\u001b[0m       0.6106        0.6517  0.5343\n",
      "    136        0.6510       0.6110        0.6519  0.5368\n",
      "    137        \u001b[36m0.6509\u001b[0m       0.6089        0.6526  0.5344\n",
      "    138        0.6510       0.6091        0.6518  0.5292\n",
      "    139        \u001b[36m0.6509\u001b[0m       0.6097        0.6520  0.5285\n",
      "    140        \u001b[36m0.6509\u001b[0m       0.6105        0.6522  0.5275\n",
      "    141        0.6509       0.6105        \u001b[35m0.6516\u001b[0m  0.5283\n",
      "    142        0.6509       0.6101        0.6525  0.5414\n",
      "    143        0.6510       0.6110        0.6517  0.5396\n",
      "    144        0.6509       0.6105        0.6516  0.5474\n",
      "    145        \u001b[36m0.6509\u001b[0m       0.6107        0.6516  0.5420\n",
      "    146        \u001b[36m0.6508\u001b[0m       0.6111        0.6522  0.5289\n",
      "    147        \u001b[36m0.6508\u001b[0m       0.6115        0.6519  0.5290\n",
      "    148        0.6509       0.6095        0.6522  0.5282\n",
      "    149        \u001b[36m0.6508\u001b[0m       0.6107        0.6519  0.5300\n",
      "    150        0.6509       0.6100        0.6521  0.5310\n",
      "    151        0.6508       0.6096        0.6522  0.5293\n",
      "    152        0.6508       0.6095        0.6521  0.5283\n",
      "    153        \u001b[36m0.6508\u001b[0m       0.6106        0.6519  0.5285\n",
      "    154        0.6508       0.6116        \u001b[35m0.6516\u001b[0m  0.5278\n",
      "    155        0.6509       0.6111        0.6519  0.5270\n",
      "    156        \u001b[36m0.6508\u001b[0m       0.6110        0.6516  0.5340\n",
      "    157        0.6508       0.6102        0.6517  0.5401\n",
      "    158        0.6508       0.6103        \u001b[35m0.6515\u001b[0m  0.5376\n",
      "    159        0.6508       0.6111        0.6517  0.5309\n",
      "    160        0.6508       0.6107        0.6516  0.5311\n",
      "    161        \u001b[36m0.6507\u001b[0m       0.6099        0.6518  0.5306\n",
      "    162        0.6508       0.6115        0.6520  0.5296\n",
      "    163        0.6508       0.6106        0.6520  0.5310\n",
      "    164        \u001b[36m0.6507\u001b[0m       0.6112        0.6516  0.5292\n",
      "    165        \u001b[36m0.6506\u001b[0m       0.6115        0.6518  0.5313\n",
      "    166        0.6507       0.6113        0.6516  0.5285\n",
      "    167        0.6508       0.6106        0.6517  0.5427\n",
      "    168        0.6508       0.6106        0.6532  0.5463\n",
      "    169        0.6507       0.6101        0.6519  0.5320\n",
      "    170        0.6507       0.6110        0.6519  0.5360\n",
      "    171        \u001b[36m0.6506\u001b[0m       0.6118        0.6520  0.5301\n",
      "    172        0.6507       0.6098        0.6517  0.5355\n",
      "    173        0.6507       0.6117        0.6518  0.5373\n",
      "    174        \u001b[36m0.6506\u001b[0m       0.6108        0.6523  0.5335\n",
      "    175        0.6506       0.6103        0.6516  0.5261\n",
      "    176        \u001b[36m0.6506\u001b[0m       0.6107        \u001b[35m0.6515\u001b[0m  0.5284\n",
      "    177        \u001b[36m0.6506\u001b[0m       0.6107        0.6518  0.5281\n",
      "    178        0.6506       0.6103        0.6516  0.5273\n",
      "    179        0.6507       0.6102        0.6516  0.5285\n",
      "    180        \u001b[36m0.6506\u001b[0m       0.6105        \u001b[35m0.6514\u001b[0m  0.5284\n",
      "    181        \u001b[36m0.6505\u001b[0m       0.6114        0.6514  0.5279\n",
      "    182        0.6506       0.6103        0.6515  0.5317\n",
      "    183        0.6505       0.6086        0.6515  0.5314\n",
      "    184        0.6506       0.6116        \u001b[35m0.6513\u001b[0m  0.5337\n",
      "    185        0.6505       0.6097        0.6514  0.5317\n",
      "    186        \u001b[36m0.6505\u001b[0m       0.6094        0.6525  0.5455\n",
      "    187        0.6505       0.6115        0.6524  0.5447\n",
      "    188        0.6505       0.6115        0.6514  0.5427\n",
      "    189        0.6505       0.6098        0.6519  0.5455\n",
      "    190        0.6506       0.6117        0.6514  0.5400\n",
      "    191        \u001b[36m0.6505\u001b[0m       0.6092        0.6519  0.5300\n",
      "    192        \u001b[36m0.6505\u001b[0m       0.6107        0.6514  0.5310\n",
      "    193        \u001b[36m0.6505\u001b[0m       0.6112        0.6516  0.5290\n",
      "    194        0.6505       0.6104        0.6519  0.5326\n",
      "    195        0.6505       0.6098        0.6514  0.5298\n",
      "    196        0.6505       0.6113        0.6525  0.5301\n",
      "    197        \u001b[36m0.6504\u001b[0m       0.6106        0.6519  0.5282\n",
      "    198        \u001b[36m0.6504\u001b[0m       0.6103        0.6516  0.5353\n",
      "    199        0.6504       0.6108        0.6531  0.5310\n",
      "    200        0.6505       0.6113        0.6520  0.5366\n"
     ]
    },
    {
     "data": {
      "text/html": [
       "<style>#sk-container-id-1 {color: black;}#sk-container-id-1 pre{padding: 0;}#sk-container-id-1 div.sk-toggleable {background-color: white;}#sk-container-id-1 label.sk-toggleable__label {cursor: pointer;display: block;width: 100%;margin-bottom: 0;padding: 0.3em;box-sizing: border-box;text-align: center;}#sk-container-id-1 label.sk-toggleable__label-arrow:before {content: \"▸\";float: left;margin-right: 0.25em;color: #696969;}#sk-container-id-1 label.sk-toggleable__label-arrow:hover:before {color: black;}#sk-container-id-1 div.sk-estimator:hover label.sk-toggleable__label-arrow:before {color: black;}#sk-container-id-1 div.sk-toggleable__content {max-height: 0;max-width: 0;overflow: hidden;text-align: left;background-color: #f0f8ff;}#sk-container-id-1 div.sk-toggleable__content pre {margin: 0.2em;color: black;border-radius: 0.25em;background-color: #f0f8ff;}#sk-container-id-1 input.sk-toggleable__control:checked~div.sk-toggleable__content {max-height: 200px;max-width: 100%;overflow: auto;}#sk-container-id-1 input.sk-toggleable__control:checked~label.sk-toggleable__label-arrow:before {content: \"▾\";}#sk-container-id-1 div.sk-estimator input.sk-toggleable__control:checked~label.sk-toggleable__label {background-color: #d4ebff;}#sk-container-id-1 div.sk-label input.sk-toggleable__control:checked~label.sk-toggleable__label {background-color: #d4ebff;}#sk-container-id-1 input.sk-hidden--visually {border: 0;clip: rect(1px 1px 1px 1px);clip: rect(1px, 1px, 1px, 1px);height: 1px;margin: -1px;overflow: hidden;padding: 0;position: absolute;width: 1px;}#sk-container-id-1 div.sk-estimator {font-family: monospace;background-color: #f0f8ff;border: 1px dotted black;border-radius: 0.25em;box-sizing: border-box;margin-bottom: 0.5em;}#sk-container-id-1 div.sk-estimator:hover {background-color: #d4ebff;}#sk-container-id-1 div.sk-parallel-item::after {content: \"\";width: 100%;border-bottom: 1px solid gray;flex-grow: 1;}#sk-container-id-1 div.sk-label:hover label.sk-toggleable__label {background-color: #d4ebff;}#sk-container-id-1 div.sk-serial::before {content: \"\";position: absolute;border-left: 1px solid gray;box-sizing: border-box;top: 0;bottom: 0;left: 50%;z-index: 0;}#sk-container-id-1 div.sk-serial {display: flex;flex-direction: column;align-items: center;background-color: white;padding-right: 0.2em;padding-left: 0.2em;position: relative;}#sk-container-id-1 div.sk-item {position: relative;z-index: 1;}#sk-container-id-1 div.sk-parallel {display: flex;align-items: stretch;justify-content: center;background-color: white;position: relative;}#sk-container-id-1 div.sk-item::before, #sk-container-id-1 div.sk-parallel-item::before {content: \"\";position: absolute;border-left: 1px solid gray;box-sizing: border-box;top: 0;bottom: 0;left: 50%;z-index: -1;}#sk-container-id-1 div.sk-parallel-item {display: flex;flex-direction: column;z-index: 1;position: relative;background-color: white;}#sk-container-id-1 div.sk-parallel-item:first-child::after {align-self: flex-end;width: 50%;}#sk-container-id-1 div.sk-parallel-item:last-child::after {align-self: flex-start;width: 50%;}#sk-container-id-1 div.sk-parallel-item:only-child::after {width: 0;}#sk-container-id-1 div.sk-dashed-wrapped {border: 1px dashed gray;margin: 0 0.4em 0.5em 0.4em;box-sizing: border-box;padding-bottom: 0.4em;background-color: white;}#sk-container-id-1 div.sk-label label {font-family: monospace;font-weight: bold;display: inline-block;line-height: 1.2em;}#sk-container-id-1 div.sk-label-container {text-align: center;}#sk-container-id-1 div.sk-container {/* jupyter's `normalize.less` sets `[hidden] { display: none; }` but bootstrap.min.css set `[hidden] { display: none !important; }` so we also need the `!important` here to be able to override the default hidden behavior on the sphinx rendered scikit-learn.org. See: https://github.com/scikit-learn/scikit-learn/issues/21755 */display: inline-block !important;position: relative;}#sk-container-id-1 div.sk-text-repr-fallback {display: none;}</style><div id=\"sk-container-id-1\" class=\"sk-top-container\"><div class=\"sk-text-repr-fallback\"><pre>Pipeline(steps=[(&#x27;scale&#x27;, StandardScaler()),\n",
       "                (&#x27;model&#x27;,\n",
       "                 &lt;class &#x27;skorch.classifier.NeuralNetBinaryClassifier&#x27;&gt;[initialized](\n",
       "  module_=NN(\n",
       "    (linear_relu_stack): Sequential(\n",
       "      (0): Linear(in_features=4, out_features=128, bias=True)\n",
       "      (1): ReLU()\n",
       "      (2): Linear(in_features=128, out_features=1, bias=True)\n",
       "      (3): Sigmoid()\n",
       "    )\n",
       "  ),\n",
       "))])</pre><b>In a Jupyter environment, please rerun this cell to show the HTML representation or trust the notebook. <br />On GitHub, the HTML representation is unable to render, please try loading this page with nbviewer.org.</b></div><div class=\"sk-container\" hidden><div class=\"sk-item sk-dashed-wrapped\"><div class=\"sk-label-container\"><div class=\"sk-label sk-toggleable\"><input class=\"sk-toggleable__control sk-hidden--visually\" id=\"sk-estimator-id-1\" type=\"checkbox\" ><label for=\"sk-estimator-id-1\" class=\"sk-toggleable__label sk-toggleable__label-arrow\">Pipeline</label><div class=\"sk-toggleable__content\"><pre>Pipeline(steps=[(&#x27;scale&#x27;, StandardScaler()),\n",
       "                (&#x27;model&#x27;,\n",
       "                 &lt;class &#x27;skorch.classifier.NeuralNetBinaryClassifier&#x27;&gt;[initialized](\n",
       "  module_=NN(\n",
       "    (linear_relu_stack): Sequential(\n",
       "      (0): Linear(in_features=4, out_features=128, bias=True)\n",
       "      (1): ReLU()\n",
       "      (2): Linear(in_features=128, out_features=1, bias=True)\n",
       "      (3): Sigmoid()\n",
       "    )\n",
       "  ),\n",
       "))])</pre></div></div></div><div class=\"sk-serial\"><div class=\"sk-item\"><div class=\"sk-estimator sk-toggleable\"><input class=\"sk-toggleable__control sk-hidden--visually\" id=\"sk-estimator-id-2\" type=\"checkbox\" ><label for=\"sk-estimator-id-2\" class=\"sk-toggleable__label sk-toggleable__label-arrow\">StandardScaler</label><div class=\"sk-toggleable__content\"><pre>StandardScaler()</pre></div></div></div><div class=\"sk-item\"><div class=\"sk-estimator sk-toggleable\"><input class=\"sk-toggleable__control sk-hidden--visually\" id=\"sk-estimator-id-3\" type=\"checkbox\" ><label for=\"sk-estimator-id-3\" class=\"sk-toggleable__label sk-toggleable__label-arrow\">NeuralNetBinaryClassifier</label><div class=\"sk-toggleable__content\"><pre>&lt;class &#x27;skorch.classifier.NeuralNetBinaryClassifier&#x27;&gt;[initialized](\n",
       "  module_=NN(\n",
       "    (linear_relu_stack): Sequential(\n",
       "      (0): Linear(in_features=4, out_features=128, bias=True)\n",
       "      (1): ReLU()\n",
       "      (2): Linear(in_features=128, out_features=1, bias=True)\n",
       "      (3): Sigmoid()\n",
       "    )\n",
       "  ),\n",
       ")</pre></div></div></div></div></div></div></div>"
      ],
      "text/plain": [
       "Pipeline(steps=[('scale', StandardScaler()),\n",
       "                ('model',\n",
       "                 <class 'skorch.classifier.NeuralNetBinaryClassifier'>[initialized](\n",
       "  module_=NN(\n",
       "    (linear_relu_stack): Sequential(\n",
       "      (0): Linear(in_features=4, out_features=128, bias=True)\n",
       "      (1): ReLU()\n",
       "      (2): Linear(in_features=128, out_features=1, bias=True)\n",
       "      (3): Sigmoid()\n",
       "    )\n",
       "  ),\n",
       "))])"
      ]
     },
     "execution_count": 7,
     "metadata": {},
     "output_type": "execute_result"
    }
   ],
   "source": [
    "pipe = Pipeline([\n",
    "    ('scale', StandardScaler()),\n",
    "    ('model', model),\n",
    "])\n",
    "\n",
    "pipe.fit(X, y)"
   ]
  },
  {
   "cell_type": "code",
   "execution_count": 8,
   "id": "4c2110e5-452e-4fb8-b0bd-7200b7c23e7b",
   "metadata": {},
   "outputs": [
    {
     "data": {
      "image/png": "[encoded data removed]",
      "text/plain": [
       "<Figure size 640x480 with 1 Axes>"
      ]
     },
     "metadata": {},
     "output_type": "display_data"
    }
   ],
   "source": [
    "train_loss = pipe['model'].history[:, 'train_loss']\n",
    "valid_loss = pipe['model'].history[:, 'valid_loss']\n",
    "epochs = [i for i in range(1,len(train_loss)+1)]\n",
    "plt.plot(epochs, train_loss, label='training loss')\n",
    "plt.plot(epochs, valid_loss, label='validation loss')\n",
    "plt.legend()\n",
    "plt.show()"
   ]
  },
  {
   "cell_type": "markdown",
   "id": "2d26930c-03ec-4cac-8e71-d54ece2223e9",
   "metadata": {},
   "source": [
    "6. Play 1000 games where the actions are chosen according to the trained network. Record the total score per game and then compute the average score. Compare the average score with that of a random controller."
   ]
  },
  {
   "cell_type": "code",
   "execution_count": 12,
   "id": "fbd8fe7f-2f12-46e2-91d8-cde5305d9104",
   "metadata": {},
   "outputs": [
    {
     "name": "stdout",
     "output_type": "stream",
     "text": [
      "Average Score 468.179\n"
     ]
    }
   ],
   "source": [
    "scores = play_games(1000, model=model)\n",
    "print('Average Score', np.mean(scores))"
   ]
  },
  {
   "cell_type": "code",
   "execution_count": 13,
   "id": "053230d2-1732-4087-884d-6acca17b207e",
   "metadata": {},
   "outputs": [
    {
     "name": "stdout",
     "output_type": "stream",
     "text": [
      "Average Score (random controller) 22.141\n"
     ]
    }
   ],
   "source": [
    "# random controller\n",
    "scores = play_games(1000)\n",
    "print('Average Score (random controller)', np.mean(scores))"
   ]
  },
  {
   "cell_type": "code",
   "execution_count": null,
   "id": "22da40fb-a72a-48c7-a4cd-6e9c70ae4cf4",
   "metadata": {},
   "outputs": [],
   "source": []
  }
 ],
 "metadata": {
  "kernelspec": {
   "display_name": "Python 3 (ipykernel)",
   "language": "python",
   "name": "python3"
  },
  "language_info": {
   "codemirror_mode": {
    "name": "ipython",
    "version": 3
   },
   "file_extension": ".py",
   "mimetype": "text/x-python",
   "name": "python",
   "nbconvert_exporter": "python",
   "pygments_lexer": "ipython3",
   "version": "3.11.6"
  }
 },
 "nbformat": 4,
 "nbformat_minor": 5
}
