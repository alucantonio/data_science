{
 "cells": [
  {
   "cell_type": "markdown",
   "id": "52c16ec9-834d-4803-b680-af1e17ccdf97",
   "metadata": {},
   "source": [
    "# Exercise: Linear Regression on the house prices dataset"
   ]
  },
  {
   "cell_type": "markdown",
   "id": "0be057ec-c629-4b0d-a2e6-b855daf4693b",
   "metadata": {},
   "source": [
    "In this exercise, you will implement linear regression with multiple variables to predict the _prices of houses_. \n",
    "The file ex1data2.txt contains a training set of housing prices in Portland, Oregon. The first column is the size of the house (in square feet), the second column is the number of bedrooms, and the third column is the price of the house."
   ]
  },
  {
   "cell_type": "markdown",
   "id": "8d9c61c7-1a73-4e3a-825f-53e91b83ae53",
   "metadata": {},
   "source": [
    "1. Import the relevant Python libraries and load the dataset."
   ]
  },
  {
   "cell_type": "code",
   "execution_count": 2,
   "id": "b93777a9-7384-4460-90b1-3dac8449bce8",
   "metadata": {},
   "outputs": [],
   "source": [
    "import numpy as np\n",
    "import matplotlib.pyplot as plt"
   ]
  },
  {
   "cell_type": "code",
   "execution_count": 3,
   "id": "43528c8a-5851-410a-8987-59e773fec58f",
   "metadata": {},
   "outputs": [
    {
     "name": "stdout",
     "output_type": "stream",
     "text": [
      "(47, 2)\n"
     ]
    }
   ],
   "source": [
    "dataset = np.loadtxt(\"data/linear_regression/ex1data2.txt\", delimiter=\",\")\n",
    "X = dataset[:,:2]\n",
    "# note: prices are stored in a column array\n",
    "y = dataset[:,2].reshape(-1,1)\n",
    "print(X.shape)"
   ]
  },
  {
   "cell_type": "markdown",
   "id": "36a903cc-b4a3-4200-a7a6-690448e70036",
   "metadata": {},
   "source": [
    "2. Standardize the dataset."
   ]
  },
  {
   "cell_type": "code",
   "execution_count": null,
   "id": "a8adf306",
   "metadata": {},
   "outputs": [],
   "source": []
  },
  {
   "cell_type": "markdown",
   "id": "f3483115-7b23-4d9e-bcab-2c95e5bbd187",
   "metadata": {},
   "source": [
    "3. Implement the _LinearRegression_ class (must contain the methods _fit_, _MSE_ and _predict_, as in the example). "
   ]
  },
  {
   "cell_type": "code",
   "execution_count": null,
   "id": "30e605ac-496a-4e4c-aa58-85264962e541",
   "metadata": {},
   "outputs": [],
   "source": [
    "class LinearRegression:\n",
    "    def __init__(self):\n",
    "        pass\n",
    "\n",
    "    def fit(self, X, y, learning_rate, epochs):\n",
    "        pass\n",
    "    \n",
    "    def MSE(self, prediction, y):\n",
    "        pass\n",
    "\n",
    "    def predict(self, X):\n",
    "        pass"
   ]
  },
  {
   "cell_type": "markdown",
   "id": "168b3f08-d79d-4604-9645-55f2e42ca165",
   "metadata": {},
   "source": [
    "4. Solve the Linear Regression problem using Gradient Descent minimization and plot the MSE vs epoch number."
   ]
  },
  {
   "cell_type": "code",
   "execution_count": null,
   "id": "c8a2fe6d-d43d-43e4-8071-4e62d821d331",
   "metadata": {},
   "outputs": [],
   "source": []
  },
  {
   "cell_type": "markdown",
   "id": "1fd92b55-83bd-48ce-a823-1b9840a33cf5",
   "metadata": {},
   "source": [
    "5. Solve again the problem without standardization and plot again the MSE vs epoch number. Compare the value of the learning rate with that used in the case with standardization."
   ]
  },
  {
   "cell_type": "markdown",
   "id": "bbfdf472-c724-4f58-bbc1-83276158c48f",
   "metadata": {},
   "source": [
    "6. Evaluate the MSE on the dataset."
   ]
  },
  {
   "cell_type": "code",
   "execution_count": null,
   "id": "69072872-a918-4026-abe7-e8575cbfcdac",
   "metadata": {},
   "outputs": [],
   "source": []
  },
  {
   "cell_type": "markdown",
   "id": "329905ee-b074-48e5-af7e-8865f8fc27ec",
   "metadata": {},
   "source": [
    "7. Use the fitted model to predict the price of a 1650 ft^2 house with 3 bedrooms."
   ]
  },
  {
   "cell_type": "code",
   "execution_count": null,
   "id": "fc7b2bcb-e88e-4cfd-9e89-effc27594b59",
   "metadata": {},
   "outputs": [],
   "source": []
  },
  {
   "cell_type": "markdown",
   "id": "d8fd98cf-3abe-447a-a214-ecdcd4715ee8",
   "metadata": {},
   "source": [
    "8. Find the optimal weights of the model by solving the Normal Equation and compare them with those found using Gradient Descent."
   ]
  },
  {
   "cell_type": "code",
   "execution_count": null,
   "id": "ac6429a8-3a2a-4357-832f-6ac52859da43",
   "metadata": {},
   "outputs": [],
   "source": []
  },
  {
   "cell_type": "markdown",
   "id": "d58201e0-2641-4102-b346-3f3cb7d3c69d",
   "metadata": {},
   "source": [
    "9. (scikit-learn) Use the [SGDRegressor](https://scikit-learn.org/stable/modules/generated/sklearn.linear_model.SGDRegressor.html#sklearn.linear_model.SGDRegressor) class of scikit-learn to train a linear regression model on the house prices dataset. Normalize the dataset using a [StandardScaler](https://scikit-learn.org/stable/modules/generated/sklearn.preprocessing.StandardScaler.html#sklearn.preprocessing.StandardScaler) pipeline. Compare the prediction for a 1650 ft^2 / 3 bedroom house with that obtained above."
   ]
  },
  {
   "cell_type": "code",
   "execution_count": 2,
   "id": "987d17af-57c3-4414-a5e4-00d778dfcf68",
   "metadata": {},
   "outputs": [],
   "source": [
    "from sklearn.linear_model import SGDRegressor\n",
    "from sklearn.pipeline import make_pipeline\n",
    "from sklearn.preprocessing import StandardScaler"
   ]
  },
  {
   "cell_type": "markdown",
   "id": "cd4b7c05-08a3-4a77-8773-f1e7e46b871a",
   "metadata": {},
   "source": [
    "10. Compute the coefficient of determination ($R^2$) from the definition for the model fit at point 4. and compare it with the one of the scikit-learn model."
   ]
  },
  {
   "cell_type": "code",
   "execution_count": null,
   "id": "ef905638-d308-42b0-b89e-f308d44807a3",
   "metadata": {},
   "outputs": [],
   "source": []
  }
 ],
 "metadata": {
  "kernelspec": {
   "display_name": "Python 3 (ipykernel)",
   "language": "python",
   "name": "python3"
  },
  "language_info": {
   "codemirror_mode": {
    "name": "ipython",
    "version": 3
   },
   "file_extension": ".py",
   "mimetype": "text/x-python",
   "name": "python",
   "nbconvert_exporter": "python",
   "pygments_lexer": "ipython3",
   "version": "3.11.4"
  }
 },
 "nbformat": 4,
 "nbformat_minor": 5
}
