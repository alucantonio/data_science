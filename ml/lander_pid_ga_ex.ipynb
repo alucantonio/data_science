{
 "cells": [
  {
   "cell_type": "markdown",
   "id": "60cb0b1b-21bf-4469-ba72-b766dbd41598",
   "metadata": {},
   "source": [
    "# Tuning a PID controller for the Lunar Lander with a genetic algorithm"
   ]
  },
  {
   "cell_type": "code",
   "execution_count": 40,
   "id": "ce3aa5ae-527f-47c0-83fc-9a28f7f2b0f8",
   "metadata": {
    "tags": []
   },
   "outputs": [],
   "source": [
    "import gymnasium as gym\n",
    "import numpy as np\n",
    "import pygmo as pg"
   ]
  },
  {
   "cell_type": "markdown",
   "id": "ed157ef3-6e5c-4112-b7fd-d53972f3a006",
   "metadata": {},
   "source": [
    "In this exercise, you will implement a PID controller to safely land a shuttle. The parameters of the controller will be optimized using a _genetic algorithm_."
   ]
  },
  {
   "cell_type": "markdown",
   "id": "804418f1-8316-4cad-9fac-e72000d67c5c",
   "metadata": {},
   "source": [
    "<img src=\"https://www.gymlibrary.dev/_images/lunar_lander.gif\" width=\"400\" align=\"center\">\n",
    "\n"
   ]
  },
  {
   "cell_type": "markdown",
   "id": "f6cdd183-bb21-40de-b80d-7bfa964f3129",
   "metadata": {},
   "source": [
    "The [_Lunar Lander_](https://gymnasium.farama.org/environments/box2d/lunar_lander/) simulator is part of the _gym_ collection. Please familiarize with the environment before solving the exercise. \n",
    "\n",
    "*NOTE*: you may need to run `mamba install box2d-py` and/or `mamba install \"gymnasium[box2d]\"` and `mamba install pygmo`."
   ]
  },
  {
   "cell_type": "code",
   "execution_count": null,
   "id": "bd5ea228-63ba-4247-b8ce-5c90ea988a53",
   "metadata": {},
   "outputs": [],
   "source": [
    "env = gym.make(\"LunarLander-v3\", continuous=True)\n",
    "state, _ = env.reset()"
   ]
  },
  {
   "cell_type": "markdown",
   "id": "9871c684-6680-4116-965f-e6cfeaca9d07",
   "metadata": {},
   "source": [
    "### PID controller"
   ]
  },
  {
   "cell_type": "markdown",
   "id": "7f046e4f-5146-4b73-9e40-f03d76ba084f",
   "metadata": {},
   "source": [
    "A _Proportional Integrative Derivative (PID)_ controller continously computes an error $e(t)$ as the difference between a desired setpoint (SP) and a measured process variable (PV). The controller attempts to minimize the error over time using a control $a(t)$ of the form\n",
    "$$a(t) := K_p e(t) + K_i \\int_0^t e(\\tau) d\\tau + K_d \\frac{\\textrm{d}e(t)}{\\textrm{d}t}.$$\n",
    "\n",
    "In our setting, the PVs are the altitude and the angle of the lander. The SP is made of:\n",
    "- an altitude setpoint equal to $|x_{p}|$, where $x_p$ is the $x$-coordinate of the actual position of the lander. This coincides with the horizontal distance to the target, which is at the coordinates $(0,0)$.\n",
    "- an angle setpoint equal to $\\frac{\\pi}{4}(x_p + v_x)$, where $v_x$ is the $x$-component of the velocity of the lander.\n",
    "\n",
    "Here, the we will actually implement a PD controller (without integral component)."
   ]
  },
  {
   "cell_type": "markdown",
   "id": "49f00a95-f88e-4181-b9a5-e247d98873af",
   "metadata": {},
   "source": [
    "### Observation and action spaces"
   ]
  },
  {
   "cell_type": "markdown",
   "id": "cbebba3f-c7ea-43f9-8dba-3ce169c24c6e",
   "metadata": {},
   "source": [
    "At each timestep the lander has access to its current state, consisting of\n",
    "- the coordinates of the lander in $x$ and $y$;\n",
    "- the coordinates of its linear velocity in $x$ and $y$;\n",
    "- its angle;\n",
    "- its angular velocity;\n",
    "-  two booleans that represent whether each leg is in contact with the ground or not (touch sensors on each leg).\n",
    "\n",
    "As regards the actions, the first component of an action determines the throttle of the main engine, while the second component specifies the throttle of the lateral boosters."
   ]
  },
  {
   "cell_type": "markdown",
   "id": "3435ad88-59a9-4ec9-aa74-d83c1a7dd594",
   "metadata": {},
   "source": [
    "1. Write a function called `pd` that takes the state of the lander (8 components) and the array of PD\n",
    "   parameters (4 components) as inputs (both are `numpy` arrays) and returns a `numpy` array containing the action (2 throttle\n",
    "   components)."
   ]
  },
  {
   "cell_type": "code",
   "execution_count": 42,
   "id": "e788a42e-a46f-4732-9c65-2862d1f0312a",
   "metadata": {},
   "outputs": [],
   "source": [
    "def pd(state, params):\n",
    "    # ...\n",
    "        \n",
    "    # gym wants the controls as a np.array in which each entry\n",
    "    # belongs to the interval [-1,1]\n",
    "    a = np.array([a_y, a_angle])\n",
    "    a = np.clip(a, -1, +1)\n",
    "    \n",
    "    # If the legs are on the ground we made it, kill engines\n",
    "    if(touch_sensor_1 or touch_sensor_2):\n",
    "        a[:] = 0   \n",
    "    return a"
   ]
  },
  {
   "cell_type": "markdown",
   "id": "fb6d766a-0616-4954-8b40-9964e6fd3442",
   "metadata": {},
   "source": [
    "2. Write a function called `play` that plays one episode of the `LunarLander`\n",
    "   enviroment, until reaching termination or truncation. The function must take the\n",
    "   array of the PD parameters and a `gymnasium` environment as\n",
    "   inputs and return the corresponding total reward (score). The actions during the\n",
    "   game must be chosen using the `pd` function."
   ]
  },
  {
   "cell_type": "code",
   "execution_count": 43,
   "id": "66e7ecac-5421-42fd-83ac-ee1c4b21a574",
   "metadata": {},
   "outputs": [],
   "source": [
    "def play(params, env):\n",
    "    \n",
    "    # ...\n",
    "    \n",
    "    return score"
   ]
  },
  {
   "cell_type": "markdown",
   "id": "c2d0dc08-8d1b-435e-978c-5b6a028461ab",
   "metadata": {},
   "source": [
    "3. Write a [`pygmo`](https://esa.github.io/pygmo2/index.html) problem class (see docs\n",
    "   [here](https://esa.github.io/pygmo2/tutorials/coding_udp_simple.html)) for the tuning\n",
    "   of the PD controller parameters ($K_p$ and $K_d$ for altitude and angle, 4 in total).\n",
    "   The `fitness` method must return the average score over 5 episodes, for a given individual (set of PD parameters).\n",
    "   Limit the ranges of each of the paramteres to the interval $[-10,10]$."
   ]
  },
  {
   "cell_type": "code",
   "execution_count": null,
   "id": "61f4358e-ecf3-400b-8852-54efaf3c4d78",
   "metadata": {},
   "outputs": [],
   "source": []
  },
  {
   "cell_type": "markdown",
   "id": "c4cbe24e-1144-4df9-9f70-441f27ee3d24",
   "metadata": {},
   "source": [
    "4. Solve the optimization problem using a genetic algorithm (suggested initial settings: 20 generations, 20 individuals). Print the parameters of the PD at the end of the optimization."
   ]
  },
  {
   "cell_type": "code",
   "execution_count": 46,
   "id": "e69bd144-8bfa-451f-b73d-60173c00410b",
   "metadata": {},
   "outputs": [],
   "source": [
    "# play one game with the best parameters\n",
    "env_2 = gym.make(\"LunarLander-v2\", render_mode=\"human\", continuous=True)\n",
    "env_2.reset()\n",
    "_ = play(best_PD_params, env_2)\n",
    "env_2.close()"
   ]
  },
  {
   "cell_type": "markdown",
   "id": "ca1f74ad-5585-4286-bf71-1f97a038979e",
   "metadata": {},
   "source": [
    "5. Compute the average score over 1000 games obtained with the best PD controller."
   ]
  },
  {
   "cell_type": "code",
   "execution_count": null,
   "id": "d9c1e17d-8dec-4b2e-a129-8e3e911f9450",
   "metadata": {},
   "outputs": [],
   "source": []
  }
 ],
 "metadata": {
  "kernelspec": {
   "display_name": "Python 3 (ipykernel)",
   "language": "python",
   "name": "python3"
  },
  "language_info": {
   "codemirror_mode": {
    "name": "ipython",
    "version": 3
   },
   "file_extension": ".py",
   "mimetype": "text/x-python",
   "name": "python",
   "nbconvert_exporter": "python",
   "pygments_lexer": "ipython3",
   "version": "3.11.6"
  }
 },
 "nbformat": 4,
 "nbformat_minor": 5
}
