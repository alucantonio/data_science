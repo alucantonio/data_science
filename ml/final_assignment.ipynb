{
 "cells": [
  {
   "cell_type": "markdown",
   "id": "5a739ab4-8117-451c-93bb-3075fa390df2",
   "metadata": {},
   "source": [
    "# Data Science - Final Assignment"
   ]
  },
  {
   "cell_type": "markdown",
   "id": "32a92877-71e5-4397-87be-400cc664b286",
   "metadata": {},
   "source": [
    "The goal of the assignment is to implement two controllers for the _Pendulum_ environment of the _Gym_ library: a model-based controller and a model-free, neural network-based controller. Please **read carefully** the [documentation](https://gymnasium.farama.org/environments/classic_control/pendulum/) of environment before starting (focus on the state variables and controls). "
   ]
  },
  {
   "cell_type": "markdown",
   "id": "08b61d94-a10a-48f0-a0ab-5b331c66700c",
   "metadata": {},
   "source": [
    "The solution **must** be provided as a _Jupyter_ notebook, with all the cells evaluated. Use comments in the code and/or _Markdown_ cells to clarify some particular choices you took while solving the assignment (to overcome some issues or, for instance, the choice of hyperparameters to tune)."
   ]
  },
  {
   "cell_type": "markdown",
   "id": "416a5db5-b93a-4651-8555-93f677c87e03",
   "metadata": {},
   "source": [
    "For this assignment you will need to use some Python libraries. Here is a list of (potentially) useful imports:"
   ]
  },
  {
   "cell_type": "code",
   "execution_count": 1,
   "id": "65375b2f-eaff-4cce-b38e-87547f4b32fb",
   "metadata": {},
   "outputs": [],
   "source": [
    "import numpy as np\n",
    "import gymnasium as gym\n",
    "import matplotlib.pyplot as plt\n",
    "import pygmo as pg\n",
    "import torch\n",
    "from torch import nn\n",
    "from skorch import NeuralNetRegressor\n",
    "from sklearn.pipeline import Pipeline\n",
    "from sklearn.preprocessing import StandardScaler\n",
    "from sklearn.model_selection import GridSearchCV, train_test_split"
   ]
  },
  {
   "cell_type": "markdown",
   "id": "65567dd5-8ee2-4d5e-a59d-168211b1cc42",
   "metadata": {},
   "source": [
    "## Part 1: Model Predictive Control"
   ]
  },
  {
   "cell_type": "markdown",
   "id": "a8180829-7622-4339-9984-d4481a35cbfd",
   "metadata": {},
   "source": [
    "Implement a model-based controller that uses the Model Predictive Control (MPC) theory (see the slides in the _Genetic Algorithm_ set in the repo of the course) to **stabilize the pendulum in its upright position** ($\\theta = 0$, $\\omega = 0$). Please set the **gravity equal to 9.81** using the `g` argument of the `Pendulum-v1` environment. In general, you should follow these steps:\n",
    "\n",
    "1. Define the _cost_ function associated to the MPC: it must include the cost associated to the difference between the state of the system and the setpoints for the angle and the angular velocity. For the prediction of the future states, create another _Pendulum_ environment called `env_mpc` (separate from the one `main_env` that the controller is interacting with) and every time the cost function is evaluated initialize its state with the current state of the main environment using the following instruction: `env_mpc.unwrapped.state = main_env.unwrapped.state`. The main environment `main_env` should be passed as a parameter to the cost function.\n",
    "2. Define a function to play a \"game\" using a controller chosen by the user among the following: 1) MPC; 2) random; 3) Neural Network (see Part 2). The _initial conditions_ (angle and angular velocity) should be passed as parameters to this function and set appropriately at the beginning of the game using the `env.unwrapped.state` variable. For the MPC controller, at each time step an optimization problem must be solved that minimizes the cost function defined in Step 1 with respect to the control sequence (over the control horizon). The appropriate action should then be taken. Remember that the control variable has some bounds... The function should store and return the lists of _observations_ and corresponding _controls_ and the _total score_ associated to the game.\n",
    "3. Play _a few_ games with _random_ initial conditions (angle between -20 and +20 degrees and angular velocity between -0.1 and 0.1 rad/s) and compute the _average total score_. **You should get a total score above -10, at least in some games.** For one game, plot the angle and the angular velocity as a function of time, and the controls in a separate figure."
   ]
  },
  {
   "cell_type": "markdown",
   "id": "e44a7bc4-9cb9-45c9-8a95-45e915686c90",
   "metadata": {},
   "source": [
    "## Part 2: Neural Network controller"
   ]
  },
  {
   "cell_type": "markdown",
   "id": "53216e07-ff8f-43bf-9fe9-afbd8c6ff244",
   "metadata": {},
   "source": [
    "In this part, you will train a neural-network based controller based on the optimal control strategy found in Part 1. To this aim you should:\n",
    "1. Create a feedforward neural network that takes the current **observation** ($x$, $y$, $\\omega$) as an input and returns the **control** to be applied to the system. Make sure that the returned value is \"admissible\".\n",
    "2. Generate a training dataset by playing a certain number of games (suggested minimum 100) using the functions implemented in Part 1 and providing as random initial conditions an angle between -20 and 20 degrees and zero angular velocity. Note: this step may be _slow_. Remember to convert the dataset to `torch` tensors with float32 precision.\n",
    "3. **Train** and **select** the network (by exploring different _architectures_ and values for the _hyperparameters_).\n",
    "4. Play 2000 games using the function implemented in Step 1 with the controls given by the \"best\" network. Compute the average total score. **You should get an average score above -2.** Compare the average total score with that of a _random controller_."
   ]
  }
 ],
 "metadata": {
  "kernelspec": {
   "display_name": "Python 3 (ipykernel)",
   "language": "python",
   "name": "python3"
  },
  "language_info": {
   "codemirror_mode": {
    "name": "ipython",
    "version": 3
   },
   "file_extension": ".py",
   "mimetype": "text/x-python",
   "name": "python",
   "nbconvert_exporter": "python",
   "pygments_lexer": "ipython3",
   "version": "3.11.3"
  }
 },
 "nbformat": 4,
 "nbformat_minor": 5
}
