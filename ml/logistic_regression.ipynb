{
 "cells": [
  {
   "cell_type": "markdown",
   "id": "52c16ec9-834d-4803-b680-af1e17ccdf97",
   "metadata": {},
   "source": [
    "# Logistic regression"
   ]
  },
  {
   "cell_type": "code",
   "execution_count": null,
   "id": "b93777a9-7384-4460-90b1-3dac8449bce8",
   "metadata": {},
   "outputs": [],
   "source": [
    "import numpy as np\n",
    "import matplotlib.pyplot as plt"
   ]
  },
  {
   "cell_type": "markdown",
   "id": "5ab06f6e-69df-4913-a87f-c134d50ed15d",
   "metadata": {},
   "source": [
    "## Toy dataset"
   ]
  },
  {
   "cell_type": "code",
   "execution_count": null,
   "id": "808a3f0e-3723-469b-9a54-67ebfbb88afa",
   "metadata": {},
   "outputs": [],
   "source": [
    "# load and plot data\n",
    "X = np.loadtxt(\"data/logistic_regression/toy_logistic_X.csv\", delimiter = \",\")\n",
    "y = np.loadtxt(\"data/logistic_regression/toy_logistic_y.csv\", delimiter = \",\")\n",
    "plt.scatter(X[:,0], X[:,1], c=y)\n",
    "plt.show()"
   ]
  },
  {
   "cell_type": "code",
   "execution_count": null,
   "id": "e51ea3b6-b4cb-46b4-bd84-be6006c03c9a",
   "metadata": {},
   "outputs": [],
   "source": [
    "len(X)"
   ]
  },
  {
   "cell_type": "code",
   "execution_count": null,
   "id": "d5b56ddd-30c5-428b-8b87-b1ebb35753b4",
   "metadata": {},
   "outputs": [],
   "source": [
    "def sigmoid(x):\n",
    "    return 1/(1 + np.exp(-x))\n",
    "\n",
    "class LogisticRegression:\n",
    "    def __init__ (self, num_features):\n",
    "        self.weights = np.random.random_sample((num_features + 1,1))\n",
    "        \n",
    "    def fit(self, X, y, epochs, learning_rate):\n",
    "        # NOTE: the matrix X must have 1s in the first column\n",
    "        self.losses=[]\n",
    "\n",
    "        N = X.shape[0]\n",
    "                \n",
    "        for i in range(epochs):\n",
    "            # compute sigma(Xw)\n",
    "            outputs = self.activation(X)\n",
    "            residuals = outputs-y\n",
    "            # update weights\n",
    "            self.weights -= learning_rate/N*X.T @ residuals\n",
    "            # compute the cost\n",
    "            loss = (-y.T @ np.log(outputs)-(1 - y.T) @ np.log(1 - outputs))/N\n",
    "            self.losses.append(loss.item())\n",
    "        \n",
    "    def activation(self, X):\n",
    "        return sigmoid(X @ self.weights)   \n",
    "        \n",
    "    def predict(self, X):\n",
    "        return np.where(self.activation(X)>=0.5,1,0)"
   ]
  },
  {
   "cell_type": "code",
   "execution_count": null,
   "id": "607191ab-6bb1-47d5-84e6-fd4373107374",
   "metadata": {},
   "outputs": [],
   "source": [
    "# shuffling the dataset\n",
    "data = np.c_[X,y]\n",
    "np.random.shuffle(data)\n",
    "num_features = X.shape[1]\n",
    "X_shuffled = data[:,:num_features]\n",
    "y_shuffled = data[:,num_features]"
   ]
  },
  {
   "cell_type": "code",
   "execution_count": null,
   "id": "f6243587-92a2-485c-b786-b3a72a34629f",
   "metadata": {},
   "outputs": [],
   "source": [
    "# standardization of the dataset\n",
    "mean_X = np.mean(X_shuffled, axis=0)\n",
    "std_X = np.std(X_shuffled, axis=0)\n",
    "X_norm = (X_shuffled-mean_X)/std_X"
   ]
  },
  {
   "cell_type": "code",
   "execution_count": null,
   "id": "afc2f689-e80e-4028-b978-32587ad07b5f",
   "metadata": {},
   "outputs": [],
   "source": [
    "# train-test split (70%-30%)\n",
    "X_train=X_norm[:70]\n",
    "X_test=X_norm[70:]\n",
    "y_train=y_shuffled[:70].reshape(-1,1)\n",
    "y_test=y_shuffled[70:].reshape(-1,1)\n",
    "\n",
    "# adding column of ones\n",
    "X_train = np.hstack((np.ones((X_train.shape[0],1)), X_train))\n",
    "X_test = np.hstack((np.ones((X_test.shape[0],1)), X_test))"
   ]
  },
  {
   "cell_type": "code",
   "execution_count": null,
   "id": "9bbc49f3-ce4c-41ed-8371-b4402a673b8e",
   "metadata": {},
   "outputs": [],
   "source": [
    "lr = LogisticRegression(num_features=2)\n",
    "lr.fit(X=X_train, y=y_train, epochs=1000, learning_rate=0.1)\n",
    "\n",
    "y_pred=lr.predict(X_test)\n",
    "\n",
    "# evaluate accuracy\n",
    "print('Misclassifications:',(y_test!=y_pred).sum())"
   ]
  },
  {
   "cell_type": "code",
   "execution_count": null,
   "id": "6fa854dc-adec-4881-9815-3b57934253d3",
   "metadata": {},
   "outputs": [],
   "source": [
    "# Ploting training loss vs epoch number\n",
    "plt.plot(np.arange(1,len(lr.losses)+1,1),lr.losses)\n",
    "plt.show()"
   ]
  }
 ],
 "metadata": {
  "kernelspec": {
   "display_name": "Python 3 (ipykernel)",
   "language": "python",
   "name": "python3"
  },
  "language_info": {
   "codemirror_mode": {
    "name": "ipython",
    "version": 3
   },
   "file_extension": ".py",
   "mimetype": "text/x-python",
   "name": "python",
   "nbconvert_exporter": "python",
   "pygments_lexer": "ipython3",
   "version": "3.12.5"
  }
 },
 "nbformat": 4,
 "nbformat_minor": 5
}
